{
 "cells": [
  {
   "cell_type": "code",
   "execution_count": 1,
   "metadata": {},
   "outputs": [],
   "source": [
    "import pandas as pd\n",
    "import numpy as np\n",
    "from datetime import datetime"
   ]
  },
  {
   "cell_type": "markdown",
   "metadata": {},
   "source": [
    "###### The data set contains information and metrics for commercial domestic (USA) airline flights that departed from 2 separate airports located in Houston, TX (IAH and HOU) during the 2011 calendar year.\n",
    "\n",
    "- Year, Month, DayofMonth: date of departure 出发日期\n",
    "- DayOfWeek: day of week of departure (useful for removing weekend effects) 出发的星期第几日(适用于取消周末效果)\n",
    "- DepTime: departure time (in local time, hhmm) 起飞时间\n",
    "- ArrTime: arrival time (in local time, hhmm) 到达时间\n",
    "- UniqueCarrier: unique abbreviation for a carrier 承运人的唯一缩写\n",
    "- FlightNum: flight number 航班号\n",
    "- TailNum: airplane tail number 飞机尾数\n",
    "- ActualElapsedTime: elapsed time of flight, in minutes 飞行经过的时间，以分钟为单位\n",
    "- AirTime: flight time, in minutes 飞行时间，以分钟为单位\n",
    "- ArrDelay: arrival delay, in minutes, 到达延迟，以分钟为单位\n",
    "- DepDelay: departure delay, in minutes 起飞延误，以分钟为单位\n",
    "- Origin: origin airport code 起飞机场代码\n",
    "- Dest: destination airport code 目的地机场代码\n",
    "- Distance: distance of flight, in miles 飞行距离，单位为英里\n",
    "- TaxiIn: taxi in time in minutes 几分钟滑入\n",
    "- TaxiOut: taxi out time in minutes 几分钟滑出\n",
    "- Cancelled: cancelled indicator: 1 = Yes, 0 = No  取消\n",
    "- CancellationCode: reason for cancellation: A = carrier, B = weather, C = national air system, D = security 取消原因:A =承运人，B =天气，C =国家航空系统，D =安全\n",
    "- Diverted: diverted indicator: 1 = Yes, 0 = No 转移指示"
   ]
  },
  {
   "cell_type": "code",
   "execution_count": 2,
   "metadata": {},
   "outputs": [],
   "source": [
    "\"\"\"\n",
    "to read the hflights and get the DataFrame . \n",
    "\"\"\"\n",
    "\n",
    "filename = \"https://raw.githubusercontent.com/jtopor/DAV-5400/master/Project1/hflights.csv\"\n",
    "hflights_df = pd.read_csv(filename)"
   ]
  },
  {
   "cell_type": "code",
   "execution_count": 3,
   "metadata": {},
   "outputs": [
    {
     "data": {
      "text/html": [
       "<div>\n",
       "<style scoped>\n",
       "    .dataframe tbody tr th:only-of-type {\n",
       "        vertical-align: middle;\n",
       "    }\n",
       "\n",
       "    .dataframe tbody tr th {\n",
       "        vertical-align: top;\n",
       "    }\n",
       "\n",
       "    .dataframe thead th {\n",
       "        text-align: right;\n",
       "    }\n",
       "</style>\n",
       "<table border=\"1\" class=\"dataframe\">\n",
       "  <thead>\n",
       "    <tr style=\"text-align: right;\">\n",
       "      <th></th>\n",
       "      <th>Year</th>\n",
       "      <th>Month</th>\n",
       "      <th>DayofMonth</th>\n",
       "      <th>DayOfWeek</th>\n",
       "      <th>DepTime</th>\n",
       "      <th>ArrTime</th>\n",
       "      <th>UniqueCarrier</th>\n",
       "      <th>FlightNum</th>\n",
       "      <th>TailNum</th>\n",
       "      <th>ActualElapsedTime</th>\n",
       "      <th>...</th>\n",
       "      <th>ArrDelay</th>\n",
       "      <th>DepDelay</th>\n",
       "      <th>Origin</th>\n",
       "      <th>Dest</th>\n",
       "      <th>Distance</th>\n",
       "      <th>TaxiIn</th>\n",
       "      <th>TaxiOut</th>\n",
       "      <th>Cancelled</th>\n",
       "      <th>CancellationCode</th>\n",
       "      <th>Diverted</th>\n",
       "    </tr>\n",
       "  </thead>\n",
       "  <tbody>\n",
       "    <tr>\n",
       "      <th>0</th>\n",
       "      <td>2011</td>\n",
       "      <td>1</td>\n",
       "      <td>1</td>\n",
       "      <td>6</td>\n",
       "      <td>1400.0</td>\n",
       "      <td>1500.0</td>\n",
       "      <td>AA</td>\n",
       "      <td>428</td>\n",
       "      <td>N576AA</td>\n",
       "      <td>60.0</td>\n",
       "      <td>...</td>\n",
       "      <td>-10.0</td>\n",
       "      <td>0.0</td>\n",
       "      <td>IAH</td>\n",
       "      <td>DFW</td>\n",
       "      <td>224</td>\n",
       "      <td>7.0</td>\n",
       "      <td>13.0</td>\n",
       "      <td>0</td>\n",
       "      <td>NaN</td>\n",
       "      <td>0</td>\n",
       "    </tr>\n",
       "    <tr>\n",
       "      <th>1</th>\n",
       "      <td>2011</td>\n",
       "      <td>1</td>\n",
       "      <td>2</td>\n",
       "      <td>7</td>\n",
       "      <td>1401.0</td>\n",
       "      <td>1501.0</td>\n",
       "      <td>AA</td>\n",
       "      <td>428</td>\n",
       "      <td>N557AA</td>\n",
       "      <td>60.0</td>\n",
       "      <td>...</td>\n",
       "      <td>-9.0</td>\n",
       "      <td>1.0</td>\n",
       "      <td>IAH</td>\n",
       "      <td>DFW</td>\n",
       "      <td>224</td>\n",
       "      <td>6.0</td>\n",
       "      <td>9.0</td>\n",
       "      <td>0</td>\n",
       "      <td>NaN</td>\n",
       "      <td>0</td>\n",
       "    </tr>\n",
       "    <tr>\n",
       "      <th>2</th>\n",
       "      <td>2011</td>\n",
       "      <td>1</td>\n",
       "      <td>3</td>\n",
       "      <td>1</td>\n",
       "      <td>1352.0</td>\n",
       "      <td>1502.0</td>\n",
       "      <td>AA</td>\n",
       "      <td>428</td>\n",
       "      <td>N541AA</td>\n",
       "      <td>70.0</td>\n",
       "      <td>...</td>\n",
       "      <td>-8.0</td>\n",
       "      <td>-8.0</td>\n",
       "      <td>IAH</td>\n",
       "      <td>DFW</td>\n",
       "      <td>224</td>\n",
       "      <td>5.0</td>\n",
       "      <td>17.0</td>\n",
       "      <td>0</td>\n",
       "      <td>NaN</td>\n",
       "      <td>0</td>\n",
       "    </tr>\n",
       "    <tr>\n",
       "      <th>3</th>\n",
       "      <td>2011</td>\n",
       "      <td>1</td>\n",
       "      <td>4</td>\n",
       "      <td>2</td>\n",
       "      <td>1403.0</td>\n",
       "      <td>1513.0</td>\n",
       "      <td>AA</td>\n",
       "      <td>428</td>\n",
       "      <td>N403AA</td>\n",
       "      <td>70.0</td>\n",
       "      <td>...</td>\n",
       "      <td>3.0</td>\n",
       "      <td>3.0</td>\n",
       "      <td>IAH</td>\n",
       "      <td>DFW</td>\n",
       "      <td>224</td>\n",
       "      <td>9.0</td>\n",
       "      <td>22.0</td>\n",
       "      <td>0</td>\n",
       "      <td>NaN</td>\n",
       "      <td>0</td>\n",
       "    </tr>\n",
       "    <tr>\n",
       "      <th>4</th>\n",
       "      <td>2011</td>\n",
       "      <td>1</td>\n",
       "      <td>5</td>\n",
       "      <td>3</td>\n",
       "      <td>1405.0</td>\n",
       "      <td>1507.0</td>\n",
       "      <td>AA</td>\n",
       "      <td>428</td>\n",
       "      <td>N492AA</td>\n",
       "      <td>62.0</td>\n",
       "      <td>...</td>\n",
       "      <td>-3.0</td>\n",
       "      <td>5.0</td>\n",
       "      <td>IAH</td>\n",
       "      <td>DFW</td>\n",
       "      <td>224</td>\n",
       "      <td>9.0</td>\n",
       "      <td>9.0</td>\n",
       "      <td>0</td>\n",
       "      <td>NaN</td>\n",
       "      <td>0</td>\n",
       "    </tr>\n",
       "  </tbody>\n",
       "</table>\n",
       "<p>5 rows × 21 columns</p>\n",
       "</div>"
      ],
      "text/plain": [
       "   Year  Month  DayofMonth  DayOfWeek  DepTime  ArrTime UniqueCarrier  \\\n",
       "0  2011      1           1          6   1400.0   1500.0            AA   \n",
       "1  2011      1           2          7   1401.0   1501.0            AA   \n",
       "2  2011      1           3          1   1352.0   1502.0            AA   \n",
       "3  2011      1           4          2   1403.0   1513.0            AA   \n",
       "4  2011      1           5          3   1405.0   1507.0            AA   \n",
       "\n",
       "   FlightNum TailNum  ActualElapsedTime  ...  ArrDelay  DepDelay  Origin Dest  \\\n",
       "0        428  N576AA               60.0  ...     -10.0       0.0     IAH  DFW   \n",
       "1        428  N557AA               60.0  ...      -9.0       1.0     IAH  DFW   \n",
       "2        428  N541AA               70.0  ...      -8.0      -8.0     IAH  DFW   \n",
       "3        428  N403AA               70.0  ...       3.0       3.0     IAH  DFW   \n",
       "4        428  N492AA               62.0  ...      -3.0       5.0     IAH  DFW   \n",
       "\n",
       "  Distance  TaxiIn  TaxiOut  Cancelled  CancellationCode Diverted  \n",
       "0      224     7.0     13.0          0               NaN        0  \n",
       "1      224     6.0      9.0          0               NaN        0  \n",
       "2      224     5.0     17.0          0               NaN        0  \n",
       "3      224     9.0     22.0          0               NaN        0  \n",
       "4      224     9.0      9.0          0               NaN        0  \n",
       "\n",
       "[5 rows x 21 columns]"
      ]
     },
     "execution_count": 3,
     "metadata": {},
     "output_type": "execute_result"
    }
   ],
   "source": [
    "\"\"\"\n",
    "Show the 5 rows\n",
    "\"\"\"\n",
    "hflights_df.head(5)"
   ]
  },
  {
   "cell_type": "code",
   "execution_count": 4,
   "metadata": {},
   "outputs": [
    {
     "data": {
      "text/plain": [
       "Index(['Year', 'Month', 'DayofMonth', 'DayOfWeek', 'DepTime', 'ArrTime',\n",
       "       'UniqueCarrier', 'FlightNum', 'TailNum', 'ActualElapsedTime', 'AirTime',\n",
       "       'ArrDelay', 'DepDelay', 'Origin', 'Dest', 'Distance', 'TaxiIn',\n",
       "       'TaxiOut', 'Cancelled', 'CancellationCode', 'Diverted'],\n",
       "      dtype='object')"
      ]
     },
     "execution_count": 4,
     "metadata": {},
     "output_type": "execute_result"
    }
   ],
   "source": [
    "# show the columns\n",
    "flt_col_names = hflights_df.columns\n",
    "flt_col_names"
   ]
  },
  {
   "cell_type": "markdown",
   "metadata": {},
   "source": [
    "# 1 No one likes airplane delays, especially when it's waiting to take off. \n",
    "### The TaxiIn column shows how long does a plane take to take off. The larger the TaxiIn, the longer the wait. I want to show customers which Airlines has the largest TaxiIn value.\n",
    "\n",
    "##### My analysis has 3 parts\n",
    "- 1_1) Finding out the mean of TaxiIn of all carriers\n",
    "- 1_2) Finding out the carriers who's the mean of TaxiIn is large than the mean of TaxiIn of all carriers. Then, finding out FlightNums of these carriers.\n",
    "- 1_3) Finding out dates that are the mean of TaxiIn is large than the mean of TaxiIn of all carriers."
   ]
  },
  {
   "cell_type": "markdown",
   "metadata": {},
   "source": [
    "##### 1_1) Finding out the mean of TaxiIn of all carriers\n",
    "- step1) Grouping by Airlines, then finding out the mean of TaxiIn, then sorting them\n",
    "- step2) Using bar chart to show the result"
   ]
  },
  {
   "cell_type": "code",
   "execution_count": 5,
   "metadata": {},
   "outputs": [],
   "source": [
    "# To get a sub-dataframe.  Colomns are UniqueCarrier, TaxiIn and TaxiOut\n",
    "sub_df_1 = hflights_df[['UniqueCarrier', 'TaxiIn', 'TaxiOut']]\n",
    "\n",
    "# To group by UniqueCarrier. To calculate the mean of TaxiIn and TaxiOut\n",
    "sub_avg_df_1 = sub_df_1.groupby('UniqueCarrier').mean().sort_values(by = 'TaxiIn')"
   ]
  },
  {
   "cell_type": "code",
   "execution_count": 6,
   "metadata": {
    "scrolled": true
   },
   "outputs": [
    {
     "data": {
      "text/plain": [
       "<matplotlib.lines.Line2D at 0x12858fc0e48>"
      ]
     },
     "execution_count": 6,
     "metadata": {},
     "output_type": "execute_result"
    },
    {
     "data": {
      "image/png": "[encoded data removed]",
      "text/plain": [
       "<Figure size 432x288 with 1 Axes>"
      ]
     },
     "metadata": {
      "needs_background": "light"
     },
     "output_type": "display_data"
    }
   ],
   "source": [
    "# To calculate the mean of All TaxiIn and TaxiOut\n",
    "avg_all_in_out_df = sub_avg_df_1.mean()\n",
    "\n",
    "# Using bar chart to show the mean of TaxiIn and TaxiOut which group by UniqueCarrier\n",
    "sub_avg_df_1.plot.bar().axhline(y = avg_all_in_out_df['TaxiIn'], color = \"blue\")\n",
    "\n",
    "# sub_avg_df_1.plot.bar().axhline(y = avg_all_in_out_df['TaxiOut'], color = \"orange\")"
   ]
  },
  {
   "cell_type": "markdown",
   "metadata": {},
   "source": [
    "### 1_1) Brief sum-up\n",
    "- 1) The summary statistics for the mean TaxiIn of carries is that there are 7 carries that their means of TaxiIn are larger than the mean of All, as evidenced by previous bar chart.\n",
    "- 2) These carries are 'UA', 'AA', 'US', 'EV', 'MQ', 'FL' ,and 'DL'"
   ]
  },
  {
   "cell_type": "markdown",
   "metadata": {},
   "source": [
    "### 1_2) Finding out FlightNums which belong to 'UA', 'AA', 'US', 'EV', 'MQ', 'FL' ,and 'DL'\n",
    "\n",
    "- step1) Finding out carries that their means TaxiIn are large than the mean All TaxiIn\n",
    "- step2) Finding out FlightNums of step1)'s carries\n",
    "- step3) Finding out FlightNums that their TaxiIns are large than the mean All TaxiIn"
   ]
  },
  {
   "cell_type": "code",
   "execution_count": 7,
   "metadata": {},
   "outputs": [
    {
     "data": {
      "text/plain": [
       "Index(['UA', 'AA', 'US', 'EV', 'MQ', 'FL', 'DL'], dtype='object', name='UniqueCarrier')"
      ]
     },
     "execution_count": 7,
     "metadata": {},
     "output_type": "execute_result"
    }
   ],
   "source": [
    "# step1) Finding out carries that their means TaxiIn are large than the mean All TaxiIn\n",
    "taxiin_lg_mean_carriers = sub_avg_df_1[sub_avg_df_1['TaxiIn'] >= avg_all_in_out_df['TaxiIn']].index\n",
    "taxiin_lg_mean_carriers\n"
   ]
  },
  {
   "cell_type": "code",
   "execution_count": 8,
   "metadata": {},
   "outputs": [
    {
     "data": {
      "text/html": [
       "<div>\n",
       "<style scoped>\n",
       "    .dataframe tbody tr th:only-of-type {\n",
       "        vertical-align: middle;\n",
       "    }\n",
       "\n",
       "    .dataframe tbody tr th {\n",
       "        vertical-align: top;\n",
       "    }\n",
       "\n",
       "    .dataframe thead th {\n",
       "        text-align: right;\n",
       "    }\n",
       "</style>\n",
       "<table border=\"1\" class=\"dataframe\">\n",
       "  <thead>\n",
       "    <tr style=\"text-align: right;\">\n",
       "      <th></th>\n",
       "      <th>Year</th>\n",
       "      <th>Month</th>\n",
       "      <th>DayofMonth</th>\n",
       "      <th>UniqueCarrier</th>\n",
       "      <th>FlightNum</th>\n",
       "      <th>TaxiIn</th>\n",
       "    </tr>\n",
       "  </thead>\n",
       "  <tbody>\n",
       "    <tr>\n",
       "      <th>3</th>\n",
       "      <td>2011</td>\n",
       "      <td>1</td>\n",
       "      <td>4</td>\n",
       "      <td>AA</td>\n",
       "      <td>428</td>\n",
       "      <td>9.0</td>\n",
       "    </tr>\n",
       "    <tr>\n",
       "      <th>4</th>\n",
       "      <td>2011</td>\n",
       "      <td>1</td>\n",
       "      <td>5</td>\n",
       "      <td>AA</td>\n",
       "      <td>428</td>\n",
       "      <td>9.0</td>\n",
       "    </tr>\n",
       "    <tr>\n",
       "      <th>6</th>\n",
       "      <td>2011</td>\n",
       "      <td>1</td>\n",
       "      <td>7</td>\n",
       "      <td>AA</td>\n",
       "      <td>428</td>\n",
       "      <td>12.0</td>\n",
       "    </tr>\n",
       "    <tr>\n",
       "      <th>8</th>\n",
       "      <td>2011</td>\n",
       "      <td>1</td>\n",
       "      <td>9</td>\n",
       "      <td>AA</td>\n",
       "      <td>428</td>\n",
       "      <td>8.0</td>\n",
       "    </tr>\n",
       "    <tr>\n",
       "      <th>10</th>\n",
       "      <td>2011</td>\n",
       "      <td>1</td>\n",
       "      <td>11</td>\n",
       "      <td>AA</td>\n",
       "      <td>428</td>\n",
       "      <td>8.0</td>\n",
       "    </tr>\n",
       "    <tr>\n",
       "      <th>...</th>\n",
       "      <td>...</td>\n",
       "      <td>...</td>\n",
       "      <td>...</td>\n",
       "      <td>...</td>\n",
       "      <td>...</td>\n",
       "      <td>...</td>\n",
       "    </tr>\n",
       "    <tr>\n",
       "      <th>19140</th>\n",
       "      <td>2011</td>\n",
       "      <td>2</td>\n",
       "      <td>13</td>\n",
       "      <td>AA</td>\n",
       "      <td>2185</td>\n",
       "      <td>9.0</td>\n",
       "    </tr>\n",
       "    <tr>\n",
       "      <th>19143</th>\n",
       "      <td>2011</td>\n",
       "      <td>2</td>\n",
       "      <td>16</td>\n",
       "      <td>AA</td>\n",
       "      <td>2185</td>\n",
       "      <td>10.0</td>\n",
       "    </tr>\n",
       "    <tr>\n",
       "      <th>19144</th>\n",
       "      <td>2011</td>\n",
       "      <td>2</td>\n",
       "      <td>17</td>\n",
       "      <td>AA</td>\n",
       "      <td>2185</td>\n",
       "      <td>16.0</td>\n",
       "    </tr>\n",
       "    <tr>\n",
       "      <th>19145</th>\n",
       "      <td>2011</td>\n",
       "      <td>2</td>\n",
       "      <td>18</td>\n",
       "      <td>AA</td>\n",
       "      <td>2185</td>\n",
       "      <td>9.0</td>\n",
       "    </tr>\n",
       "    <tr>\n",
       "      <th>19150</th>\n",
       "      <td>2011</td>\n",
       "      <td>2</td>\n",
       "      <td>23</td>\n",
       "      <td>AA</td>\n",
       "      <td>2185</td>\n",
       "      <td>8.0</td>\n",
       "    </tr>\n",
       "  </tbody>\n",
       "</table>\n",
       "<p>971 rows × 6 columns</p>\n",
       "</div>"
      ],
      "text/plain": [
       "       Year  Month  DayofMonth UniqueCarrier  FlightNum  TaxiIn\n",
       "3      2011      1           4            AA        428     9.0\n",
       "4      2011      1           5            AA        428     9.0\n",
       "6      2011      1           7            AA        428    12.0\n",
       "8      2011      1           9            AA        428     8.0\n",
       "10     2011      1          11            AA        428     8.0\n",
       "...     ...    ...         ...           ...        ...     ...\n",
       "19140  2011      2          13            AA       2185     9.0\n",
       "19143  2011      2          16            AA       2185    10.0\n",
       "19144  2011      2          17            AA       2185    16.0\n",
       "19145  2011      2          18            AA       2185     9.0\n",
       "19150  2011      2          23            AA       2185     8.0\n",
       "\n",
       "[971 rows x 6 columns]"
      ]
     },
     "execution_count": 8,
     "metadata": {},
     "output_type": "execute_result"
    }
   ],
   "source": [
    "# step2) Finding out FlightNums of step1)'s carries\n",
    "sub_df_1_1 = hflights_df[hflights_df['UniqueCarrier']\n",
    "                         .isin(taxiin_lg_mean_carriers.to_list())][['Year', 'Month', 'DayofMonth', 'UniqueCarrier','FlightNum', 'TaxiIn']]\n",
    "\n",
    "# step3) Finding out FlightNums that their TaxiIns are large than the mean All TaxiIn\n",
    "lt_flt_df = sub_df_1_1[sub_df_1_1['TaxiIn'] > avg_all_in_out_df['TaxiIn']]\n",
    "\n",
    "# print\n",
    "lt_flt_df"
   ]
  },
  {
   "cell_type": "markdown",
   "metadata": {},
   "source": [
    "### 1_2) Brief sum-up\n",
    "To summary, in 'UA', 'AA', 'US', 'EV', 'MQ', 'FL' and 'DL', there are 971 FlightNums that their TaxiIn values are larger than the mean of all (7.8), as evidenced by pervious table. "
   ]
  },
  {
   "cell_type": "markdown",
   "metadata": {},
   "source": [
    "### 1_3) Finding out the top 30 of these FlightNums\n",
    "- step1) finding out top 30 TaxiIn in 'UA', 'AA', 'US', 'EV', 'MQ', 'FL' and 'DL'\n",
    "- step2) grouping by UniqueCarrier and counting flights, then showing as pie chart"
   ]
  },
  {
   "cell_type": "code",
   "execution_count": 9,
   "metadata": {},
   "outputs": [],
   "source": [
    "# step1) finding out top 30 TaxiIn in 'UA', 'AA', 'US', 'EV', 'MQ', 'FL' and 'DL'\n",
    "lt_flt_df_top30 = lt_flt_df.sort_values(by = 'TaxiIn', ascending=False).head(30)\n"
   ]
  },
  {
   "cell_type": "code",
   "execution_count": 10,
   "metadata": {},
   "outputs": [
    {
     "data": {
      "text/plain": [
       "<matplotlib.axes._subplots.AxesSubplot at 0x12859bd7bc8>"
      ]
     },
     "execution_count": 10,
     "metadata": {},
     "output_type": "execute_result"
    },
    {
     "data": {
      "image/png": "[encoded data removed]",
      "text/plain": [
       "<Figure size 432x288 with 1 Axes>"
      ]
     },
     "metadata": {},
     "output_type": "display_data"
    }
   ],
   "source": [
    "# step2) grouping by UniqueCarrier and counting flights, then showing as pie chart\n",
    "pie_top30 = lt_flt_df_top30.groupby('UniqueCarrier').size()\n",
    "\n",
    "pie_top30.plot.pie()"
   ]
  },
  {
   "cell_type": "markdown",
   "metadata": {},
   "source": [
    "### 1_3) Brief sum-up\n",
    "To summary, in top30 TaxiIn values, the MQ has the most delayed flights, as evidenced by pie chart.\n",
    "\n",
    "\n",
    "# 1 Summarize\n",
    "'UA', 'AA', 'US', 'EV', 'MQ', 'FL' ,and 'DL' have high probability of TaxiIn delay. Thees 7 carries have 971 FligntNums that have high TaxiIn value. Customers should choose other carries, if they do not like waiting on planes to take off."
   ]
  },
  {
   "cell_type": "markdown",
   "metadata": {},
   "source": [
    "# 1 ----------------------            end           --------------------------------"
   ]
  },
  {
   "cell_type": "code",
   "execution_count": 11,
   "metadata": {},
   "outputs": [
    {
     "data": {
      "text/html": [
       "<div>\n",
       "<style scoped>\n",
       "    .dataframe tbody tr th:only-of-type {\n",
       "        vertical-align: middle;\n",
       "    }\n",
       "\n",
       "    .dataframe tbody tr th {\n",
       "        vertical-align: top;\n",
       "    }\n",
       "\n",
       "    .dataframe thead th {\n",
       "        text-align: right;\n",
       "    }\n",
       "</style>\n",
       "<table border=\"1\" class=\"dataframe\">\n",
       "  <thead>\n",
       "    <tr style=\"text-align: right;\">\n",
       "      <th></th>\n",
       "      <th></th>\n",
       "      <th>Year</th>\n",
       "      <th>Month</th>\n",
       "      <th>DayofMonth</th>\n",
       "      <th>DayOfWeek</th>\n",
       "      <th>DepTime</th>\n",
       "      <th>ArrTime</th>\n",
       "      <th>FlightNum</th>\n",
       "      <th>ActualElapsedTime</th>\n",
       "      <th>AirTime</th>\n",
       "      <th>ArrDelay</th>\n",
       "      <th>DepDelay</th>\n",
       "      <th>Distance</th>\n",
       "      <th>TaxiIn</th>\n",
       "      <th>TaxiOut</th>\n",
       "      <th>Cancelled</th>\n",
       "      <th>Diverted</th>\n",
       "    </tr>\n",
       "    <tr>\n",
       "      <th>UniqueCarrier</th>\n",
       "      <th>Origin</th>\n",
       "      <th></th>\n",
       "      <th></th>\n",
       "      <th></th>\n",
       "      <th></th>\n",
       "      <th></th>\n",
       "      <th></th>\n",
       "      <th></th>\n",
       "      <th></th>\n",
       "      <th></th>\n",
       "      <th></th>\n",
       "      <th></th>\n",
       "      <th></th>\n",
       "      <th></th>\n",
       "      <th></th>\n",
       "      <th></th>\n",
       "      <th></th>\n",
       "    </tr>\n",
       "  </thead>\n",
       "  <tbody>\n",
       "    <tr>\n",
       "      <th>AA</th>\n",
       "      <th>IAH</th>\n",
       "      <td>2011.0</td>\n",
       "      <td>1.473988</td>\n",
       "      <td>15.298651</td>\n",
       "      <td>3.984586</td>\n",
       "      <td>1241.401186</td>\n",
       "      <td>1429.554455</td>\n",
       "      <td>1236.379576</td>\n",
       "      <td>90.656746</td>\n",
       "      <td>67.303571</td>\n",
       "      <td>0.950397</td>\n",
       "      <td>5.610672</td>\n",
       "      <td>476.369942</td>\n",
       "      <td>8.720792</td>\n",
       "      <td>14.654150</td>\n",
       "      <td>0.026975</td>\n",
       "      <td>0.001927</td>\n",
       "    </tr>\n",
       "    <tr>\n",
       "      <th>AS</th>\n",
       "      <th>IAH</th>\n",
       "      <td>2011.0</td>\n",
       "      <td>1.474576</td>\n",
       "      <td>15.288136</td>\n",
       "      <td>4.033898</td>\n",
       "      <td>1832.949153</td>\n",
       "      <td>2041.644068</td>\n",
       "      <td>731.000000</td>\n",
       "      <td>289.672414</td>\n",
       "      <td>267.258621</td>\n",
       "      <td>9.396552</td>\n",
       "      <td>4.559322</td>\n",
       "      <td>1874.000000</td>\n",
       "      <td>5.423729</td>\n",
       "      <td>16.983051</td>\n",
       "      <td>0.000000</td>\n",
       "      <td>0.016949</td>\n",
       "    </tr>\n",
       "    <tr>\n",
       "      <th>B6</th>\n",
       "      <th>HOU</th>\n",
       "      <td>2011.0</td>\n",
       "      <td>1.490000</td>\n",
       "      <td>15.500000</td>\n",
       "      <td>3.980000</td>\n",
       "      <td>1153.925532</td>\n",
       "      <td>1594.478723</td>\n",
       "      <td>622.040000</td>\n",
       "      <td>194.000000</td>\n",
       "      <td>172.537634</td>\n",
       "      <td>11.086022</td>\n",
       "      <td>18.234043</td>\n",
       "      <td>1428.000000</td>\n",
       "      <td>6.723404</td>\n",
       "      <td>14.702128</td>\n",
       "      <td>0.060000</td>\n",
       "      <td>0.010000</td>\n",
       "    </tr>\n",
       "    <tr>\n",
       "      <th>CO</th>\n",
       "      <th>IAH</th>\n",
       "      <td>2011.0</td>\n",
       "      <td>1.112299</td>\n",
       "      <td>17.111127</td>\n",
       "      <td>4.122987</td>\n",
       "      <td>1429.993214</td>\n",
       "      <td>1647.357533</td>\n",
       "      <td>897.769107</td>\n",
       "      <td>167.018620</td>\n",
       "      <td>141.644894</td>\n",
       "      <td>5.366780</td>\n",
       "      <td>9.881251</td>\n",
       "      <td>1070.459736</td>\n",
       "      <td>6.845507</td>\n",
       "      <td>18.523753</td>\n",
       "      <td>0.007760</td>\n",
       "      <td>0.001464</td>\n",
       "    </tr>\n",
       "    <tr>\n",
       "      <th>DL</th>\n",
       "      <th>HOU</th>\n",
       "      <td>2011.0</td>\n",
       "      <td>1.000000</td>\n",
       "      <td>16.965517</td>\n",
       "      <td>4.022989</td>\n",
       "      <td>969.794872</td>\n",
       "      <td>1259.512821</td>\n",
       "      <td>1435.057471</td>\n",
       "      <td>115.871795</td>\n",
       "      <td>90.538462</td>\n",
       "      <td>3.615385</td>\n",
       "      <td>6.589744</td>\n",
       "      <td>696.000000</td>\n",
       "      <td>11.307692</td>\n",
       "      <td>14.025641</td>\n",
       "      <td>0.103448</td>\n",
       "      <td>0.000000</td>\n",
       "    </tr>\n",
       "  </tbody>\n",
       "</table>\n",
       "</div>"
      ],
      "text/plain": [
       "                        Year     Month  DayofMonth  DayOfWeek      DepTime  \\\n",
       "UniqueCarrier Origin                                                         \n",
       "AA            IAH     2011.0  1.473988   15.298651   3.984586  1241.401186   \n",
       "AS            IAH     2011.0  1.474576   15.288136   4.033898  1832.949153   \n",
       "B6            HOU     2011.0  1.490000   15.500000   3.980000  1153.925532   \n",
       "CO            IAH     2011.0  1.112299   17.111127   4.122987  1429.993214   \n",
       "DL            HOU     2011.0  1.000000   16.965517   4.022989   969.794872   \n",
       "\n",
       "                          ArrTime    FlightNum  ActualElapsedTime     AirTime  \\\n",
       "UniqueCarrier Origin                                                            \n",
       "AA            IAH     1429.554455  1236.379576          90.656746   67.303571   \n",
       "AS            IAH     2041.644068   731.000000         289.672414  267.258621   \n",
       "B6            HOU     1594.478723   622.040000         194.000000  172.537634   \n",
       "CO            IAH     1647.357533   897.769107         167.018620  141.644894   \n",
       "DL            HOU     1259.512821  1435.057471         115.871795   90.538462   \n",
       "\n",
       "                       ArrDelay   DepDelay     Distance     TaxiIn    TaxiOut  \\\n",
       "UniqueCarrier Origin                                                            \n",
       "AA            IAH      0.950397   5.610672   476.369942   8.720792  14.654150   \n",
       "AS            IAH      9.396552   4.559322  1874.000000   5.423729  16.983051   \n",
       "B6            HOU     11.086022  18.234043  1428.000000   6.723404  14.702128   \n",
       "CO            IAH      5.366780   9.881251  1070.459736   6.845507  18.523753   \n",
       "DL            HOU      3.615385   6.589744   696.000000  11.307692  14.025641   \n",
       "\n",
       "                      Cancelled  Diverted  \n",
       "UniqueCarrier Origin                       \n",
       "AA            IAH      0.026975  0.001927  \n",
       "AS            IAH      0.000000  0.016949  \n",
       "B6            HOU      0.060000  0.010000  \n",
       "CO            IAH      0.007760  0.001464  \n",
       "DL            HOU      0.103448  0.000000  "
      ]
     },
     "execution_count": 11,
     "metadata": {},
     "output_type": "execute_result"
    }
   ],
   "source": [
    "# sub_df_2 = hflights_df[['UniqueCarrier', 'TaxiIn', 'TaxiOut']]\n",
    "sub_agg_df_2 = hflights_df.groupby(['UniqueCarrier', 'Origin']).mean()\n",
    "sub_agg_df_2.head(5)"
   ]
  },
  {
   "cell_type": "markdown",
   "metadata": {},
   "source": [
    "# 2 ------------------- start --------------------------------"
   ]
  },
  {
   "cell_type": "markdown",
   "metadata": {},
   "source": [
    "# 2 Finding out the carries with the highest ArrDelay\n",
    "\n",
    "- Arrival delay equals the difference of the actual arrival time minus the scheduled arrival time. A flight is considered on-time when it arrives less than 15 minutes after its \n",
    "- if ArrDelay is less than 15, the flight is on time. "
   ]
  },
  {
   "cell_type": "code",
   "execution_count": 12,
   "metadata": {},
   "outputs": [
    {
     "data": {
      "text/plain": [
       "<matplotlib.axes._subplots.AxesSubplot at 0x12859c756c8>"
      ]
     },
     "execution_count": 12,
     "metadata": {},
     "output_type": "execute_result"
    },
    {
     "data": {
      "image/png": "[encoded data removed]",
      "text/plain": [
       "<Figure size 432x288 with 1 Axes>"
      ]
     },
     "metadata": {
      "needs_background": "light"
     },
     "output_type": "display_data"
    }
   ],
   "source": [
    "# To choose sub dataframe\n",
    "arr_delay_df = hflights_df[['Year', 'Month', 'DayofMonth', 'UniqueCarrier', 'FlightNum', 'ArrDelay', 'DepDelay']]\n",
    "\n",
    "# To delete all rows which ArrDealy is NaN\n",
    "no_nan_arr_delay_df = arr_delay_df.dropna()\n",
    "\n",
    "# To find out all ArrDelay is large equal than 15\n",
    "le_15_delay_df = no_nan_arr_delay_df[no_nan_arr_delay_df['ArrDelay'] >= 15] \n",
    "\n",
    "# To calculate mean of ArrDelay grouped by 'UniqueCarrier'\n",
    "group_carrier_avg_df = le_15_delay_df[['UniqueCarrier', 'ArrDelay']].groupby('UniqueCarrier').mean().sort_values(by = 'ArrDelay', ascending=False)\n",
    "\n",
    "# To show them as a bar chart.\n",
    "group_carrier_avg_df.plot.bar()"
   ]
  },
  {
   "cell_type": "markdown",
   "metadata": {},
   "source": [
    "### Image analysis \n",
    "- In the bar chart, the EV, B6 and DL have higher ArrDelay values than other carries."
   ]
  },
  {
   "cell_type": "code",
   "execution_count": 13,
   "metadata": {},
   "outputs": [
    {
     "data": {
      "text/plain": [
       "<matplotlib.axes._subplots.AxesSubplot at 0x12859d1ccc8>"
      ]
     },
     "execution_count": 13,
     "metadata": {},
     "output_type": "execute_result"
    },
    {
     "data": {
      "image/png": "[encoded data removed]",
      "text/plain": [
       "<Figure size 432x288 with 1 Axes>"
      ]
     },
     "metadata": {},
     "output_type": "display_data"
    }
   ],
   "source": [
    "# To get the number of ArrDelay flights groubed by 'UniqueCarrier'\n",
    "pie_carrier_size_df = le_15_delay_df[['UniqueCarrier', 'ArrDelay']].groupby('UniqueCarrier').size()\n",
    "\n",
    "# # To show them as a pie chart.\n",
    "pie_carrier_size_df.sort_values().plot.pie()"
   ]
  },
  {
   "cell_type": "markdown",
   "metadata": {},
   "source": [
    "### Image analysis\n",
    "- In this pie chart, the CO, XE and WN account for over 80% areas. It means that the 3 carries has more ArrDelay flights than other carries."
   ]
  },
  {
   "cell_type": "code",
   "execution_count": 14,
   "metadata": {},
   "outputs": [
    {
     "data": {
      "text/plain": [
       "<matplotlib.axes._subplots.AxesSubplot at 0x1285ad67f48>"
      ]
     },
     "execution_count": 14,
     "metadata": {},
     "output_type": "execute_result"
    },
    {
     "data": {
      "image/png": "[encoded data removed]",
      "text/plain": [
       "<Figure size 432x288 with 1 Axes>"
      ]
     },
     "metadata": {
      "needs_background": "light"
     },
     "output_type": "display_data"
    }
   ],
   "source": [
    "# bar chart can see count values.\n",
    "pie_carrier_size_df.sort_values().plot.bar()"
   ]
  },
  {
   "cell_type": "markdown",
   "metadata": {},
   "source": [
    "### Image analysis\n",
    "- In this bar chart, the CO, XE and WN have over 1000, 1100 and 1400 arrdelay flights, respectively."
   ]
  },
  {
   "cell_type": "markdown",
   "metadata": {},
   "source": [
    "- How to agg a value and rename a column\n",
    "\n",
    "- method 1\n",
    "```python\n",
    "gb = df.groupby(['col1', 'col2'])\n",
    "counts = gb.size().to_frame(name='counts')\n",
    " (counts\n",
    "  .join(gb.agg({'col3': 'mean'}).rename(columns={'col3': 'col3_mean'}))\n",
    "  .join(gb.agg({'col4': 'median'}).rename(columns={'col4': 'col4_median'}))\n",
    "  .join(gb.agg({'col4': 'min'}).rename(columns={'col4': 'col4_min'}))\n",
    "  .reset_index()\n",
    " ) \n",
    "```\n",
    "\n",
    "\n",
    "Sample 1\n",
    "\n",
    "gb = le_15_delay_df.groupby(['UniqueCarrier'])\n",
    "counts = gb.size().to_frame(name='counts')\n",
    "(counts.join(gb.agg({'ArrDelay': 'mean'}).rename(columns={'ArrDelay': 'ArrDelay_mean'})).join(gb.agg({'ArrDelay': 'median'}).rename(columns={'ArrDelay': 'ArrDelay_median'})).reset_index())\n",
    "\n",
    "\n",
    "\n",
    "Sample 2\n",
    "\n",
    "df.groupby(['UniqueCarrier']).agg({'ArrDelay': ['mean', 'count']})\n",
    "\n",
    "Sample 3\n",
    "\n",
    "gp_flt_avg_df = le_15_delay_df.groupby(['UniqueCarrier', 'FlightNum']).agg({'ArrDelay': ['mean', 'min', 'count'], 'DepDelay': ['median', 'min', 'count']})\n",
    "gp_flt_avg_df"
   ]
  },
  {
   "cell_type": "code",
   "execution_count": 15,
   "metadata": {},
   "outputs": [
    {
     "data": {
      "text/html": [
       "<div>\n",
       "<style scoped>\n",
       "    .dataframe tbody tr th:only-of-type {\n",
       "        vertical-align: middle;\n",
       "    }\n",
       "\n",
       "    .dataframe tbody tr th {\n",
       "        vertical-align: top;\n",
       "    }\n",
       "\n",
       "    .dataframe thead tr th {\n",
       "        text-align: left;\n",
       "    }\n",
       "\n",
       "    .dataframe thead tr:last-of-type th {\n",
       "        text-align: right;\n",
       "    }\n",
       "</style>\n",
       "<table border=\"1\" class=\"dataframe\">\n",
       "  <thead>\n",
       "    <tr>\n",
       "      <th></th>\n",
       "      <th colspan=\"2\" halign=\"left\">ArrDelay</th>\n",
       "    </tr>\n",
       "    <tr>\n",
       "      <th></th>\n",
       "      <th>mean</th>\n",
       "      <th>count</th>\n",
       "    </tr>\n",
       "    <tr>\n",
       "      <th>UniqueCarrier</th>\n",
       "      <th></th>\n",
       "      <th></th>\n",
       "    </tr>\n",
       "  </thead>\n",
       "  <tbody>\n",
       "    <tr>\n",
       "      <th>F9</th>\n",
       "      <td>34.090909</td>\n",
       "      <td>22</td>\n",
       "    </tr>\n",
       "    <tr>\n",
       "      <th>FL</th>\n",
       "      <td>36.500000</td>\n",
       "      <td>22</td>\n",
       "    </tr>\n",
       "    <tr>\n",
       "      <th>XE</th>\n",
       "      <td>37.321924</td>\n",
       "      <td>1081</td>\n",
       "    </tr>\n",
       "    <tr>\n",
       "      <th>AS</th>\n",
       "      <td>37.444444</td>\n",
       "      <td>18</td>\n",
       "    </tr>\n",
       "    <tr>\n",
       "      <th>WN</th>\n",
       "      <td>38.383130</td>\n",
       "      <td>984</td>\n",
       "    </tr>\n",
       "    <tr>\n",
       "      <th>OO</th>\n",
       "      <td>39.290541</td>\n",
       "      <td>148</td>\n",
       "    </tr>\n",
       "    <tr>\n",
       "      <th>UA</th>\n",
       "      <td>39.928571</td>\n",
       "      <td>14</td>\n",
       "    </tr>\n",
       "    <tr>\n",
       "      <th>CO</th>\n",
       "      <td>40.788269</td>\n",
       "      <td>1398</td>\n",
       "    </tr>\n",
       "    <tr>\n",
       "      <th>AA</th>\n",
       "      <td>45.519481</td>\n",
       "      <td>77</td>\n",
       "    </tr>\n",
       "    <tr>\n",
       "      <th>US</th>\n",
       "      <td>49.541667</td>\n",
       "      <td>24</td>\n",
       "    </tr>\n",
       "    <tr>\n",
       "      <th>MQ</th>\n",
       "      <td>55.430556</td>\n",
       "      <td>72</td>\n",
       "    </tr>\n",
       "    <tr>\n",
       "      <th>DL</th>\n",
       "      <td>59.384615</td>\n",
       "      <td>39</td>\n",
       "    </tr>\n",
       "    <tr>\n",
       "      <th>B6</th>\n",
       "      <td>84.619048</td>\n",
       "      <td>21</td>\n",
       "    </tr>\n",
       "    <tr>\n",
       "      <th>EV</th>\n",
       "      <td>103.900000</td>\n",
       "      <td>20</td>\n",
       "    </tr>\n",
       "  </tbody>\n",
       "</table>\n",
       "</div>"
      ],
      "text/plain": [
       "                 ArrDelay      \n",
       "                     mean count\n",
       "UniqueCarrier                  \n",
       "F9              34.090909    22\n",
       "FL              36.500000    22\n",
       "XE              37.321924  1081\n",
       "AS              37.444444    18\n",
       "WN              38.383130   984\n",
       "OO              39.290541   148\n",
       "UA              39.928571    14\n",
       "CO              40.788269  1398\n",
       "AA              45.519481    77\n",
       "US              49.541667    24\n",
       "MQ              55.430556    72\n",
       "DL              59.384615    39\n",
       "B6              84.619048    21\n",
       "EV             103.900000    20"
      ]
     },
     "execution_count": 15,
     "metadata": {},
     "output_type": "execute_result"
    }
   ],
   "source": [
    "# le_15_delay_df.groupby(['UniqueCarrier']).agg({'ArrDelay': ['mean', 'count'], 'DepDelay': ['median', 'min', 'count']})\n",
    "\n",
    "# To use agg() to calculate mean and count for each carrier\n",
    "tb_ad = le_15_delay_df.groupby(['UniqueCarrier']).agg({'ArrDelay': ['mean', 'count']})\n",
    "\n",
    "# there are combine columns ('ArrDelay',  'mean') and ('ArrDelay',  'count')\n",
    "tb_ad.sort_values(by=[('ArrDelay',  'mean')])"
   ]
  },
  {
   "cell_type": "markdown",
   "metadata": {},
   "source": [
    "### Table analysis\n",
    "- In this table, EV has the highest mean of ArrDelay value, and the CO has the highest count of ArrDelay flights."
   ]
  },
  {
   "cell_type": "markdown",
   "metadata": {},
   "source": [
    "# 2 Summarize\n",
    "\n",
    "The EV, B6 and DL have higher ArrDelay values than other carries. But the CO, XE and WN account for over 80% areas. It means that the 3 carries has more ArrDelay flights than other carries. EV has the highest mean of ArrDelay value. In contrast, the CO has the highest count of ArrDelay flights. The evidences demostrated by pervious charts and tables. Customers should not choose CO, XE and WN."
   ]
  },
  {
   "cell_type": "markdown",
   "metadata": {},
   "source": [
    "# 2 ------------------- end --------------------------------"
   ]
  },
  {
   "cell_type": "markdown",
   "metadata": {},
   "source": [
    "# 3 ------------------- start --------------------------------"
   ]
  },
  {
   "cell_type": "markdown",
   "metadata": {},
   "source": [
    "# 3 Find out the daily number of flight pattern\n",
    "- step1) Create a new column. Value is MM/DD/YYYY that combines with Year, Month, and DayofMonth.\n",
    "- step2) To count the number of flights grouped by MM/DD/YYYY"
   ]
  },
  {
   "cell_type": "code",
   "execution_count": 16,
   "metadata": {},
   "outputs": [
    {
     "name": "stderr",
     "output_type": "stream",
     "text": [
      "D:\\dev\\anaconda3\\lib\\site-packages\\ipykernel_launcher.py:3: SettingWithCopyWarning: \n",
      "A value is trying to be set on a copy of a slice from a DataFrame.\n",
      "Try using .loc[row_indexer,col_indexer] = value instead\n",
      "\n",
      "See the caveats in the documentation: https://pandas.pydata.org/pandas-docs/stable/user_guide/indexing.html#returning-a-view-versus-a-copy\n",
      "  This is separate from the ipykernel package so we can avoid doing imports until\n"
     ]
    }
   ],
   "source": [
    "# create a new colomn. Name is Date_MDY. Value isfor MM/DD/YYYY.\n",
    "sub_df_3 = hflights_df[['Year', 'Month', 'DayofMonth']]\n",
    "sub_df_3['Date_MDY'] = sub_df_3.apply(lambda x: datetime(x['Year'], x['Month'], x['DayofMonth'], 0, 0).strftime('%m/%d/%Y'), axis=1)"
   ]
  },
  {
   "cell_type": "code",
   "execution_count": 17,
   "metadata": {},
   "outputs": [
    {
     "data": {
      "text/html": [
       "<div>\n",
       "<style scoped>\n",
       "    .dataframe tbody tr th:only-of-type {\n",
       "        vertical-align: middle;\n",
       "    }\n",
       "\n",
       "    .dataframe tbody tr th {\n",
       "        vertical-align: top;\n",
       "    }\n",
       "\n",
       "    .dataframe thead th {\n",
       "        text-align: right;\n",
       "    }\n",
       "</style>\n",
       "<table border=\"1\" class=\"dataframe\">\n",
       "  <thead>\n",
       "    <tr style=\"text-align: right;\">\n",
       "      <th></th>\n",
       "      <th>Year</th>\n",
       "      <th>Month</th>\n",
       "      <th>DayofMonth</th>\n",
       "      <th>Date_MDY</th>\n",
       "    </tr>\n",
       "  </thead>\n",
       "  <tbody>\n",
       "    <tr>\n",
       "      <th>0</th>\n",
       "      <td>2011</td>\n",
       "      <td>1</td>\n",
       "      <td>1</td>\n",
       "      <td>01/01/2011</td>\n",
       "    </tr>\n",
       "    <tr>\n",
       "      <th>1</th>\n",
       "      <td>2011</td>\n",
       "      <td>1</td>\n",
       "      <td>2</td>\n",
       "      <td>01/02/2011</td>\n",
       "    </tr>\n",
       "    <tr>\n",
       "      <th>2</th>\n",
       "      <td>2011</td>\n",
       "      <td>1</td>\n",
       "      <td>3</td>\n",
       "      <td>01/03/2011</td>\n",
       "    </tr>\n",
       "    <tr>\n",
       "      <th>3</th>\n",
       "      <td>2011</td>\n",
       "      <td>1</td>\n",
       "      <td>4</td>\n",
       "      <td>01/04/2011</td>\n",
       "    </tr>\n",
       "    <tr>\n",
       "      <th>4</th>\n",
       "      <td>2011</td>\n",
       "      <td>1</td>\n",
       "      <td>5</td>\n",
       "      <td>01/05/2011</td>\n",
       "    </tr>\n",
       "  </tbody>\n",
       "</table>\n",
       "</div>"
      ],
      "text/plain": [
       "   Year  Month  DayofMonth    Date_MDY\n",
       "0  2011      1           1  01/01/2011\n",
       "1  2011      1           2  01/02/2011\n",
       "2  2011      1           3  01/03/2011\n",
       "3  2011      1           4  01/04/2011\n",
       "4  2011      1           5  01/05/2011"
      ]
     },
     "execution_count": 17,
     "metadata": {},
     "output_type": "execute_result"
    }
   ],
   "source": [
    "sub_df_3.head(5)"
   ]
  },
  {
   "cell_type": "code",
   "execution_count": 18,
   "metadata": {},
   "outputs": [
    {
     "data": {
      "text/plain": [
       "<matplotlib.axes._subplots.AxesSubplot at 0x1285af75048>"
      ]
     },
     "execution_count": 18,
     "metadata": {},
     "output_type": "execute_result"
    },
    {
     "data": {
      "image/png": "[encoded data removed]",
      "text/plain": [
       "<Figure size 432x288 with 1 Axes>"
      ]
     },
     "metadata": {
      "needs_background": "light"
     },
     "output_type": "display_data"
    }
   ],
   "source": [
    "# count number of flight grouped by Date_MDY\n",
    "plot_gp_ymd_size_df = sub_df_3.groupby('Date_MDY').size()\n",
    "\n",
    "# draw a line chart\n",
    "plot_gp_ymd_size_df.plot()"
   ]
  },
  {
   "cell_type": "code",
   "execution_count": 19,
   "metadata": {},
   "outputs": [
    {
     "data": {
      "text/html": [
       "<div>\n",
       "<style scoped>\n",
       "    .dataframe tbody tr th:only-of-type {\n",
       "        vertical-align: middle;\n",
       "    }\n",
       "\n",
       "    .dataframe tbody tr th {\n",
       "        vertical-align: top;\n",
       "    }\n",
       "\n",
       "    .dataframe thead th {\n",
       "        text-align: right;\n",
       "    }\n",
       "</style>\n",
       "<table border=\"1\" class=\"dataframe\">\n",
       "  <thead>\n",
       "    <tr style=\"text-align: right;\">\n",
       "      <th></th>\n",
       "      <th>counts</th>\n",
       "    </tr>\n",
       "    <tr>\n",
       "      <th>Date_MDY</th>\n",
       "      <th></th>\n",
       "    </tr>\n",
       "  </thead>\n",
       "  <tbody>\n",
       "    <tr>\n",
       "      <th>01/08/2011</th>\n",
       "      <td>500</td>\n",
       "    </tr>\n",
       "    <tr>\n",
       "      <th>01/15/2011</th>\n",
       "      <td>487</td>\n",
       "    </tr>\n",
       "    <tr>\n",
       "      <th>01/22/2011</th>\n",
       "      <td>488</td>\n",
       "    </tr>\n",
       "    <tr>\n",
       "      <th>01/29/2011</th>\n",
       "      <td>488</td>\n",
       "    </tr>\n",
       "  </tbody>\n",
       "</table>\n",
       "</div>"
      ],
      "text/plain": [
       "            counts\n",
       "Date_MDY          \n",
       "01/08/2011     500\n",
       "01/15/2011     487\n",
       "01/22/2011     488\n",
       "01/29/2011     488"
      ]
     },
     "execution_count": 19,
     "metadata": {},
     "output_type": "execute_result"
    }
   ],
   "source": [
    "plot_gp_ymd_size_df = sub_df_3[(sub_df_3['Month'] == 1) & (sub_df_3['DayofMonth'] <= 31)].groupby('Date_MDY').size().to_frame(name='counts')\n",
    "\n",
    "plot_gp_ymd_size_df[plot_gp_ymd_size_df['counts'] < 550]"
   ]
  },
  {
   "cell_type": "markdown",
   "metadata": {},
   "source": [
    "# Summarize\n",
    "- In this line chart, In Jan. 2011, the number of flights dropped to around 500 each weekend. In the first 20 days of February 2011, the number of flights dropped to around 20, but it rose rapidly to more than over in the remaning days of February. The evidences demostrated by pervious charts and tables.  \n",
    "\n",
    "- Customers should book tickets in advance if they want to travel on weekends because the number of flight is less than the weekdays in January."
   ]
  },
  {
   "cell_type": "markdown",
   "metadata": {},
   "source": [
    "# 3 ------------------- end --------------------------------"
   ]
  },
  {
   "cell_type": "markdown",
   "metadata": {},
   "source": [
    "# 4 ------------------- start --------------------------------"
   ]
  },
  {
   "cell_type": "markdown",
   "metadata": {},
   "source": [
    "# 4 Finding out where is the popular destination\n",
    "- Customer can choose the popular destination as their tourist destination.\n",
    "\n",
    "\n",
    "### step1) Finding out where is the largest number of flights of origin.\n",
    "### step2) Which carrier hasthe largest number of flights.\n",
    "### step3.1) Finding out the popular destination from HOU\n",
    "### step3.2) Finding out the popular destination from IAH\n",
    "\n"
   ]
  },
  {
   "cell_type": "code",
   "execution_count": 20,
   "metadata": {},
   "outputs": [
    {
     "data": {
      "text/html": [
       "<div>\n",
       "<style scoped>\n",
       "    .dataframe tbody tr th:only-of-type {\n",
       "        vertical-align: middle;\n",
       "    }\n",
       "\n",
       "    .dataframe tbody tr th {\n",
       "        vertical-align: top;\n",
       "    }\n",
       "\n",
       "    .dataframe thead th {\n",
       "        text-align: right;\n",
       "    }\n",
       "</style>\n",
       "<table border=\"1\" class=\"dataframe\">\n",
       "  <thead>\n",
       "    <tr style=\"text-align: right;\">\n",
       "      <th></th>\n",
       "      <th>Year</th>\n",
       "      <th>Month</th>\n",
       "      <th>DayofMonth</th>\n",
       "      <th>UniqueCarrier</th>\n",
       "      <th>FlightNum</th>\n",
       "      <th>Origin</th>\n",
       "      <th>Dest</th>\n",
       "    </tr>\n",
       "  </thead>\n",
       "  <tbody>\n",
       "    <tr>\n",
       "      <th>0</th>\n",
       "      <td>2011</td>\n",
       "      <td>1</td>\n",
       "      <td>1</td>\n",
       "      <td>AA</td>\n",
       "      <td>428</td>\n",
       "      <td>IAH</td>\n",
       "      <td>DFW</td>\n",
       "    </tr>\n",
       "    <tr>\n",
       "      <th>1</th>\n",
       "      <td>2011</td>\n",
       "      <td>1</td>\n",
       "      <td>2</td>\n",
       "      <td>AA</td>\n",
       "      <td>428</td>\n",
       "      <td>IAH</td>\n",
       "      <td>DFW</td>\n",
       "    </tr>\n",
       "    <tr>\n",
       "      <th>2</th>\n",
       "      <td>2011</td>\n",
       "      <td>1</td>\n",
       "      <td>3</td>\n",
       "      <td>AA</td>\n",
       "      <td>428</td>\n",
       "      <td>IAH</td>\n",
       "      <td>DFW</td>\n",
       "    </tr>\n",
       "    <tr>\n",
       "      <th>3</th>\n",
       "      <td>2011</td>\n",
       "      <td>1</td>\n",
       "      <td>4</td>\n",
       "      <td>AA</td>\n",
       "      <td>428</td>\n",
       "      <td>IAH</td>\n",
       "      <td>DFW</td>\n",
       "    </tr>\n",
       "    <tr>\n",
       "      <th>4</th>\n",
       "      <td>2011</td>\n",
       "      <td>1</td>\n",
       "      <td>5</td>\n",
       "      <td>AA</td>\n",
       "      <td>428</td>\n",
       "      <td>IAH</td>\n",
       "      <td>DFW</td>\n",
       "    </tr>\n",
       "  </tbody>\n",
       "</table>\n",
       "</div>"
      ],
      "text/plain": [
       "   Year  Month  DayofMonth UniqueCarrier  FlightNum Origin Dest\n",
       "0  2011      1           1            AA        428    IAH  DFW\n",
       "1  2011      1           2            AA        428    IAH  DFW\n",
       "2  2011      1           3            AA        428    IAH  DFW\n",
       "3  2011      1           4            AA        428    IAH  DFW\n",
       "4  2011      1           5            AA        428    IAH  DFW"
      ]
     },
     "execution_count": 20,
     "metadata": {},
     "output_type": "execute_result"
    }
   ],
   "source": [
    "# To get sub dataframe\n",
    "sub_df_3 = hflights_df[['Year', 'Month', 'DayofMonth', 'UniqueCarrier', 'FlightNum', 'Origin', 'Dest']]\n",
    "sub_df_3.head(5)"
   ]
  },
  {
   "cell_type": "code",
   "execution_count": 21,
   "metadata": {},
   "outputs": [
    {
     "name": "stdout",
     "output_type": "stream",
     "text": [
      "Origin\n",
      "HOU     4319\n",
      "IAH    15681\n",
      "dtype: int64\n"
     ]
    },
    {
     "data": {
      "text/plain": [
       "<matplotlib.axes._subplots.AxesSubplot at 0x1285affa0c8>"
      ]
     },
     "execution_count": 21,
     "metadata": {},
     "output_type": "execute_result"
    },
    {
     "data": {
      "image/png": "[encoded data removed]",
      "text/plain": [
       "<Figure size 432x288 with 1 Axes>"
      ]
     },
     "metadata": {},
     "output_type": "display_data"
    }
   ],
   "source": [
    "# To calculate the count of Origin\n",
    "gb_ori_df = sub_df_3.groupby(['Origin']).size()\n",
    "\n",
    "print(gb_ori_df)\n",
    "\n",
    "# To show a pie chart\n",
    "gb_ori_df.plot.pie()"
   ]
  },
  {
   "cell_type": "markdown",
   "metadata": {},
   "source": [
    "### Chart analysis\n",
    "- In this pie chart, the number of flight from IAH is 3 times than the number of flight from HOU. "
   ]
  },
  {
   "cell_type": "code",
   "execution_count": 22,
   "metadata": {},
   "outputs": [
    {
     "data": {
      "text/plain": [
       "<matplotlib.axes._subplots.AxesSubplot at 0x1285b029b08>"
      ]
     },
     "execution_count": 22,
     "metadata": {},
     "output_type": "execute_result"
    },
    {
     "data": {
      "image/png": "[encoded data removed]",
      "text/plain": [
       "<Figure size 432x288 with 1 Axes>"
      ]
     },
     "metadata": {
      "needs_background": "light"
     },
     "output_type": "display_data"
    }
   ],
   "source": [
    "# To calculate the number of flights to Dest\n",
    "gb_des_df = sub_df_3.groupby(['Dest']).size()\n",
    "\n",
    "# To show a bar chart\n",
    "gb_des_df.sort_values(ascending = False).head(20).plot.bar() # top 20 destinations"
   ]
  },
  {
   "cell_type": "markdown",
   "metadata": {},
   "source": [
    "### Chart analysis\n",
    "- In this bar chart, DAL, DFW and MSY are the top three most popular destinations, as evidence by this bar chart."
   ]
  },
  {
   "cell_type": "code",
   "execution_count": 23,
   "metadata": {},
   "outputs": [
    {
     "data": {
      "text/plain": [
       "<matplotlib.axes._subplots.AxesSubplot at 0x1285b0fd608>"
      ]
     },
     "execution_count": 23,
     "metadata": {},
     "output_type": "execute_result"
    },
    {
     "data": {
      "image/png": "[encoded data removed]",
      "text/plain": [
       "<Figure size 432x288 with 1 Axes>"
      ]
     },
     "metadata": {
      "needs_background": "light"
     },
     "output_type": "display_data"
    }
   ],
   "source": [
    "# To calculate the number of flights from HOU, and to group by Dest\n",
    "gb_des_df = sub_df_3[sub_df_3['Origin'] == 'HOU'].groupby(['Dest']).size()\n",
    "\n",
    "# To show a bar chart\n",
    "gb_des_df.sort_values(ascending=False).head(20).plot.bar() # from HOU to top 20 destinations"
   ]
  },
  {
   "cell_type": "markdown",
   "metadata": {},
   "source": [
    "### Chart analysis\n",
    "- Taking off from HOU, DAL, MSY and ATL are the top three most popular destinations , as evidence by this bar chart."
   ]
  },
  {
   "cell_type": "code",
   "execution_count": 24,
   "metadata": {},
   "outputs": [
    {
     "data": {
      "text/plain": [
       "<matplotlib.axes._subplots.AxesSubplot at 0x1285b1b5cc8>"
      ]
     },
     "execution_count": 24,
     "metadata": {},
     "output_type": "execute_result"
    },
    {
     "data": {
      "image/png": "[encoded data removed]",
      "text/plain": [
       "<Figure size 432x288 with 1 Axes>"
      ]
     },
     "metadata": {
      "needs_background": "light"
     },
     "output_type": "display_data"
    }
   ],
   "source": [
    "# To calculate the number of flights from HOU, and to group by Dest\n",
    "gb_des_df = sub_df_3[sub_df_3['Origin'] == 'IAH'].groupby(['Dest']).size()\n",
    "\n",
    "# To show a bar chart\n",
    "gb_des_df.sort_values(ascending=False).head(20).plot.bar() # from IAH to top 20 destinations"
   ]
  },
  {
   "cell_type": "markdown",
   "metadata": {},
   "source": [
    "### Chart analysis\n",
    "- Taking off from IAH, DFW, ORD and CLT are the top three most popular destinations , as evidence by this bar chart.\n",
    "\n",
    "# Summarize\n",
    "- The number of flight taking off IAH is 3 times than the number of flight taking off HOU. \n",
    "- DAL, DFW and MSY are the top three most popular destinations。\n",
    "- Taking off from HOU, the top three most popular destinations are DAL, DFW and MSY. In contrast, DAL, MSY and ATL are the top three most popular destinations, which taked off from IAH\n",
    "- Customers can go to DAL and MSY as tourist destinations."
   ]
  },
  {
   "cell_type": "markdown",
   "metadata": {},
   "source": [
    "# 4 ------------------- end --------------------------------"
   ]
  },
  {
   "cell_type": "code",
   "execution_count": null,
   "metadata": {},
   "outputs": [],
   "source": []
  }
 ],
 "metadata": {
  "kernelspec": {
   "display_name": "Python 3",
   "language": "python",
   "name": "python3"
  },
  "language_info": {
   "codemirror_mode": {
    "name": "ipython",
    "version": 3
   },
   "file_extension": ".py",
   "mimetype": "text/x-python",
   "name": "python",
   "nbconvert_exporter": "python",
   "pygments_lexer": "ipython3",
   "version": "3.7.6"
  }
 },
 "nbformat": 4,
 "nbformat_minor": 4
}
