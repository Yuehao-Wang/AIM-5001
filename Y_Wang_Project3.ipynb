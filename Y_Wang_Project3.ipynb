{
 "cells": [
  {
   "cell_type": "code",
   "execution_count": 1,
   "metadata": {},
   "outputs": [],
   "source": [
    "import re\n",
    "import pandas as pd"
   ]
  },
  {
   "cell_type": "code",
   "execution_count": null,
   "metadata": {},
   "outputs": [],
   "source": []
  },
  {
   "cell_type": "code",
   "execution_count": 2,
   "metadata": {},
   "outputs": [],
   "source": [
    "#f1 = open(r\"./data/tournamentinfo.txt\")\n",
    "f1 = open(r\"./data/tournamentinfo.txt\")\n",
    "lines = f1.readlines()      #read all line of txt\n",
    "lst = []\n",
    "j = 0\n",
    "for line in lines:\n",
    "    # print(line)\n",
    "    mod3 = j % 3\n",
    "    \n",
    "    if j > 2:\n",
    "        inners = []\n",
    "        if mod3 == 1:\n",
    "            # first line of same player \n",
    "            lst.append(line)\n",
    "        elif mod3 == 2:\n",
    "            lst.append(line)\n",
    "    \n",
    "    j = j + 1\n",
    "\n",
    "# print(lst)"
   ]
  },
  {
   "cell_type": "code",
   "execution_count": 3,
   "metadata": {},
   "outputs": [
    {
     "data": {
      "text/plain": [
       "128"
      ]
     },
     "execution_count": 3,
     "metadata": {},
     "output_type": "execute_result"
    }
   ],
   "source": [
    "size = len(lst)\n",
    "size"
   ]
  },
  {
   "cell_type": "code",
   "execution_count": 4,
   "metadata": {},
   "outputs": [
    {
     "data": {
      "text/plain": [
       "['    1 | GARY HUA                        |6.0  |W  39|W  21|W  18|W  14|W   7|D  12|D   4|\\n',\n",
       " '   ON | 15445895 / R: 1794   ->1817     |N:2  |W    |B    |W    |B    |W    |B    |W    |\\n']"
      ]
     },
     "execution_count": 4,
     "metadata": {},
     "output_type": "execute_result"
    }
   ],
   "source": [
    "step = 2\n",
    " \n",
    "player_2_lines = [lst[i:i+step] for i in range(0, len(lst), step)]\n",
    "\n",
    "player_2_lines[0]"
   ]
  },
  {
   "cell_type": "markdown",
   "metadata": {},
   "source": [
    "# task 1\n",
    "- get paly number, play name, total point, then put into dataframe of pandas, then export to a csv file."
   ]
  },
  {
   "cell_type": "code",
   "execution_count": 5,
   "metadata": {},
   "outputs": [],
   "source": [
    "all_play = []\n",
    "for player in player_2_lines:\n",
    "    line_1 = player[0]\n",
    "    line_2 = player[1]\n",
    "    \n",
    "    player_dic = {}\n",
    "    line_1_list = re.split('\\|', line_1)\n",
    "    \n",
    "    player_num = line_1_list[0].strip()\n",
    "    player_dic[player_num] = ['']\n",
    "    \n",
    "    p = [line_1_list[0].strip(), line_1_list[1].strip(), line_1_list[2].strip()]\n",
    "    all_play.append(p)\n",
    "\n",
    "#print(all_play)"
   ]
  },
  {
   "cell_type": "code",
   "execution_count": 6,
   "metadata": {},
   "outputs": [
    {
     "data": {
      "text/html": [
       "<div>\n",
       "<style scoped>\n",
       "    .dataframe tbody tr th:only-of-type {\n",
       "        vertical-align: middle;\n",
       "    }\n",
       "\n",
       "    .dataframe tbody tr th {\n",
       "        vertical-align: top;\n",
       "    }\n",
       "\n",
       "    .dataframe thead th {\n",
       "        text-align: right;\n",
       "    }\n",
       "</style>\n",
       "<table border=\"1\" class=\"dataframe\">\n",
       "  <thead>\n",
       "    <tr style=\"text-align: right;\">\n",
       "      <th></th>\n",
       "      <th>player_num</th>\n",
       "      <th>player_name</th>\n",
       "      <th>total_points</th>\n",
       "    </tr>\n",
       "  </thead>\n",
       "  <tbody>\n",
       "    <tr>\n",
       "      <th>0</th>\n",
       "      <td>1</td>\n",
       "      <td>GARY HUA</td>\n",
       "      <td>6.0</td>\n",
       "    </tr>\n",
       "    <tr>\n",
       "      <th>1</th>\n",
       "      <td>2</td>\n",
       "      <td>DAKSHESH DARURI</td>\n",
       "      <td>6.0</td>\n",
       "    </tr>\n",
       "    <tr>\n",
       "      <th>2</th>\n",
       "      <td>3</td>\n",
       "      <td>ADITYA BAJAJ</td>\n",
       "      <td>6.0</td>\n",
       "    </tr>\n",
       "    <tr>\n",
       "      <th>3</th>\n",
       "      <td>4</td>\n",
       "      <td>PATRICK H SCHILLING</td>\n",
       "      <td>5.5</td>\n",
       "    </tr>\n",
       "    <tr>\n",
       "      <th>4</th>\n",
       "      <td>5</td>\n",
       "      <td>HANSHI ZUO</td>\n",
       "      <td>5.5</td>\n",
       "    </tr>\n",
       "    <tr>\n",
       "      <th>...</th>\n",
       "      <td>...</td>\n",
       "      <td>...</td>\n",
       "      <td>...</td>\n",
       "    </tr>\n",
       "    <tr>\n",
       "      <th>59</th>\n",
       "      <td>60</td>\n",
       "      <td>JULIA SHEN</td>\n",
       "      <td>1.5</td>\n",
       "    </tr>\n",
       "    <tr>\n",
       "      <th>60</th>\n",
       "      <td>61</td>\n",
       "      <td>JEZZEL FARKAS</td>\n",
       "      <td>1.5</td>\n",
       "    </tr>\n",
       "    <tr>\n",
       "      <th>61</th>\n",
       "      <td>62</td>\n",
       "      <td>ASHWIN BALAJI</td>\n",
       "      <td>1.0</td>\n",
       "    </tr>\n",
       "    <tr>\n",
       "      <th>62</th>\n",
       "      <td>63</td>\n",
       "      <td>THOMAS JOSEPH HOSMER</td>\n",
       "      <td>1.0</td>\n",
       "    </tr>\n",
       "    <tr>\n",
       "      <th>63</th>\n",
       "      <td>64</td>\n",
       "      <td>BEN LI</td>\n",
       "      <td>1.0</td>\n",
       "    </tr>\n",
       "  </tbody>\n",
       "</table>\n",
       "<p>64 rows × 3 columns</p>\n",
       "</div>"
      ],
      "text/plain": [
       "   player_num           player_name total_points\n",
       "0           1              GARY HUA          6.0\n",
       "1           2       DAKSHESH DARURI          6.0\n",
       "2           3          ADITYA BAJAJ          6.0\n",
       "3           4   PATRICK H SCHILLING          5.5\n",
       "4           5            HANSHI ZUO          5.5\n",
       "..        ...                   ...          ...\n",
       "59         60            JULIA SHEN          1.5\n",
       "60         61         JEZZEL FARKAS          1.5\n",
       "61         62         ASHWIN BALAJI          1.0\n",
       "62         63  THOMAS JOSEPH HOSMER          1.0\n",
       "63         64                BEN LI          1.0\n",
       "\n",
       "[64 rows x 3 columns]"
      ]
     },
     "execution_count": 6,
     "metadata": {},
     "output_type": "execute_result"
    }
   ],
   "source": [
    "# put into a pandas\n",
    "df = pd.DataFrame(all_play, columns=['player_num', 'player_name', 'total_points'])\n",
    "df"
   ]
  },
  {
   "cell_type": "code",
   "execution_count": 7,
   "metadata": {},
   "outputs": [],
   "source": [
    "# write into csv\n",
    "df.to_csv('./data/chess_first_3_columns.csv', index=False)"
   ]
  },
  {
   "cell_type": "markdown",
   "metadata": {},
   "source": [
    "# task 1 ---- end"
   ]
  },
  {
   "cell_type": "markdown",
   "metadata": {},
   "source": [
    "# task 2\n",
    "- process the information from the second line for each player: state and pre-tournament rating. "
   ]
  },
  {
   "cell_type": "code",
   "execution_count": 8,
   "metadata": {},
   "outputs": [
    {
     "data": {
      "text/plain": [
       "['    1 | GARY HUA                        |6.0  |W  39|W  21|W  18|W  14|W   7|D  12|D   4|\\n',\n",
       " '   ON | 15445895 / R: 1794   ->1817     |N:2  |W    |B    |W    |B    |W    |B    |W    |\\n']"
      ]
     },
     "execution_count": 8,
     "metadata": {},
     "output_type": "execute_result"
    }
   ],
   "source": [
    "player_2_lines[0]"
   ]
  },
  {
   "cell_type": "code",
   "execution_count": 9,
   "metadata": {},
   "outputs": [
    {
     "data": {
      "text/plain": [
       "[('15771592', 'R:', '955P11', '979P18')]"
      ]
     },
     "execution_count": 9,
     "metadata": {},
     "output_type": "execute_result"
    }
   ],
   "source": [
    "# pattern_middle_name = r'\\s([\\d]+)\\s\\/\\s(R:)\\s([\\d\\w]+)\\s+\\-\\>([\\d]+)'\n",
    "pattern_pre_rating = r'([\\d]+)\\s*\\/\\s*(R:)\\s*([\\d\\w]+)\\s*\\-\\>\\s*([\\d\\w]+)'\n",
    "regex_pre_rating = re.compile(pattern_pre_rating)\n",
    "# regex_pre_rating.findall('15445895 / R: 1794   ->1817')\n",
    "#regex_pre_rating.findall('15490981 / R:  377P3   ->1076P10')\n",
    "regex_pre_rating.findall('15771592 / R:  955P11-> 979P18')"
   ]
  },
  {
   "cell_type": "code",
   "execution_count": 10,
   "metadata": {},
   "outputs": [
    {
     "data": {
      "text/plain": [
       "['955', '11']"
      ]
     },
     "execution_count": 10,
     "metadata": {},
     "output_type": "execute_result"
    }
   ],
   "source": [
    "#pattern_pre_p_level = r'([\\d]+)([P\\d]+)'\n",
    "pattern_pre_p_level = r'([\\d]+)'\n",
    "regex_pre_p_level = re.compile(pattern_pre_p_level)\n",
    "# regex_pre_p_level.findall('1076P10')\n",
    "\n",
    "\n",
    "# regex_pre_p_level.findall('1076P10')\n",
    "# regex_pre_p_level.findall('1076')\n",
    "regex_pre_p_level.findall('955P11')"
   ]
  },
  {
   "cell_type": "code",
   "execution_count": 11,
   "metadata": {},
   "outputs": [],
   "source": [
    "# 15445895 / R: 1794   ->1817\n",
    "def split_pre_tournament_rating(regex_pre_rating, regex_pre_p_level, rating_ori):\n",
    "    \n",
    "    result_rating = 0\n",
    "    result_p_level = ''\n",
    "    rating_lst = regex_pre_rating.findall(rating_ori)\n",
    "    # print(rating_lst)\n",
    "    \n",
    "    if len(rating_lst) > 0: # [('15490981', 'R:', '377P3', '1076P10')]\n",
    "        rating_tupe = rating_lst[0]\n",
    "        pre_str = rating_tupe[2]\n",
    "        pre_and_p_level = regex_pre_p_level.findall(pre_str)\n",
    "        #print(pre_and_p_level)\n",
    "        \n",
    "        if len(pre_and_p_level) > 1: # ['955', '11']\n",
    "            result_rating = pre_and_p_level[0]\n",
    "            result_p_level = pre_and_p_level[1]\n",
    "        elif len(pre_and_p_level) == 1: # ['1794']\n",
    "            result_rating = pre_and_p_level[0]\n",
    "                \n",
    "    return result_rating, result_p_level\n",
    "\n",
    "#r, p = split_pre_tournament_rating(regex_pre_rating, regex_pre_p_level, '15490981 / R:  377P3 ->1076P10')\n",
    "#r, p = split_pre_tournament_rating(regex_pre_rating, regex_pre_p_level, '15445895 / R: 1794   ->1817')\n",
    "#print(r)\n",
    "#print(p)"
   ]
  },
  {
   "cell_type": "code",
   "execution_count": 12,
   "metadata": {},
   "outputs": [],
   "source": [
    "all_play_2 = []\n",
    "for player in player_2_lines:\n",
    "    line_1 = player[0]\n",
    "    line_2 = player[1]\n",
    "    \n",
    "\n",
    "    line_1_list = re.split('\\|', line_1)\n",
    "       \n",
    "    player_num = line_1_list[0].strip()\n",
    "    \n",
    "    player_name = line_1_list[1].strip()\n",
    "    \n",
    "    player_total_points = line_1_list[2].strip()\n",
    "    \n",
    "    line_2_list = re.split('\\|', line_2)\n",
    "    player_state = line_2_list[0].strip()\n",
    "    \n",
    "    pre_tournament_rating_ori = line_2_list[1].strip()\n",
    "    \n",
    "    pre_point, pre_p_level = split_pre_tournament_rating(regex_pre_rating, regex_pre_p_level, pre_tournament_rating_ori)\n",
    "    \n",
    "    pp = [player_num, player_name, player_total_points, player_state, pre_point]\n",
    "    all_play_2.append(pp)\n",
    "\n",
    "# print(all_play_2)"
   ]
  },
  {
   "cell_type": "code",
   "execution_count": 13,
   "metadata": {},
   "outputs": [
    {
     "data": {
      "text/html": [
       "<div>\n",
       "<style scoped>\n",
       "    .dataframe tbody tr th:only-of-type {\n",
       "        vertical-align: middle;\n",
       "    }\n",
       "\n",
       "    .dataframe tbody tr th {\n",
       "        vertical-align: top;\n",
       "    }\n",
       "\n",
       "    .dataframe thead th {\n",
       "        text-align: right;\n",
       "    }\n",
       "</style>\n",
       "<table border=\"1\" class=\"dataframe\">\n",
       "  <thead>\n",
       "    <tr style=\"text-align: right;\">\n",
       "      <th></th>\n",
       "      <th>player_num</th>\n",
       "      <th>player_name</th>\n",
       "      <th>total_points</th>\n",
       "      <th>player_state</th>\n",
       "      <th>pre_point</th>\n",
       "    </tr>\n",
       "  </thead>\n",
       "  <tbody>\n",
       "    <tr>\n",
       "      <th>0</th>\n",
       "      <td>1</td>\n",
       "      <td>GARY HUA</td>\n",
       "      <td>6.0</td>\n",
       "      <td>ON</td>\n",
       "      <td>1794</td>\n",
       "    </tr>\n",
       "    <tr>\n",
       "      <th>1</th>\n",
       "      <td>2</td>\n",
       "      <td>DAKSHESH DARURI</td>\n",
       "      <td>6.0</td>\n",
       "      <td>MI</td>\n",
       "      <td>1553</td>\n",
       "    </tr>\n",
       "    <tr>\n",
       "      <th>2</th>\n",
       "      <td>3</td>\n",
       "      <td>ADITYA BAJAJ</td>\n",
       "      <td>6.0</td>\n",
       "      <td>MI</td>\n",
       "      <td>1384</td>\n",
       "    </tr>\n",
       "    <tr>\n",
       "      <th>3</th>\n",
       "      <td>4</td>\n",
       "      <td>PATRICK H SCHILLING</td>\n",
       "      <td>5.5</td>\n",
       "      <td>MI</td>\n",
       "      <td>1716</td>\n",
       "    </tr>\n",
       "    <tr>\n",
       "      <th>4</th>\n",
       "      <td>5</td>\n",
       "      <td>HANSHI ZUO</td>\n",
       "      <td>5.5</td>\n",
       "      <td>MI</td>\n",
       "      <td>1655</td>\n",
       "    </tr>\n",
       "    <tr>\n",
       "      <th>...</th>\n",
       "      <td>...</td>\n",
       "      <td>...</td>\n",
       "      <td>...</td>\n",
       "      <td>...</td>\n",
       "      <td>...</td>\n",
       "    </tr>\n",
       "    <tr>\n",
       "      <th>59</th>\n",
       "      <td>60</td>\n",
       "      <td>JULIA SHEN</td>\n",
       "      <td>1.5</td>\n",
       "      <td>MI</td>\n",
       "      <td>967</td>\n",
       "    </tr>\n",
       "    <tr>\n",
       "      <th>60</th>\n",
       "      <td>61</td>\n",
       "      <td>JEZZEL FARKAS</td>\n",
       "      <td>1.5</td>\n",
       "      <td>ON</td>\n",
       "      <td>955</td>\n",
       "    </tr>\n",
       "    <tr>\n",
       "      <th>61</th>\n",
       "      <td>62</td>\n",
       "      <td>ASHWIN BALAJI</td>\n",
       "      <td>1.0</td>\n",
       "      <td>MI</td>\n",
       "      <td>1530</td>\n",
       "    </tr>\n",
       "    <tr>\n",
       "      <th>62</th>\n",
       "      <td>63</td>\n",
       "      <td>THOMAS JOSEPH HOSMER</td>\n",
       "      <td>1.0</td>\n",
       "      <td>MI</td>\n",
       "      <td>1175</td>\n",
       "    </tr>\n",
       "    <tr>\n",
       "      <th>63</th>\n",
       "      <td>64</td>\n",
       "      <td>BEN LI</td>\n",
       "      <td>1.0</td>\n",
       "      <td>MI</td>\n",
       "      <td>1163</td>\n",
       "    </tr>\n",
       "  </tbody>\n",
       "</table>\n",
       "<p>64 rows × 5 columns</p>\n",
       "</div>"
      ],
      "text/plain": [
       "   player_num           player_name total_points player_state pre_point\n",
       "0           1              GARY HUA          6.0           ON      1794\n",
       "1           2       DAKSHESH DARURI          6.0           MI      1553\n",
       "2           3          ADITYA BAJAJ          6.0           MI      1384\n",
       "3           4   PATRICK H SCHILLING          5.5           MI      1716\n",
       "4           5            HANSHI ZUO          5.5           MI      1655\n",
       "..        ...                   ...          ...          ...       ...\n",
       "59         60            JULIA SHEN          1.5           MI       967\n",
       "60         61         JEZZEL FARKAS          1.5           ON       955\n",
       "61         62         ASHWIN BALAJI          1.0           MI      1530\n",
       "62         63  THOMAS JOSEPH HOSMER          1.0           MI      1175\n",
       "63         64                BEN LI          1.0           MI      1163\n",
       "\n",
       "[64 rows x 5 columns]"
      ]
     },
     "execution_count": 13,
     "metadata": {},
     "output_type": "execute_result"
    }
   ],
   "source": [
    "# put into a pandas\n",
    "df2 = pd.DataFrame(all_play_2, columns=['player_num', 'player_name', 'total_points', 'player_state', 'pre_point'])\n",
    "df2"
   ]
  },
  {
   "cell_type": "code",
   "execution_count": 14,
   "metadata": {},
   "outputs": [],
   "source": [
    "# write into csv\n",
    "df2.to_csv('./data/chess_first_5_columns.csv', index=False)"
   ]
  },
  {
   "cell_type": "markdown",
   "metadata": {},
   "source": [
    "# task 2 ---- end"
   ]
  },
  {
   "cell_type": "code",
   "execution_count": null,
   "metadata": {},
   "outputs": [],
   "source": []
  },
  {
   "cell_type": "code",
   "execution_count": null,
   "metadata": {},
   "outputs": [],
   "source": []
  },
  {
   "cell_type": "code",
   "execution_count": null,
   "metadata": {},
   "outputs": [],
   "source": []
  },
  {
   "cell_type": "code",
   "execution_count": null,
   "metadata": {},
   "outputs": [],
   "source": []
  },
  {
   "cell_type": "code",
   "execution_count": null,
   "metadata": {},
   "outputs": [],
   "source": [
    "\n"
   ]
  },
  {
   "cell_type": "code",
   "execution_count": null,
   "metadata": {},
   "outputs": [],
   "source": []
  },
  {
   "cell_type": "code",
   "execution_count": null,
   "metadata": {},
   "outputs": [],
   "source": []
  },
  {
   "cell_type": "code",
   "execution_count": null,
   "metadata": {},
   "outputs": [],
   "source": []
  },
  {
   "cell_type": "code",
   "execution_count": null,
   "metadata": {},
   "outputs": [],
   "source": []
  },
  {
   "cell_type": "code",
   "execution_count": null,
   "metadata": {},
   "outputs": [],
   "source": []
  }
 ],
 "metadata": {
  "kernelspec": {
   "display_name": "Python 3",
   "language": "python",
   "name": "python3"
  },
  "language_info": {
   "codemirror_mode": {
    "name": "ipython",
    "version": 3
   },
   "file_extension": ".py",
   "mimetype": "text/x-python",
   "name": "python",
   "nbconvert_exporter": "python",
   "pygments_lexer": "ipython3",
   "version": "3.7.6"
  }
 },
 "nbformat": 4,
 "nbformat_minor": 4
}
