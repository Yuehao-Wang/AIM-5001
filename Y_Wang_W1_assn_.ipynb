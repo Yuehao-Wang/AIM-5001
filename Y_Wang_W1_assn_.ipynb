{
 "cells": [
  {
   "cell_type": "markdown",
   "metadata": {},
   "source": [
    "orient url: \n",
    "https://archive.ics.uci.edu/ml/datasets/Student+Performance#\n",
    "\n",
    "GitHub rul: \n",
    "https://github.com/Yuehao-Wang/AIM-5001/blob/master/student-mat.csv\n",
    "https://github.com/Yuehao-Wang/AIM-5001/blob/master/student-por.csv"
   ]
  },
  {
   "cell_type": "code",
   "execution_count": null,
   "metadata": {},
   "outputs": [],
   "source": []
  }
 ],
 "metadata": {
  "kernelspec": {
   "display_name": "Python 3",
   "language": "python",
   "name": "python3"
  },
  "language_info": {
   "codemirror_mode": {
    "name": "ipython",
    "version": 3
   },
   "file_extension": ".py",
   "mimetype": "text/x-python",
   "name": "python",
   "nbconvert_exporter": "python",
   "pygments_lexer": "ipython3",
   "version": "3.7.6"
  }
 },
 "nbformat": 4,
 "nbformat_minor": 4
}
