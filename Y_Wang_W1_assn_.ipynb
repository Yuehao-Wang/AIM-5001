{
 "cells": [
  {
   "cell_type": "markdown",
   "metadata": {},
   "source": [
    "Orient url:\n",
    "\n",
    "https://archive.ics.uci.edu/ml/datasets/Student+Performance#\n",
    "\n",
    "GitHub rul: \n",
    "\n",
    "https://github.com/Yuehao-Wang/AIM-5001/blob/master/student-mat.csv\n",
    "\n",
    "https://github.com/Yuehao-Wang/AIM-5001/blob/master/student-por.csv"
   ]
  },
  {
   "cell_type": "markdown",
   "metadata": {},
   "source": [
    "# 1. I'm very interested in eduction. The academic terminology of this data set is familiar to me. \n",
    "\n",
    "# 2. I want to study these questions.\n",
    "## 2.1 Who gets better grades in math and Portuguese, boys or girls?\n",
    "## 2.2 Does parents' education background have any effect on student's grades?\n",
    "* 2.2.1 Does mother's education background have any effect on student's grades?\n",
    "* 2.2.1 Does father's education background have any effect on student's grades?\n",
    "\n",
    "## 2.3 Does the G3 have correlation with G2 and G1?\n",
    "## 2.4 Based on G1 and G2, could I predict students' grades of G3?\n",
    "## 2.5 What kind of time will affect students' grades?\n",
    "* 2.5.1 Does less traveltime lead to better grades?\n",
    "* 2.5.2 Does more studytime lead to better grades?\n",
    "* 2.5.3 Does more freetime lead to better grades?\n",
    "\n",
    "## 2.6 Does alcohol consumption affect students' grades?\n",
    "* 2.6.1 Does more workday alcohol consumption lead to worse grades?\n",
    "* 2.6.1 Does more weekend alcohol consumption lead to worse grades?"
   ]
  },
  {
   "cell_type": "code",
   "execution_count": null,
   "metadata": {},
   "outputs": [],
   "source": []
  }
 ],
 "metadata": {
  "kernelspec": {
   "display_name": "Python 3",
   "language": "python",
   "name": "python3"
  },
  "language_info": {
   "codemirror_mode": {
    "name": "ipython",
    "version": 3
   },
   "file_extension": ".py",
   "mimetype": "text/x-python",
   "name": "python",
   "nbconvert_exporter": "python",
   "pygments_lexer": "ipython3",
   "version": "3.7.6"
  }
 },
 "nbformat": 4,
 "nbformat_minor": 4
}
