{
 "cells": [
  {
   "cell_type": "code",
   "execution_count": 1,
   "metadata": {},
   "outputs": [],
   "source": [
    "import csv"
   ]
  },
  {
   "cell_type": "markdown",
   "metadata": {},
   "source": [
    "#### These seven distinct values represent attributes of a single type of automobile. Specifically we have the following:\n",
    "\n",
    "- index = 0 - Price\n",
    "\n",
    "- index = 1 - Maintenance cost\n",
    "\n",
    "- index = 2 - Number of doors\n",
    "\n",
    "- index = 3 - Number of passengers\n",
    "\n",
    "- index = 4 - Luggage capacity\n",
    "\n",
    "- index = 5 - Safety rating\n",
    "\n",
    "- index = 6 - Classification of vehicle\n",
    "\n",
    "#### to import csv, to load data\n",
    "- to use csv.reader(file_name) to load data\n",
    "- to create seven distinct Python list\n",
    "- to put different data into different list"
   ]
  },
  {
   "cell_type": "code",
   "execution_count": 2,
   "metadata": {},
   "outputs": [],
   "source": [
    "\"\"\"\n",
    "to read the file again and extract these seven attributes from each line of the file and\n",
    "create seven distinct Python list objects comprised solely of the values you extracted for a given attribute. \n",
    "\"\"\"\n",
    "\n",
    "idx_0 = 0 # index of price is 0\n",
    "idx_1 = 1 # index of maintenance cost is 1\n",
    "idx_2 = 2 # index of number of doors is 2\n",
    "idx_3 = 3 # index of number of passengers is 3\n",
    "idx_4 = 4 # index of luggage capacity is 4\n",
    "idx_5 = 5 # index of safety rating is 5\n",
    "idx_6 = 6 # index of vehicle's classification is 6\n",
    "\n",
    "lst_price = [] # list of price\n",
    "lst_maintain_cost = [] # list of Maintenance cost\n",
    "lst_doors = [] # list of Number of doors\n",
    "lst_passengers = [] # list of Number of passengers\n",
    "lst_luggage = [] # list of Luggage capacity\n",
    "lst_safety_rating = [] # list of Safety rating\n",
    "lst_class = [] # list of Classification of vehicle\n",
    "\n",
    "with open('C:/Users/amorn/Documents/yeshiva/workspace/AIM-5001/cars-sample35.txt') as csvfile:\n",
    "    readCSV = csv.reader(csvfile)\n",
    "    for row in readCSV:\n",
    "        # get different type of data from each row, then put different data into differetn list.\n",
    "        lst_price.append(row[idx_0])\n",
    "        lst_maintain_cost.append(row[idx_1])\n",
    "        lst_doors.append(row[idx_2])\n",
    "        lst_passengers.append(row[idx_3])\n",
    "        lst_luggage.append(row[idx_4])\n",
    "        lst_safety_rating.append(row[idx_5])\n",
    "        lst_class.append(row[idx_6])"
   ]
  },
  {
   "cell_type": "markdown",
   "metadata": {},
   "source": [
    "#### list comprehension\n",
    "- using a list comprehension instead of a for or while loop\n",
    "- the list comprehension is faster than for or while loop\n",
    "- for loop example\n",
    "```Python\n",
    "lst = []\n",
    "for i in range(10):\n",
    "    lst.append(i * 2)\n",
    "```\n",
    "- a list comprehension example\n",
    "```Python\n",
    "lst = [i * 2 for i in range(10)]\n",
    "```\n"
   ]
  },
  {
   "cell_type": "code",
   "execution_count": 3,
   "metadata": {},
   "outputs": [
    {
     "name": "stdout",
     "output_type": "stream",
     "text": [
      "[6, 16, 20, 23, 26, 29]\n"
     ]
    }
   ],
   "source": [
    "# question 1\n",
    "\"\"\"\n",
    "Using a list comprehension to find the list index values of each automobile having a price rating of \"med\"\n",
    "\"\"\"\n",
    "\n",
    "# step 1) using enumerate() to get index and value of each list items\n",
    "# step 2) if value == 'med', then set index into a new list\n",
    "lst_price_med = [i for i, v in enumerate(lst_price) if v == 'med']\n",
    "\n",
    "print(lst_price_med)"
   ]
  },
  {
   "cell_type": "code",
   "execution_count": 4,
   "metadata": {},
   "outputs": [
    {
     "name": "stdout",
     "output_type": "stream",
     "text": [
      "['more', '2', '2', '2', '4', '2']\n"
     ]
    }
   ],
   "source": [
    "# question 2\n",
    "\"\"\"\n",
    "Using a list comprehension to find the \"number of passengers\" value for each auto having a \"price\" value of \"med\" \n",
    "\"\"\"\n",
    "\n",
    "# step 1) using enumerate() to get price list's index and value\n",
    "# step 2) if price is med, then get the list of passenger's value\n",
    "# step 3) put passenger value into a new list\n",
    "lst_med_price = [lst_passengers[i] for i, v in enumerate(lst_price) if v == 'med']\n",
    "\n",
    "print(lst_med_price)"
   ]
  },
  {
   "cell_type": "code",
   "execution_count": 5,
   "metadata": {},
   "outputs": [
    {
     "name": "stdout",
     "output_type": "stream",
     "text": [
      "[0, 1, 2, 27, 31]\n"
     ]
    }
   ],
   "source": [
    "# question 3\n",
    "\"\"\"\n",
    "using a list comprehension to find the index value for each automobile having a price value of \"high\" and a\n",
    "maintenance value that is not \"low\" \n",
    "\"\"\"\n",
    "\n",
    "# step 1) using for i in range(len(lst_price)) to get each index\n",
    "# step 2) if at the same index postion, the price is high and the maintain is not low, then get the index\n",
    "# step 3) put the index into a new list\n",
    "lst_high_price_unlow_maintain = [i for i in range(len(lst_price)) if lst_price[i] == 'high' and lst_maintain_cost[i] != 'low']\n",
    "\n",
    "print(lst_high_price_unlow_maintain)"
   ]
  },
  {
   "cell_type": "markdown",
   "metadata": {},
   "source": [
    "#### Nested List Comprehensions\n",
    "- sample\n",
    "```python\n",
    "outter_list = [ [1, 2], [3, 4], [5, 6]]\n",
    "```\n",
    "- a for solution\n",
    "```python\n",
    "flist = []\n",
    "for sub_list in outter_list:\n",
    "    for x in sub_list:\n",
    "        flist.append(x)\n",
    "```\n",
    "\n",
    "- a nested List Comprehensions solution\n",
    "```python\n",
    "flist = [x for sub_list in outter_list for x in sub_list]\n",
    "```"
   ]
  },
  {
   "cell_type": "code",
   "execution_count": 6,
   "metadata": {},
   "outputs": [
    {
     "name": "stdout",
     "output_type": "stream",
     "text": [
      "[1, 2, 3, 'A', 'B', 'C', 4, 5, 'D', 'E']\n"
     ]
    }
   ],
   "source": [
    "# question 4\n",
    "\"\"\"\n",
    "Using nested List Comprehensions to convert a one-dimensional list\n",
    "\"\"\"\n",
    "\n",
    "# a nested list\n",
    "nlist = [ [1, 2, 3], ['A', 'B', 'C'], [4, 5], ['D', 'E'] ]\n",
    "\n",
    "# step 1) from nlist to get sub lists\n",
    "# step 2) from sub list to get items\n",
    "# step 3) put into a new one-dimensional list\n",
    "flist = [num for row in nlist for num in row]\n",
    "\n",
    "print(flist)"
   ]
  },
  {
   "cell_type": "markdown",
   "metadata": {},
   "source": [
    "#### Write a Function That Converts a List to a Dict Object\n",
    "- a function sample\n",
    "```python\n",
    "def sum_two_number(a = 0, b = 0)\n",
    "    sum = a + b\n",
    "    return sum\n",
    "```\n",
    "- how to call sum_two_number\n",
    "```python\n",
    "s = sum_two_number(2, 3)\n",
    "print(s)\n",
    ">>> 5\n",
    "```"
   ]
  },
  {
   "cell_type": "markdown",
   "metadata": {},
   "source": [
    "#### question 5\n",
    "###### convert a list to a dict. Keys of dict are 'A0', 'A1' ... \n",
    "\n",
    "- First five elements of luggage list:\n",
    "\n",
    "    * ['med', 'small', 'big', 'big', 'med']\n",
    "    \n",
    "\n",
    "- New dict Object:\n",
    "\n",
    "    * {‘A0’ : ‘med’, ‘A1’: ‘small’, ‘A2’: ‘big’, ‘A3’:‘big’, ‘A4’:’med’}"
   ]
  },
  {
   "cell_type": "code",
   "execution_count": 7,
   "metadata": {},
   "outputs": [
    {
     "name": "stdout",
     "output_type": "stream",
     "text": [
      "{'A0': 'med', 'A1': 'small', 'A2': 'big', 'A3': 'big', 'A4': 'med', 'A5': 'small'}\n"
     ]
    }
   ],
   "source": [
    "# question 5\n",
    "def makedict(mylist, x = 5):\n",
    "    \"\"\"\n",
    "    Convert a list to a dict. Keys of dict are 'A0', 'A1' ...\n",
    "\n",
    "    Args:\n",
    "      mylist: A list. Could be a [] list.\n",
    "      x: is a int. The default value is 5.\n",
    "\n",
    "    Returns:\n",
    "      dict\n",
    "\n",
    "    Raises:\n",
    "      none\n",
    "\n",
    "    Sample:\n",
    "    >>> lst = ['a', 'b', 'c']\n",
    "    >>> makedict(lst, 3)\n",
    "    {'A0': 'a', 'A1': 'b', 'A2': 'c'}\n",
    "\n",
    "    >>> lst = []\n",
    "    >>> makedict(lst, 3)\n",
    "    {}\n",
    "    \"\"\"\n",
    "    newdict = {}\n",
    "    \n",
    "    if x <= len(mylist): # check the input x is less and equeal then the list's length\n",
    "        \n",
    "        for i in range(x):\n",
    "            \n",
    "            key = 'A' + str(i) # create a unique key for each list's items\n",
    "            newdict[key] = mylist[i] # put list's value into dict by dict's key\n",
    "            \n",
    "    return newdict\n",
    "\n",
    "# to call makedict()\n",
    "dict_new = makedict(lst_luggage, 6)\n",
    "\n",
    "print(dict_new)"
   ]
  },
  {
   "cell_type": "code",
   "execution_count": 8,
   "metadata": {},
   "outputs": [
    {
     "name": "stdout",
     "output_type": "stream",
     "text": [
      "the price is vhigh and luggage is med capacity by the ‘A4’ key value.\n"
     ]
    }
   ],
   "source": [
    "# question 6\n",
    "\"\"\"\n",
    "use it to create two new dict objects containing\n",
    "the first seven elements of the ‘Price’ and ‘Luggage’ lists, respectively. Then, use these dict objects to tell us the\n",
    "price and luggage capacity of the auto identified by the ‘A4’ key value\n",
    "\"\"\"\n",
    "\n",
    "dict_price = makedict(lst_price, 7) # to convert lst_price to dict_price, dict's keys are 'A0', 'A1' ...\n",
    "dict_lugg = makedict(lst_luggage, 7) # to convert lst_luggage to dict_lugg, dict's keys are 'A0', 'A1' ...\n",
    "\n",
    "key = 'A4'\n",
    "\n",
    "# print out with a formatting\n",
    "print('the price is %s and luggage is %s capacity by the ‘%s’ key value.' %(dict_price[key], dict_lugg[key], key))"
   ]
  },
  {
   "cell_type": "code",
   "execution_count": null,
   "metadata": {},
   "outputs": [],
   "source": []
  },
  {
   "cell_type": "code",
   "execution_count": null,
   "metadata": {},
   "outputs": [],
   "source": []
  },
  {
   "cell_type": "code",
   "execution_count": null,
   "metadata": {},
   "outputs": [],
   "source": []
  },
  {
   "cell_type": "code",
   "execution_count": null,
   "metadata": {},
   "outputs": [],
   "source": []
  },
  {
   "cell_type": "code",
   "execution_count": null,
   "metadata": {},
   "outputs": [],
   "source": []
  }
 ],
 "metadata": {
  "kernelspec": {
   "display_name": "Python 3",
   "language": "python",
   "name": "python3"
  },
  "language_info": {
   "codemirror_mode": {
    "name": "ipython",
    "version": 3
   },
   "file_extension": ".py",
   "mimetype": "text/x-python",
   "name": "python",
   "nbconvert_exporter": "python",
   "pygments_lexer": "ipython3",
   "version": "3.7.6"
  }
 },
 "nbformat": 4,
 "nbformat_minor": 4
}
