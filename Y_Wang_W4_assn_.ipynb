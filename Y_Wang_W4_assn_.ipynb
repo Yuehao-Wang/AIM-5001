{
 "cells": [
  {
   "cell_type": "code",
   "execution_count": 1,
   "metadata": {},
   "outputs": [],
   "source": [
    "import pandas as pd\n",
    "import numpy as np"
   ]
  },
  {
   "cell_type": "markdown",
   "metadata": {},
   "source": [
    "# #1.\n",
    "- (5 Points) Write a Python/NumPy code block that finds the distinct/unique common items between these two arrays:\n",
    "- a = np.array([1, 2, 3, 2, 3, 4, 3, 4, 5, 6])\n",
    "- b = np.array([7, 2, 10, 2, 7, 4, 9, 4, 9, 8])\n",
    "- Your output should contain only the distinct overlapping values. For example, if a 2 is found in both array a and array b,\n",
    "- your output should contain only one 2 even if array a contains more than one 2 within it.\n",
    "\n",
    "#### How to implement?\n",
    "- 1) Using narray compare to get boolean array\n",
    "- 2) Using boolean array to get values\n",
    "- 3) Using numpy.unique() to get unique values"
   ]
  },
  {
   "cell_type": "code",
   "execution_count": 2,
   "metadata": {},
   "outputs": [
    {
     "name": "stdout",
     "output_type": "stream",
     "text": [
      "[False  True False  True False  True False  True False False]\n",
      "[2 4]\n"
     ]
    }
   ],
   "source": [
    "a = np.array([1, 2, 3, 2, 3, 4, 3, 4, 5, 6])\n",
    "b = np.array([7, 2, 10, 2, 7, 4, 9, 4, 9, 8])\n",
    "\n",
    "b_arr = (a == b) # get a boolean array\n",
    "print(b_arr)\n",
    "\n",
    "v_arr = a[b_arr] # get value through the boolean array\n",
    "print(np.unique(v_arr)) # numpy.unique() can get unique values"
   ]
  },
  {
   "cell_type": "markdown",
   "metadata": {},
   "source": [
    "# #2\n",
    "- Create the following 5x3 array using knowledge you have of Python’s / NumPy’s sequencing functionality\n",
    "- so that you do not need to explicitly key in every integer value.\n",
    "- 1 6 11\n",
    "- 2 7 12\n",
    "- 3 8 13\n",
    "- 4 9 14\n",
    "- 5 10 15\n",
    "\n",
    "#### How to implement?\n",
    "- 1) Using numpy.arange(start, end, steps) to generate a [1,....15] array\n",
    "- 2) Using numpy.reshape(numbles of row, numbers of column) to reshape a 1D array to a 2D array\n",
    "- 3) Using .T to transform axis0 * axis1 to axis1*axis0"
   ]
  },
  {
   "cell_type": "code",
   "execution_count": 3,
   "metadata": {},
   "outputs": [
    {
     "data": {
      "text/plain": [
       "array([[ 1,  6, 11],\n",
       "       [ 2,  7, 12],\n",
       "       [ 3,  8, 13],\n",
       "       [ 4,  9, 14],\n",
       "       [ 5, 10, 15]])"
      ]
     },
     "execution_count": 3,
     "metadata": {},
     "output_type": "execute_result"
    }
   ],
   "source": [
    "a = np.arange(1, 16, 1).reshape(3, 5)\n",
    "a.T"
   ]
  },
  {
   "cell_type": "markdown",
   "metadata": {},
   "source": [
    "# #3\n",
    "- You are given the following two arrays:\n",
    "- a = np.array([12, 5, 7, 15, 3, 1, 8])\n",
    "- b = np.array([14, 6, 3, 11, 19, 12, 5])\n",
    "- Write a Python/Numpy code block that removes from array a any items that are also present in array b\n",
    "\n",
    "#### How to implement?\n",
    "- 1) Using numpy.isin(arr1, arr2) to get a boolean array of the same shape as element that is True where an element of element is in test_elements and False otherwise.\n",
    "- 2) Using ~ to get a negtive boolean arry\n",
    "- 3) Using the negtive boolean arry to get values"
   ]
  },
  {
   "cell_type": "code",
   "execution_count": 4,
   "metadata": {},
   "outputs": [],
   "source": [
    "a = np.array([12, 5, 7, 15, 3, 1, 8])\n",
    "b = np.array([14, 6, 3, 11, 19, 12, 5])"
   ]
  },
  {
   "cell_type": "code",
   "execution_count": 5,
   "metadata": {},
   "outputs": [],
   "source": [
    "boolean_arr =np.isin(a, b)"
   ]
  },
  {
   "cell_type": "code",
   "execution_count": 6,
   "metadata": {},
   "outputs": [
    {
     "data": {
      "text/plain": [
       "array([ 3, 11, 12,  5])"
      ]
     },
     "execution_count": 6,
     "metadata": {},
     "output_type": "execute_result"
    }
   ],
   "source": [
    "b[~boolean_arr]"
   ]
  },
  {
   "cell_type": "markdown",
   "metadata": {},
   "source": [
    "# #4\n",
    "Suppose you have ridden a bicycle from New York City to Key West, Florida. Your bicycle odometer shows\n",
    "the total miles you have travelled thus far, which you make a note of each day with paper and pencil. Your first two\n",
    "entries might be ‘55’ and ‘120’, indicating that you rode your bike 55 miles on day 1 and 65 miles on day 2. Your task is\n",
    "to create a NumPy array wherein you can record the cumulative miles you recorded each day during your trip “by hand”.\n",
    "Then use your Python skills to show the total miles that you rode each day. Assume the trip took a total of 35 days and\n",
    "included at least 4 non-consecutive days where no cycling was possible due to either weather conditions or personal\n",
    "fatigue/soreness. For the remaining 31 days, you would have covered the entire distance between NYC and Key West.\n",
    "Complete your work within your Jupyter Notebook for this assignment and be sure to include a writeup explaining your\n",
    "approach to this problem, including the ways in which you decided to make use of NumPy.\n",
    "\n",
    "- From New York City to Key West: 1519 mi\n",
    "\n",
    "#### How to implement?\n",
    "##### Q4 Method 1\n",
    "- 1) get array from the 0th value to the 34th value. Length is 34.\n",
    "- 2) get array from the 1st value to the 35th value. Length is 34.\n",
    "- 3) get the frist value\n",
    "- 4) Using '-' of mathmatics of array to get differents of two array\n",
    "- 5) Using numpy.append(arr1, arr2) to combine two array"
   ]
  },
  {
   "cell_type": "code",
   "execution_count": 7,
   "metadata": {},
   "outputs": [
    {
     "data": {
      "text/plain": [
       "array([55, 65,  0, 25, 10, 45,  0, 65, 15, 40, 60, 31, 55, 37, 44,  0, 53,\n",
       "       40, 49, 34, 58, 44, 35, 50,  0, 89,  0, 62, 76, 64, 98, 71, 80, 69])"
      ]
     },
     "execution_count": 7,
     "metadata": {},
     "output_type": "execute_result"
    }
   ],
   "source": [
    "a = np.array([55, 120, 120, 145, 155, 200, 200, \n",
    "              265, 280, 320, 380, 411, 466, 503, \n",
    "              547, 547, 600, 640, 689, 723, 781,\n",
    "             825, 860, 910, 910, 999, 999, 1061,\n",
    "             1137, 1201, 1299, 1370, 1450, 1519])\n",
    "pre_a = a[0:33].copy()\n",
    "last_a = a[1:].copy()\n",
    "frist = a[0]\n",
    "daily_a = last_a - pre_a\n",
    "daily_a\n",
    "all_daily_a = np.append(frist, daily_a)\n",
    "all_daily_a"
   ]
  },
  {
   "cell_type": "markdown",
   "metadata": {},
   "source": [
    "##### Q4 Method 2\n",
    "- 1) Using numpy.diff(arr) to get different value.\n",
    "- 2) Using numpy.append(arr1, arr2) to combine the frist value array and the diff array(34 items)\n",
    "\n",
    "##### diff\n",
    "- https://numpy.org/doc/stable/reference/generated/numpy.diff.html\n",
    "\n"
   ]
  },
  {
   "cell_type": "code",
   "execution_count": 8,
   "metadata": {},
   "outputs": [
    {
     "data": {
      "text/plain": [
       "array([55, 65,  0, 25, 10, 45,  0, 65, 15, 40, 60, 31, 55, 37, 44,  0, 53,\n",
       "       40, 49, 34, 58, 44, 35, 50,  0, 89,  0, 62, 76, 64, 98, 71, 80, 69])"
      ]
     },
     "execution_count": 8,
     "metadata": {},
     "output_type": "execute_result"
    }
   ],
   "source": [
    "# Method 2\n",
    "diff_arr = np.diff(a)\n",
    "all_daily_a = np.append(a[0], diff_arr)\n",
    "all_daily_a"
   ]
  },
  {
   "cell_type": "markdown",
   "metadata": {},
   "source": [
    "#### Q4 Method 3\n",
    "\n",
    "- 1) Using lambda and map to calculate different value\n",
    "- 2) sing numpy.append(arr1, arr2) to combine the frist value array and the diff array(34 items)\n",
    "\n",
    "```python\n",
    "items = [1, 2, 3, 4, 5]\n",
    "squared = list(map(lambda x, y: y - x, items[:3], items[1:4]))\n",
    "squared\n",
    "```"
   ]
  },
  {
   "cell_type": "code",
   "execution_count": 9,
   "metadata": {},
   "outputs": [
    {
     "data": {
      "text/plain": [
       "array([55, 65,  0, 25, 10, 45,  0, 65, 15, 40, 60, 31, 55, 37, 44,  0, 53,\n",
       "       40, 49, 34, 58, 44, 35, 50,  0, 89,  0, 62, 76, 64, 98, 71, 80, 69])"
      ]
     },
     "execution_count": 9,
     "metadata": {},
     "output_type": "execute_result"
    }
   ],
   "source": [
    "a\n",
    "diff_arr = list(map(lambda x, y : (y - x), a[:33], a[1:34]))\n",
    "all_daily_a = np.append(a[0], diff_arr)\n",
    "all_daily_a\n"
   ]
  },
  {
   "cell_type": "markdown",
   "metadata": {},
   "source": [
    "# #5 ndarray"
   ]
  },
  {
   "cell_type": "code",
   "execution_count": 10,
   "metadata": {},
   "outputs": [
    {
     "data": {
      "text/plain": [
       "numpy.ndarray"
      ]
     },
     "execution_count": 10,
     "metadata": {},
     "output_type": "execute_result"
    }
   ],
   "source": [
    "# supress scientific notation\n",
    "np.set_printoptions(suppress = True)\n",
    "\n",
    "# read the data file from GitHub and convert to a NumPy ndarray object\n",
    "nyc_water_df = pd.read_csv('https://raw.githubusercontent.com/jtopor/DAV-5400/master/Week4/Water_Consumption_In_The_New_York_City.csv')\n",
    "nyc_water = nyc_water_df.values\n",
    "\n",
    "# verify you have an ndarray object\n",
    "type(nyc_water)"
   ]
  },
  {
   "cell_type": "code",
   "execution_count": 11,
   "metadata": {},
   "outputs": [
    {
     "data": {
      "text/html": [
       "<div>\n",
       "<style scoped>\n",
       "    .dataframe tbody tr th:only-of-type {\n",
       "        vertical-align: middle;\n",
       "    }\n",
       "\n",
       "    .dataframe tbody tr th {\n",
       "        vertical-align: top;\n",
       "    }\n",
       "\n",
       "    .dataframe thead th {\n",
       "        text-align: right;\n",
       "    }\n",
       "</style>\n",
       "<table border=\"1\" class=\"dataframe\">\n",
       "  <thead>\n",
       "    <tr style=\"text-align: right;\">\n",
       "      <th></th>\n",
       "      <th>Year</th>\n",
       "      <th>New York City Population</th>\n",
       "      <th>NYC Consumption(Million gallons per day)</th>\n",
       "      <th>Per Capita(Gallons per person per day)</th>\n",
       "    </tr>\n",
       "  </thead>\n",
       "  <tbody>\n",
       "    <tr>\n",
       "      <th>0</th>\n",
       "      <td>1979</td>\n",
       "      <td>7102100.0</td>\n",
       "      <td>1512.0</td>\n",
       "      <td>213</td>\n",
       "    </tr>\n",
       "    <tr>\n",
       "      <th>1</th>\n",
       "      <td>1980</td>\n",
       "      <td>7071639.0</td>\n",
       "      <td>1506.0</td>\n",
       "      <td>213</td>\n",
       "    </tr>\n",
       "    <tr>\n",
       "      <th>2</th>\n",
       "      <td>1981</td>\n",
       "      <td>7089241.0</td>\n",
       "      <td>1309.0</td>\n",
       "      <td>185</td>\n",
       "    </tr>\n",
       "    <tr>\n",
       "      <th>3</th>\n",
       "      <td>1982</td>\n",
       "      <td>7109105.0</td>\n",
       "      <td>1382.0</td>\n",
       "      <td>194</td>\n",
       "    </tr>\n",
       "    <tr>\n",
       "      <th>4</th>\n",
       "      <td>1983</td>\n",
       "      <td>7181224.0</td>\n",
       "      <td>1424.0</td>\n",
       "      <td>198</td>\n",
       "    </tr>\n",
       "  </tbody>\n",
       "</table>\n",
       "</div>"
      ],
      "text/plain": [
       "   Year  New York City Population  NYC Consumption(Million gallons per day)  \\\n",
       "0  1979                 7102100.0                                    1512.0   \n",
       "1  1980                 7071639.0                                    1506.0   \n",
       "2  1981                 7089241.0                                    1309.0   \n",
       "3  1982                 7109105.0                                    1382.0   \n",
       "4  1983                 7181224.0                                    1424.0   \n",
       "\n",
       "   Per Capita(Gallons per person per day)  \n",
       "0                                     213  \n",
       "1                                     213  \n",
       "2                                     185  \n",
       "3                                     194  \n",
       "4                                     198  "
      ]
     },
     "execution_count": 11,
     "metadata": {},
     "output_type": "execute_result"
    }
   ],
   "source": [
    "nyc_water_df.head(5)"
   ]
  },
  {
   "cell_type": "code",
   "execution_count": 12,
   "metadata": {},
   "outputs": [
    {
     "data": {
      "text/plain": [
       "(39, 4)"
      ]
     },
     "execution_count": 12,
     "metadata": {},
     "output_type": "execute_result"
    }
   ],
   "source": [
    "# print nyc_water shape\n",
    "nyc_water.shape"
   ]
  },
  {
   "cell_type": "code",
   "execution_count": 13,
   "metadata": {},
   "outputs": [
    {
     "name": "stdout",
     "output_type": "stream",
     "text": [
      "Max value of NYC Consumption(Million gallons per day) is 1512.00\n"
     ]
    }
   ],
   "source": [
    "# What is the maximum yearly NYC consumption of water in millions of gallons per day?\n",
    "\n",
    "# to get the 3rd column. It is NYC Consumption(Million gallons per day)\n",
    "nyc_consumptions = nyc_water[:, 2]\n",
    "\n",
    "print(\"Max value of NYC Consumption(Million gallons per day) is %.2f\" %np.max(nyc_consumptions))"
   ]
  },
  {
   "cell_type": "code",
   "execution_count": 14,
   "metadata": {},
   "outputs": [
    {
     "name": "stdout",
     "output_type": "stream",
     "text": [
      "39 calendar years\n"
     ]
    }
   ],
   "source": [
    "# How many calendar years are represented within this data set?\n",
    "\n",
    "# to get the 1st column. It is Year\n",
    "nyc_years = nyc_consumptions = nyc_water[:, 0]\n",
    "\n",
    "print(\"%d calendar years\" %len(np.unique(nyc_years)))"
   ]
  },
  {
   "cell_type": "code",
   "execution_count": 15,
   "metadata": {},
   "outputs": [
    {
     "name": "stdout",
     "output_type": "stream",
     "text": [
      "the mean is 160.31\n",
      "the standard deviation is 31.52\n"
     ]
    }
   ],
   "source": [
    "# What is the mean and the standard deviation of the per capita daily water consumption?\n",
    "\n",
    "# to get the 4th column. It is Per Capita(Gallons per person per day)\n",
    "nyc_daily_consumptions = nyc_consumptions = nyc_water[:, 3]\n",
    "\n",
    "print(\"the mean is %.2f\" %nyc_daily_consumptions.mean())\n",
    "\n",
    "print(\"the standard deviation is %.2f\" %nyc_daily_consumptions.std())"
   ]
  },
  {
   "cell_type": "code",
   "execution_count": 16,
   "metadata": {},
   "outputs": [
    {
     "name": "stdout",
     "output_type": "stream",
     "text": [
      "[-30461.   17602.   19864.   72119.   53290.   39540.   45192.   23230.\n",
      "  11243.   -9544.   -8525.   38851.   54443.   77222.   64292.   62582.\n",
      "  64772.   75631.   84816.   89401.   60618.   16685.5  16685.5  16685.5\n",
      "  16685.5  16685.5  16685.5  16685.5  16685.5  16685.5  16685.5 108965.\n",
      "  77081.   61281.   49530.   44512.   21171.   85025. ]\n"
     ]
    }
   ],
   "source": [
    "# What is the increase or decrease in population from year to year?\n",
    "\n",
    "# to get the 2nd column. It is New York City Population\n",
    "populations = nyc_water[:, 1]\n",
    "pop_diff = np.diff(populations)\n",
    "print(pop_diff)"
   ]
  },
  {
   "cell_type": "markdown",
   "metadata": {},
   "source": [
    "# #5 pandas"
   ]
  },
  {
   "cell_type": "code",
   "execution_count": 17,
   "metadata": {},
   "outputs": [
    {
     "data": {
      "text/html": [
       "<div>\n",
       "<style scoped>\n",
       "    .dataframe tbody tr th:only-of-type {\n",
       "        vertical-align: middle;\n",
       "    }\n",
       "\n",
       "    .dataframe tbody tr th {\n",
       "        vertical-align: top;\n",
       "    }\n",
       "\n",
       "    .dataframe thead th {\n",
       "        text-align: right;\n",
       "    }\n",
       "</style>\n",
       "<table border=\"1\" class=\"dataframe\">\n",
       "  <thead>\n",
       "    <tr style=\"text-align: right;\">\n",
       "      <th></th>\n",
       "      <th>Year</th>\n",
       "      <th>New York City Population</th>\n",
       "      <th>NYC Consumption(Million gallons per day)</th>\n",
       "      <th>Per Capita(Gallons per person per day)</th>\n",
       "    </tr>\n",
       "  </thead>\n",
       "  <tbody>\n",
       "    <tr>\n",
       "      <th>0</th>\n",
       "      <td>1979</td>\n",
       "      <td>7102100.0</td>\n",
       "      <td>1512.0</td>\n",
       "      <td>213</td>\n",
       "    </tr>\n",
       "    <tr>\n",
       "      <th>1</th>\n",
       "      <td>1980</td>\n",
       "      <td>7071639.0</td>\n",
       "      <td>1506.0</td>\n",
       "      <td>213</td>\n",
       "    </tr>\n",
       "    <tr>\n",
       "      <th>2</th>\n",
       "      <td>1981</td>\n",
       "      <td>7089241.0</td>\n",
       "      <td>1309.0</td>\n",
       "      <td>185</td>\n",
       "    </tr>\n",
       "    <tr>\n",
       "      <th>3</th>\n",
       "      <td>1982</td>\n",
       "      <td>7109105.0</td>\n",
       "      <td>1382.0</td>\n",
       "      <td>194</td>\n",
       "    </tr>\n",
       "    <tr>\n",
       "      <th>4</th>\n",
       "      <td>1983</td>\n",
       "      <td>7181224.0</td>\n",
       "      <td>1424.0</td>\n",
       "      <td>198</td>\n",
       "    </tr>\n",
       "  </tbody>\n",
       "</table>\n",
       "</div>"
      ],
      "text/plain": [
       "   Year  New York City Population  NYC Consumption(Million gallons per day)  \\\n",
       "0  1979                 7102100.0                                    1512.0   \n",
       "1  1980                 7071639.0                                    1506.0   \n",
       "2  1981                 7089241.0                                    1309.0   \n",
       "3  1982                 7109105.0                                    1382.0   \n",
       "4  1983                 7181224.0                                    1424.0   \n",
       "\n",
       "   Per Capita(Gallons per person per day)  \n",
       "0                                     213  \n",
       "1                                     213  \n",
       "2                                     185  \n",
       "3                                     194  \n",
       "4                                     198  "
      ]
     },
     "execution_count": 17,
     "metadata": {},
     "output_type": "execute_result"
    }
   ],
   "source": [
    "# supress scientific notation\n",
    "np.set_printoptions(suppress = True)\n",
    "\n",
    "# read the data file from GitHub and convert to a NumPy ndarray object\n",
    "nyc_water = pd.read_csv('https://raw.githubusercontent.com/jtopor/DAV-5400/master/Week4/Water_Consumption_In_The_New_York_City.csv')\n",
    "\n",
    "# verify you have an ndarray object\n",
    "type(nyc_water)\n",
    "\n",
    "# print the head 5 rows\n",
    "nyc_water.head(5)"
   ]
  },
  {
   "cell_type": "code",
   "execution_count": 18,
   "metadata": {},
   "outputs": [
    {
     "data": {
      "text/html": [
       "<div>\n",
       "<style scoped>\n",
       "    .dataframe tbody tr th:only-of-type {\n",
       "        vertical-align: middle;\n",
       "    }\n",
       "\n",
       "    .dataframe tbody tr th {\n",
       "        vertical-align: top;\n",
       "    }\n",
       "\n",
       "    .dataframe thead th {\n",
       "        text-align: right;\n",
       "    }\n",
       "</style>\n",
       "<table border=\"1\" class=\"dataframe\">\n",
       "  <thead>\n",
       "    <tr style=\"text-align: right;\">\n",
       "      <th></th>\n",
       "      <th>Year</th>\n",
       "      <th>New York City Population</th>\n",
       "      <th>NYC Consumption(Million gallons per day)</th>\n",
       "      <th>Per Capita(Gallons per person per day)</th>\n",
       "    </tr>\n",
       "  </thead>\n",
       "  <tbody>\n",
       "    <tr>\n",
       "      <th>count</th>\n",
       "      <td>39.000000</td>\n",
       "      <td>3.900000e+01</td>\n",
       "      <td>39.000000</td>\n",
       "      <td>39.000000</td>\n",
       "    </tr>\n",
       "    <tr>\n",
       "      <th>mean</th>\n",
       "      <td>1998.000000</td>\n",
       "      <td>7.789046e+06</td>\n",
       "      <td>1234.207692</td>\n",
       "      <td>160.307692</td>\n",
       "    </tr>\n",
       "    <tr>\n",
       "      <th>std</th>\n",
       "      <td>11.401754</td>\n",
       "      <td>4.770796e+05</td>\n",
       "      <td>174.721588</td>\n",
       "      <td>31.930973</td>\n",
       "    </tr>\n",
       "    <tr>\n",
       "      <th>min</th>\n",
       "      <td>1979.000000</td>\n",
       "      <td>7.071639e+06</td>\n",
       "      <td>990.200000</td>\n",
       "      <td>115.000000</td>\n",
       "    </tr>\n",
       "    <tr>\n",
       "      <th>25%</th>\n",
       "      <td>1988.500000</td>\n",
       "      <td>7.343326e+06</td>\n",
       "      <td>1081.350000</td>\n",
       "      <td>133.500000</td>\n",
       "    </tr>\n",
       "    <tr>\n",
       "      <th>50%</th>\n",
       "      <td>1998.000000</td>\n",
       "      <td>7.858259e+06</td>\n",
       "      <td>1237.200000</td>\n",
       "      <td>155.000000</td>\n",
       "    </tr>\n",
       "    <tr>\n",
       "      <th>75%</th>\n",
       "      <td>2007.500000</td>\n",
       "      <td>8.133419e+06</td>\n",
       "      <td>1375.500000</td>\n",
       "      <td>188.000000</td>\n",
       "    </tr>\n",
       "    <tr>\n",
       "      <th>max</th>\n",
       "      <td>2017.000000</td>\n",
       "      <td>8.622698e+06</td>\n",
       "      <td>1512.000000</td>\n",
       "      <td>213.000000</td>\n",
       "    </tr>\n",
       "  </tbody>\n",
       "</table>\n",
       "</div>"
      ],
      "text/plain": [
       "              Year  New York City Population  \\\n",
       "count    39.000000              3.900000e+01   \n",
       "mean   1998.000000              7.789046e+06   \n",
       "std      11.401754              4.770796e+05   \n",
       "min    1979.000000              7.071639e+06   \n",
       "25%    1988.500000              7.343326e+06   \n",
       "50%    1998.000000              7.858259e+06   \n",
       "75%    2007.500000              8.133419e+06   \n",
       "max    2017.000000              8.622698e+06   \n",
       "\n",
       "       NYC Consumption(Million gallons per day)  \\\n",
       "count                                 39.000000   \n",
       "mean                                1234.207692   \n",
       "std                                  174.721588   \n",
       "min                                  990.200000   \n",
       "25%                                 1081.350000   \n",
       "50%                                 1237.200000   \n",
       "75%                                 1375.500000   \n",
       "max                                 1512.000000   \n",
       "\n",
       "       Per Capita(Gallons per person per day)  \n",
       "count                               39.000000  \n",
       "mean                               160.307692  \n",
       "std                                 31.930973  \n",
       "min                                115.000000  \n",
       "25%                                133.500000  \n",
       "50%                                155.000000  \n",
       "75%                                188.000000  \n",
       "max                                213.000000  "
      ]
     },
     "execution_count": 18,
     "metadata": {},
     "output_type": "execute_result"
    }
   ],
   "source": [
    "# calculate this data's basic statistic information.\n",
    "nyc_water.describe()"
   ]
  },
  {
   "cell_type": "code",
   "execution_count": 19,
   "metadata": {},
   "outputs": [
    {
     "name": "stdout",
     "output_type": "stream",
     "text": [
      "Max value of NYC Consumption(Million gallons per day) is 1512.00\n"
     ]
    }
   ],
   "source": [
    "# What is the maximum yearly NYC consumption of water in millions of gallons per day?\n",
    "col_names = nyc_water.columns # get column names\n",
    "max_yearly_cow = nyc_water[col_names[2]].max() # get column 2 ('NYC Consumption(Million gallons per day)') and get max value of column 2\n",
    "print(\"Max value of NYC Consumption(Million gallons per day) is %.2f\" %max_yearly_cow)"
   ]
  },
  {
   "cell_type": "code",
   "execution_count": 20,
   "metadata": {},
   "outputs": [
    {
     "name": "stdout",
     "output_type": "stream",
     "text": [
      "39 calendar years\n"
     ]
    }
   ],
   "source": [
    "# How many calendar years are represented within this data set?\n",
    "years = nyc_water[col_names[0]]\n",
    "\n",
    "# print(years)\n",
    "\n",
    "print(\"%d calendar years\" %years.count())"
   ]
  },
  {
   "cell_type": "code",
   "execution_count": 21,
   "metadata": {},
   "outputs": [
    {
     "name": "stdout",
     "output_type": "stream",
     "text": [
      "the mean is 160.31\n",
      "the standard deviation is 31.93\n"
     ]
    }
   ],
   "source": [
    "# What is the mean and the standard deviation of the per capita daily water consumption?\n",
    "per_capitas = nyc_water[col_names[3]]\n",
    "print(\"the mean is %.2f\" %per_capitas.mean())\n",
    "print(\"the standard deviation is %.2f\" %per_capitas.std())"
   ]
  },
  {
   "cell_type": "code",
   "execution_count": 22,
   "metadata": {},
   "outputs": [
    {
     "name": "stdout",
     "output_type": "stream",
     "text": [
      "[-30461.   17602.   19864.   72119.   53290.   39540.   45192.   23230.\n",
      "  11243.   -9544.   -8525.   38851.   54443.   77222.   64292.   62582.\n",
      "  64772.   75631.   84816.   89401.   60618.   16685.5  16685.5  16685.5\n",
      "  16685.5  16685.5  16685.5  16685.5  16685.5  16685.5  16685.5 108965.\n",
      "  77081.   61281.   49530.   44512.   21171.   85025. ]\n"
     ]
    }
   ],
   "source": [
    "# What is the increase or decrease in population from year to year?\n",
    "populations = nyc_water[col_names[1]]\n",
    "pop_diff = np.diff(populations)\n",
    "print(pop_diff)"
   ]
  },
  {
   "cell_type": "code",
   "execution_count": null,
   "metadata": {},
   "outputs": [],
   "source": []
  }
 ],
 "metadata": {
  "kernelspec": {
   "display_name": "Python 3",
   "language": "python",
   "name": "python3"
  },
  "language_info": {
   "codemirror_mode": {
    "name": "ipython",
    "version": 3
   },
   "file_extension": ".py",
   "mimetype": "text/x-python",
   "name": "python",
   "nbconvert_exporter": "python",
   "pygments_lexer": "ipython3",
   "version": "3.7.6"
  }
 },
 "nbformat": 4,
 "nbformat_minor": 4
}
