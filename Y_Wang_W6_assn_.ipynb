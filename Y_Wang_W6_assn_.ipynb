{
 "cells": [
  {
   "cell_type": "markdown",
   "metadata": {},
   "source": [
    "# Diamonds\n",
    "## Introduction\n",
    "###### A dataset containing the prices and other attributes of almost 54,000 diamonds. The variables are as follows:\n",
    "price\n",
    "price in US dollars (\\$326--\\$18,823)\n",
    "\n",
    "carat\n",
    "weight of the diamond (0.2--5.01)\n",
    "\n",
    "cut\n",
    "quality of the cut (Fair, Good, Very Good, Premium, Ideal)\n",
    "\n",
    "color\n",
    "diamond colour, from D (best) to J (worst)\n",
    "\n",
    "clarity\n",
    "a measurement of how clear the diamond is (I1 (worst), SI2, SI1, VS2, VS1, VVS2, VVS1, IF (best))\n",
    "\n",
    "x\n",
    "length in mm (0--10.74)\n",
    "\n",
    "y\n",
    "width in mm (0--58.9)\n",
    "\n",
    "z\n",
    "depth in mm (0--31.8)\n",
    "\n",
    "depth\n",
    "total depth percentage = z / mean(x, y) = 2 * z / (x + y) (43--79)\n",
    "\n",
    "table\n",
    "width of top of diamond relative to widest point (43--95)"
   ]
  },
  {
   "cell_type": "code",
   "execution_count": 1,
   "metadata": {},
   "outputs": [],
   "source": [
    "import pandas as pd\n",
    "import numpy as np\n",
    "from datetime import datetime"
   ]
  },
  {
   "cell_type": "code",
   "execution_count": 2,
   "metadata": {},
   "outputs": [
    {
     "data": {
      "text/html": [
       "<div>\n",
       "<style scoped>\n",
       "    .dataframe tbody tr th:only-of-type {\n",
       "        vertical-align: middle;\n",
       "    }\n",
       "\n",
       "    .dataframe tbody tr th {\n",
       "        vertical-align: top;\n",
       "    }\n",
       "\n",
       "    .dataframe thead th {\n",
       "        text-align: right;\n",
       "    }\n",
       "</style>\n",
       "<table border=\"1\" class=\"dataframe\">\n",
       "  <thead>\n",
       "    <tr style=\"text-align: right;\">\n",
       "      <th></th>\n",
       "      <th>carat</th>\n",
       "      <th>cut</th>\n",
       "      <th>color</th>\n",
       "      <th>clarity</th>\n",
       "      <th>depth</th>\n",
       "      <th>table</th>\n",
       "      <th>price</th>\n",
       "      <th>x</th>\n",
       "      <th>y</th>\n",
       "      <th>z</th>\n",
       "    </tr>\n",
       "  </thead>\n",
       "  <tbody>\n",
       "    <tr>\n",
       "      <th>0</th>\n",
       "      <td>0.23</td>\n",
       "      <td>Ideal</td>\n",
       "      <td>E</td>\n",
       "      <td>SI2</td>\n",
       "      <td>61.5</td>\n",
       "      <td>55.0</td>\n",
       "      <td>326</td>\n",
       "      <td>3.95</td>\n",
       "      <td>3.98</td>\n",
       "      <td>2.43</td>\n",
       "    </tr>\n",
       "    <tr>\n",
       "      <th>1</th>\n",
       "      <td>0.21</td>\n",
       "      <td>Premium</td>\n",
       "      <td>E</td>\n",
       "      <td>SI1</td>\n",
       "      <td>59.8</td>\n",
       "      <td>61.0</td>\n",
       "      <td>326</td>\n",
       "      <td>3.89</td>\n",
       "      <td>3.84</td>\n",
       "      <td>2.31</td>\n",
       "    </tr>\n",
       "    <tr>\n",
       "      <th>2</th>\n",
       "      <td>0.23</td>\n",
       "      <td>Good</td>\n",
       "      <td>E</td>\n",
       "      <td>VS1</td>\n",
       "      <td>56.9</td>\n",
       "      <td>65.0</td>\n",
       "      <td>327</td>\n",
       "      <td>4.05</td>\n",
       "      <td>4.07</td>\n",
       "      <td>2.31</td>\n",
       "    </tr>\n",
       "    <tr>\n",
       "      <th>3</th>\n",
       "      <td>0.29</td>\n",
       "      <td>Premium</td>\n",
       "      <td>I</td>\n",
       "      <td>VS2</td>\n",
       "      <td>62.4</td>\n",
       "      <td>58.0</td>\n",
       "      <td>334</td>\n",
       "      <td>4.20</td>\n",
       "      <td>4.23</td>\n",
       "      <td>2.63</td>\n",
       "    </tr>\n",
       "    <tr>\n",
       "      <th>4</th>\n",
       "      <td>0.31</td>\n",
       "      <td>Good</td>\n",
       "      <td>J</td>\n",
       "      <td>SI2</td>\n",
       "      <td>63.3</td>\n",
       "      <td>58.0</td>\n",
       "      <td>335</td>\n",
       "      <td>4.34</td>\n",
       "      <td>4.35</td>\n",
       "      <td>2.75</td>\n",
       "    </tr>\n",
       "  </tbody>\n",
       "</table>\n",
       "</div>"
      ],
      "text/plain": [
       "   carat      cut color clarity  depth  table  price     x     y     z\n",
       "0   0.23    Ideal     E     SI2   61.5   55.0    326  3.95  3.98  2.43\n",
       "1   0.21  Premium     E     SI1   59.8   61.0    326  3.89  3.84  2.31\n",
       "2   0.23     Good     E     VS1   56.9   65.0    327  4.05  4.07  2.31\n",
       "3   0.29  Premium     I     VS2   62.4   58.0    334  4.20  4.23  2.63\n",
       "4   0.31     Good     J     SI2   63.3   58.0    335  4.34  4.35  2.75"
      ]
     },
     "execution_count": 2,
     "metadata": {},
     "output_type": "execute_result"
    }
   ],
   "source": [
    "# To read the diamonds and get the DataFrame.\n",
    "filename = \"https://raw.githubusercontent.com/Yuehao-Wang/AIM-5001/master/data/diamonds.csv\"\n",
    "raw_df = pd.read_csv(filename)\n",
    "\n",
    "# To see the head of data set\n",
    "raw_df.head(5)"
   ]
  },
  {
   "cell_type": "code",
   "execution_count": 3,
   "metadata": {},
   "outputs": [
    {
     "data": {
      "text/plain": [
       "(53940, 10)"
      ]
     },
     "execution_count": 3,
     "metadata": {},
     "output_type": "execute_result"
    }
   ],
   "source": [
    "# To see the count of rows and the count of columns\n",
    "raw_df.shape"
   ]
  },
  {
   "cell_type": "code",
   "execution_count": 4,
   "metadata": {},
   "outputs": [
    {
     "data": {
      "text/plain": [
       "carat      float64\n",
       "cut         object\n",
       "color       object\n",
       "clarity     object\n",
       "depth      float64\n",
       "table      float64\n",
       "price        int64\n",
       "x          float64\n",
       "y          float64\n",
       "z          float64\n",
       "dtype: object"
      ]
     },
     "execution_count": 4,
     "metadata": {},
     "output_type": "execute_result"
    }
   ],
   "source": [
    "# To see data types\n",
    "raw_df.dtypes"
   ]
  },
  {
   "cell_type": "code",
   "execution_count": 5,
   "metadata": {},
   "outputs": [
    {
     "data": {
      "text/plain": [
       "carat      0\n",
       "cut        0\n",
       "color      0\n",
       "clarity    0\n",
       "depth      0\n",
       "table      0\n",
       "price      0\n",
       "x          0\n",
       "y          0\n",
       "z          0\n",
       "dtype: int64"
      ]
     },
     "execution_count": 5,
     "metadata": {},
     "output_type": "execute_result"
    }
   ],
   "source": [
    "# check null data\n",
    "raw_df.isnull().sum()"
   ]
  },
  {
   "cell_type": "markdown",
   "metadata": {},
   "source": [
    "#### Selecting Appropriate Plots During Exploratory Data Analysis\n",
    "| column | data type | chart |\n",
    "| :---   | :---      | :---  |\n",
    "| carat | Continuous/ratio | boxplot |\n",
    "| cut | Categorical/nominal | bar chart |\n",
    "| color | Categorical/nominal | bar chart |\n",
    "| clarity | Categorical/nominal | bar chart |\n",
    "| depth | Continuous/interval | Histogram, boxplot |\n",
    "| table | Continuous/interval | Histogram, boxplot |\n",
    "| price | Continuous/ratio | Histogram, boxplot |\n",
    "| x | Continuous/ratio | Histogram, boxplot |\n",
    "| y | Continuous/ratio | Histogram, boxplot |\n",
    "| z | Continuous/ratio | Histogram, boxplot |"
   ]
  },
  {
   "cell_type": "markdown",
   "metadata": {},
   "source": [
    "# Data Preparation\n",
    "- To get a copy of all data\n",
    "- To remove x = 0.0, y = 0.0, z = 0.0, depth = 0.0, because a real diamond is a solid crystal and it has three non-zero dimensions."
   ]
  },
  {
   "cell_type": "code",
   "execution_count": 6,
   "metadata": {},
   "outputs": [],
   "source": [
    "# To get a copy\n",
    "df = raw_df.copy()"
   ]
  },
  {
   "cell_type": "code",
   "execution_count": 7,
   "metadata": {},
   "outputs": [
    {
     "data": {
      "text/html": [
       "<div>\n",
       "<style scoped>\n",
       "    .dataframe tbody tr th:only-of-type {\n",
       "        vertical-align: middle;\n",
       "    }\n",
       "\n",
       "    .dataframe tbody tr th {\n",
       "        vertical-align: top;\n",
       "    }\n",
       "\n",
       "    .dataframe thead th {\n",
       "        text-align: right;\n",
       "    }\n",
       "</style>\n",
       "<table border=\"1\" class=\"dataframe\">\n",
       "  <thead>\n",
       "    <tr style=\"text-align: right;\">\n",
       "      <th></th>\n",
       "      <th>carat</th>\n",
       "      <th>cut</th>\n",
       "      <th>color</th>\n",
       "      <th>clarity</th>\n",
       "      <th>depth</th>\n",
       "      <th>table</th>\n",
       "      <th>price</th>\n",
       "      <th>x</th>\n",
       "      <th>y</th>\n",
       "      <th>z</th>\n",
       "    </tr>\n",
       "  </thead>\n",
       "  <tbody>\n",
       "    <tr>\n",
       "      <th>2207</th>\n",
       "      <td>1.00</td>\n",
       "      <td>Premium</td>\n",
       "      <td>G</td>\n",
       "      <td>SI2</td>\n",
       "      <td>59.1</td>\n",
       "      <td>59.0</td>\n",
       "      <td>3142</td>\n",
       "      <td>6.55</td>\n",
       "      <td>6.48</td>\n",
       "      <td>0.0</td>\n",
       "    </tr>\n",
       "    <tr>\n",
       "      <th>2314</th>\n",
       "      <td>1.01</td>\n",
       "      <td>Premium</td>\n",
       "      <td>H</td>\n",
       "      <td>I1</td>\n",
       "      <td>58.1</td>\n",
       "      <td>59.0</td>\n",
       "      <td>3167</td>\n",
       "      <td>6.66</td>\n",
       "      <td>6.60</td>\n",
       "      <td>0.0</td>\n",
       "    </tr>\n",
       "    <tr>\n",
       "      <th>4791</th>\n",
       "      <td>1.10</td>\n",
       "      <td>Premium</td>\n",
       "      <td>G</td>\n",
       "      <td>SI2</td>\n",
       "      <td>63.0</td>\n",
       "      <td>59.0</td>\n",
       "      <td>3696</td>\n",
       "      <td>6.50</td>\n",
       "      <td>6.47</td>\n",
       "      <td>0.0</td>\n",
       "    </tr>\n",
       "    <tr>\n",
       "      <th>5471</th>\n",
       "      <td>1.01</td>\n",
       "      <td>Premium</td>\n",
       "      <td>F</td>\n",
       "      <td>SI2</td>\n",
       "      <td>59.2</td>\n",
       "      <td>58.0</td>\n",
       "      <td>3837</td>\n",
       "      <td>6.50</td>\n",
       "      <td>6.47</td>\n",
       "      <td>0.0</td>\n",
       "    </tr>\n",
       "    <tr>\n",
       "      <th>10167</th>\n",
       "      <td>1.50</td>\n",
       "      <td>Good</td>\n",
       "      <td>G</td>\n",
       "      <td>I1</td>\n",
       "      <td>64.0</td>\n",
       "      <td>61.0</td>\n",
       "      <td>4731</td>\n",
       "      <td>7.15</td>\n",
       "      <td>7.04</td>\n",
       "      <td>0.0</td>\n",
       "    </tr>\n",
       "    <tr>\n",
       "      <th>11182</th>\n",
       "      <td>1.07</td>\n",
       "      <td>Ideal</td>\n",
       "      <td>F</td>\n",
       "      <td>SI2</td>\n",
       "      <td>61.6</td>\n",
       "      <td>56.0</td>\n",
       "      <td>4954</td>\n",
       "      <td>0.00</td>\n",
       "      <td>6.62</td>\n",
       "      <td>0.0</td>\n",
       "    </tr>\n",
       "    <tr>\n",
       "      <th>11963</th>\n",
       "      <td>1.00</td>\n",
       "      <td>Very Good</td>\n",
       "      <td>H</td>\n",
       "      <td>VS2</td>\n",
       "      <td>63.3</td>\n",
       "      <td>53.0</td>\n",
       "      <td>5139</td>\n",
       "      <td>0.00</td>\n",
       "      <td>0.00</td>\n",
       "      <td>0.0</td>\n",
       "    </tr>\n",
       "    <tr>\n",
       "      <th>13601</th>\n",
       "      <td>1.15</td>\n",
       "      <td>Ideal</td>\n",
       "      <td>G</td>\n",
       "      <td>VS2</td>\n",
       "      <td>59.2</td>\n",
       "      <td>56.0</td>\n",
       "      <td>5564</td>\n",
       "      <td>6.88</td>\n",
       "      <td>6.83</td>\n",
       "      <td>0.0</td>\n",
       "    </tr>\n",
       "    <tr>\n",
       "      <th>15951</th>\n",
       "      <td>1.14</td>\n",
       "      <td>Fair</td>\n",
       "      <td>G</td>\n",
       "      <td>VS1</td>\n",
       "      <td>57.5</td>\n",
       "      <td>67.0</td>\n",
       "      <td>6381</td>\n",
       "      <td>0.00</td>\n",
       "      <td>0.00</td>\n",
       "      <td>0.0</td>\n",
       "    </tr>\n",
       "    <tr>\n",
       "      <th>24394</th>\n",
       "      <td>2.18</td>\n",
       "      <td>Premium</td>\n",
       "      <td>H</td>\n",
       "      <td>SI2</td>\n",
       "      <td>59.4</td>\n",
       "      <td>61.0</td>\n",
       "      <td>12631</td>\n",
       "      <td>8.49</td>\n",
       "      <td>8.45</td>\n",
       "      <td>0.0</td>\n",
       "    </tr>\n",
       "    <tr>\n",
       "      <th>24520</th>\n",
       "      <td>1.56</td>\n",
       "      <td>Ideal</td>\n",
       "      <td>G</td>\n",
       "      <td>VS2</td>\n",
       "      <td>62.2</td>\n",
       "      <td>54.0</td>\n",
       "      <td>12800</td>\n",
       "      <td>0.00</td>\n",
       "      <td>0.00</td>\n",
       "      <td>0.0</td>\n",
       "    </tr>\n",
       "    <tr>\n",
       "      <th>26123</th>\n",
       "      <td>2.25</td>\n",
       "      <td>Premium</td>\n",
       "      <td>I</td>\n",
       "      <td>SI1</td>\n",
       "      <td>61.3</td>\n",
       "      <td>58.0</td>\n",
       "      <td>15397</td>\n",
       "      <td>8.52</td>\n",
       "      <td>8.42</td>\n",
       "      <td>0.0</td>\n",
       "    </tr>\n",
       "    <tr>\n",
       "      <th>26243</th>\n",
       "      <td>1.20</td>\n",
       "      <td>Premium</td>\n",
       "      <td>D</td>\n",
       "      <td>VVS1</td>\n",
       "      <td>62.1</td>\n",
       "      <td>59.0</td>\n",
       "      <td>15686</td>\n",
       "      <td>0.00</td>\n",
       "      <td>0.00</td>\n",
       "      <td>0.0</td>\n",
       "    </tr>\n",
       "    <tr>\n",
       "      <th>27112</th>\n",
       "      <td>2.20</td>\n",
       "      <td>Premium</td>\n",
       "      <td>H</td>\n",
       "      <td>SI1</td>\n",
       "      <td>61.2</td>\n",
       "      <td>59.0</td>\n",
       "      <td>17265</td>\n",
       "      <td>8.42</td>\n",
       "      <td>8.37</td>\n",
       "      <td>0.0</td>\n",
       "    </tr>\n",
       "    <tr>\n",
       "      <th>27429</th>\n",
       "      <td>2.25</td>\n",
       "      <td>Premium</td>\n",
       "      <td>H</td>\n",
       "      <td>SI2</td>\n",
       "      <td>62.8</td>\n",
       "      <td>59.0</td>\n",
       "      <td>18034</td>\n",
       "      <td>0.00</td>\n",
       "      <td>0.00</td>\n",
       "      <td>0.0</td>\n",
       "    </tr>\n",
       "    <tr>\n",
       "      <th>27503</th>\n",
       "      <td>2.02</td>\n",
       "      <td>Premium</td>\n",
       "      <td>H</td>\n",
       "      <td>VS2</td>\n",
       "      <td>62.7</td>\n",
       "      <td>53.0</td>\n",
       "      <td>18207</td>\n",
       "      <td>8.02</td>\n",
       "      <td>7.95</td>\n",
       "      <td>0.0</td>\n",
       "    </tr>\n",
       "    <tr>\n",
       "      <th>27739</th>\n",
       "      <td>2.80</td>\n",
       "      <td>Good</td>\n",
       "      <td>G</td>\n",
       "      <td>SI2</td>\n",
       "      <td>63.8</td>\n",
       "      <td>58.0</td>\n",
       "      <td>18788</td>\n",
       "      <td>8.90</td>\n",
       "      <td>8.85</td>\n",
       "      <td>0.0</td>\n",
       "    </tr>\n",
       "    <tr>\n",
       "      <th>49556</th>\n",
       "      <td>0.71</td>\n",
       "      <td>Good</td>\n",
       "      <td>F</td>\n",
       "      <td>SI2</td>\n",
       "      <td>64.1</td>\n",
       "      <td>60.0</td>\n",
       "      <td>2130</td>\n",
       "      <td>0.00</td>\n",
       "      <td>0.00</td>\n",
       "      <td>0.0</td>\n",
       "    </tr>\n",
       "    <tr>\n",
       "      <th>49557</th>\n",
       "      <td>0.71</td>\n",
       "      <td>Good</td>\n",
       "      <td>F</td>\n",
       "      <td>SI2</td>\n",
       "      <td>64.1</td>\n",
       "      <td>60.0</td>\n",
       "      <td>2130</td>\n",
       "      <td>0.00</td>\n",
       "      <td>0.00</td>\n",
       "      <td>0.0</td>\n",
       "    </tr>\n",
       "    <tr>\n",
       "      <th>51506</th>\n",
       "      <td>1.12</td>\n",
       "      <td>Premium</td>\n",
       "      <td>G</td>\n",
       "      <td>I1</td>\n",
       "      <td>60.4</td>\n",
       "      <td>59.0</td>\n",
       "      <td>2383</td>\n",
       "      <td>6.71</td>\n",
       "      <td>6.67</td>\n",
       "      <td>0.0</td>\n",
       "    </tr>\n",
       "  </tbody>\n",
       "</table>\n",
       "</div>"
      ],
      "text/plain": [
       "       carat        cut color clarity  depth  table  price     x     y    z\n",
       "2207    1.00    Premium     G     SI2   59.1   59.0   3142  6.55  6.48  0.0\n",
       "2314    1.01    Premium     H      I1   58.1   59.0   3167  6.66  6.60  0.0\n",
       "4791    1.10    Premium     G     SI2   63.0   59.0   3696  6.50  6.47  0.0\n",
       "5471    1.01    Premium     F     SI2   59.2   58.0   3837  6.50  6.47  0.0\n",
       "10167   1.50       Good     G      I1   64.0   61.0   4731  7.15  7.04  0.0\n",
       "11182   1.07      Ideal     F     SI2   61.6   56.0   4954  0.00  6.62  0.0\n",
       "11963   1.00  Very Good     H     VS2   63.3   53.0   5139  0.00  0.00  0.0\n",
       "13601   1.15      Ideal     G     VS2   59.2   56.0   5564  6.88  6.83  0.0\n",
       "15951   1.14       Fair     G     VS1   57.5   67.0   6381  0.00  0.00  0.0\n",
       "24394   2.18    Premium     H     SI2   59.4   61.0  12631  8.49  8.45  0.0\n",
       "24520   1.56      Ideal     G     VS2   62.2   54.0  12800  0.00  0.00  0.0\n",
       "26123   2.25    Premium     I     SI1   61.3   58.0  15397  8.52  8.42  0.0\n",
       "26243   1.20    Premium     D    VVS1   62.1   59.0  15686  0.00  0.00  0.0\n",
       "27112   2.20    Premium     H     SI1   61.2   59.0  17265  8.42  8.37  0.0\n",
       "27429   2.25    Premium     H     SI2   62.8   59.0  18034  0.00  0.00  0.0\n",
       "27503   2.02    Premium     H     VS2   62.7   53.0  18207  8.02  7.95  0.0\n",
       "27739   2.80       Good     G     SI2   63.8   58.0  18788  8.90  8.85  0.0\n",
       "49556   0.71       Good     F     SI2   64.1   60.0   2130  0.00  0.00  0.0\n",
       "49557   0.71       Good     F     SI2   64.1   60.0   2130  0.00  0.00  0.0\n",
       "51506   1.12    Premium     G      I1   60.4   59.0   2383  6.71  6.67  0.0"
      ]
     },
     "execution_count": 7,
     "metadata": {},
     "output_type": "execute_result"
    }
   ],
   "source": [
    "df[(df['x'] == 0.0) | (df['y'] == 0.0) | (df['z'] == 0.0) | (df['depth'] == 0.0)]"
   ]
  },
  {
   "cell_type": "markdown",
   "metadata": {},
   "source": [
    "The above table show that data are x = 0.0, y = 0.0, z = 0.0 and depth = 0.0.\n",
    "\n",
    "Then, to remove these data."
   ]
  },
  {
   "cell_type": "code",
   "execution_count": 8,
   "metadata": {},
   "outputs": [
    {
     "data": {
      "text/plain": [
       "(53920, 10)"
      ]
     },
     "execution_count": 8,
     "metadata": {},
     "output_type": "execute_result"
    }
   ],
   "source": [
    "# To remove x = 0.0, y = 0.0, z = 0.0, depth = 0.0\n",
    "df = df.drop(df[df['x'] == 0.0].index)\n",
    "df = df.drop(df[df['y'] == 0.0].index)\n",
    "df = df.drop(df[df['z'] == 0.0].index)\n",
    "df = df.drop(df[df['depth'] == 0.0].index)\n",
    "df.shape"
   ]
  },
  {
   "cell_type": "code",
   "execution_count": 9,
   "metadata": {},
   "outputs": [
    {
     "data": {
      "text/html": [
       "<div>\n",
       "<style scoped>\n",
       "    .dataframe tbody tr th:only-of-type {\n",
       "        vertical-align: middle;\n",
       "    }\n",
       "\n",
       "    .dataframe tbody tr th {\n",
       "        vertical-align: top;\n",
       "    }\n",
       "\n",
       "    .dataframe thead th {\n",
       "        text-align: right;\n",
       "    }\n",
       "</style>\n",
       "<table border=\"1\" class=\"dataframe\">\n",
       "  <thead>\n",
       "    <tr style=\"text-align: right;\">\n",
       "      <th></th>\n",
       "      <th>carat</th>\n",
       "      <th>cut</th>\n",
       "      <th>color</th>\n",
       "      <th>clarity</th>\n",
       "      <th>depth</th>\n",
       "      <th>table</th>\n",
       "      <th>price</th>\n",
       "      <th>x</th>\n",
       "      <th>y</th>\n",
       "      <th>z</th>\n",
       "    </tr>\n",
       "  </thead>\n",
       "  <tbody>\n",
       "  </tbody>\n",
       "</table>\n",
       "</div>"
      ],
      "text/plain": [
       "Empty DataFrame\n",
       "Columns: [carat, cut, color, clarity, depth, table, price, x, y, z]\n",
       "Index: []"
      ]
     },
     "execution_count": 9,
     "metadata": {},
     "output_type": "execute_result"
    }
   ],
   "source": [
    "df[(df['x'] == 0.0) | (df['y'] == 0.0) | (df['z'] == 0.0) | (df['depth'] == 0.0)]"
   ]
  },
  {
   "cell_type": "markdown",
   "metadata": {},
   "source": [
    "After removing x = 0.0, y = 0.0, z = 0.0, depth = 0.0, the data set has 53,920 rows."
   ]
  },
  {
   "cell_type": "markdown",
   "metadata": {},
   "source": [
    "# Data Analysis"
   ]
  },
  {
   "cell_type": "markdown",
   "metadata": {},
   "source": [
    "#### #1. (3 Points) What proportion of diamonds are between .30 and 1.08 carats?\n",
    "- To choose carat\n",
    "- To see basic infromation\n",
    "- To get the counts of carat (between 0.30 and 1.08 carats)\n",
    "- To calculate the proportion. Formular is the counts of carat (between 0.30 and 1.08 carats) / total counts"
   ]
  },
  {
   "cell_type": "code",
   "execution_count": 10,
   "metadata": {},
   "outputs": [],
   "source": [
    "# To choose carat\n",
    "df1 = df['carat']"
   ]
  },
  {
   "cell_type": "code",
   "execution_count": 11,
   "metadata": {},
   "outputs": [
    {
     "data": {
      "text/plain": [
       "53920"
      ]
     },
     "execution_count": 11,
     "metadata": {},
     "output_type": "execute_result"
    }
   ],
   "source": [
    "# To see basic infromation\n",
    "df1[df1 > 0].count()"
   ]
  },
  {
   "cell_type": "code",
   "execution_count": 12,
   "metadata": {},
   "outputs": [
    {
     "data": {
      "text/plain": [
       "True     40277\n",
       "False    13643\n",
       "Name: carat, dtype: int64"
      ]
     },
     "execution_count": 12,
     "metadata": {},
     "output_type": "execute_result"
    }
   ],
   "source": [
    "# To get the counts of carat (between 0.30 and 1.08 carats)\n",
    "count1 = pd.value_counts((df1 >= 0.30) & (df1 <= 1.08))\n",
    "count1"
   ]
  },
  {
   "cell_type": "code",
   "execution_count": 13,
   "metadata": {},
   "outputs": [
    {
     "data": {
      "text/plain": [
       "0.746977002967359"
      ]
     },
     "execution_count": 13,
     "metadata": {},
     "output_type": "execute_result"
    }
   ],
   "source": [
    "# To calculate the proportion\n",
    "result1 = count1[1] / df1.shape[0]\n",
    "result1"
   ]
  },
  {
   "cell_type": "markdown",
   "metadata": {},
   "source": [
    "#### #1 Conclusion\n",
    "The proportion of diamonds (between 0.30 and 1.08 carats) is 0.7469."
   ]
  },
  {
   "cell_type": "markdown",
   "metadata": {},
   "source": [
    "#### #2. (3 Points) How many of the diamonds have equal x and y dimensions?\n",
    "- To ignore x = 0, y = 0 because a real diamond is a solid crystal and it has three non-zero dimensions. It has removed in Data Preparation.\n",
    "- To get the counts of formular (x == y)"
   ]
  },
  {
   "cell_type": "code",
   "execution_count": 14,
   "metadata": {},
   "outputs": [
    {
     "data": {
      "text/plain": [
       "10"
      ]
     },
     "execution_count": 14,
     "metadata": {},
     "output_type": "execute_result"
    }
   ],
   "source": [
    "# To get the number of x == y\n",
    "pd.value_counts(df['x'] == df['y'])[1]"
   ]
  },
  {
   "cell_type": "code",
   "execution_count": 15,
   "metadata": {},
   "outputs": [
    {
     "data": {
      "text/html": [
       "<div>\n",
       "<style scoped>\n",
       "    .dataframe tbody tr th:only-of-type {\n",
       "        vertical-align: middle;\n",
       "    }\n",
       "\n",
       "    .dataframe tbody tr th {\n",
       "        vertical-align: top;\n",
       "    }\n",
       "\n",
       "    .dataframe thead th {\n",
       "        text-align: right;\n",
       "    }\n",
       "</style>\n",
       "<table border=\"1\" class=\"dataframe\">\n",
       "  <thead>\n",
       "    <tr style=\"text-align: right;\">\n",
       "      <th></th>\n",
       "      <th>carat</th>\n",
       "      <th>cut</th>\n",
       "      <th>color</th>\n",
       "      <th>clarity</th>\n",
       "      <th>depth</th>\n",
       "      <th>table</th>\n",
       "      <th>price</th>\n",
       "      <th>x</th>\n",
       "      <th>y</th>\n",
       "      <th>z</th>\n",
       "    </tr>\n",
       "  </thead>\n",
       "  <tbody>\n",
       "    <tr>\n",
       "      <th>3397</th>\n",
       "      <td>0.30</td>\n",
       "      <td>Ideal</td>\n",
       "      <td>H</td>\n",
       "      <td>VVS2</td>\n",
       "      <td>62.5</td>\n",
       "      <td>54.0</td>\n",
       "      <td>567</td>\n",
       "      <td>4.30</td>\n",
       "      <td>4.30</td>\n",
       "      <td>2.70</td>\n",
       "    </tr>\n",
       "    <tr>\n",
       "      <th>10055</th>\n",
       "      <td>0.27</td>\n",
       "      <td>Very Good</td>\n",
       "      <td>F</td>\n",
       "      <td>VVS1</td>\n",
       "      <td>62.0</td>\n",
       "      <td>55.0</td>\n",
       "      <td>591</td>\n",
       "      <td>4.16</td>\n",
       "      <td>4.16</td>\n",
       "      <td>2.59</td>\n",
       "    </tr>\n",
       "    <tr>\n",
       "      <th>16516</th>\n",
       "      <td>1.00</td>\n",
       "      <td>Premium</td>\n",
       "      <td>E</td>\n",
       "      <td>VS2</td>\n",
       "      <td>60.0</td>\n",
       "      <td>60.0</td>\n",
       "      <td>6600</td>\n",
       "      <td>6.43</td>\n",
       "      <td>6.43</td>\n",
       "      <td>3.89</td>\n",
       "    </tr>\n",
       "    <tr>\n",
       "      <th>16851</th>\n",
       "      <td>1.00</td>\n",
       "      <td>Premium</td>\n",
       "      <td>E</td>\n",
       "      <td>VS2</td>\n",
       "      <td>60.0</td>\n",
       "      <td>60.0</td>\n",
       "      <td>6720</td>\n",
       "      <td>6.43</td>\n",
       "      <td>6.43</td>\n",
       "      <td>3.89</td>\n",
       "    </tr>\n",
       "    <tr>\n",
       "      <th>17368</th>\n",
       "      <td>1.22</td>\n",
       "      <td>Premium</td>\n",
       "      <td>G</td>\n",
       "      <td>SI2</td>\n",
       "      <td>62.4</td>\n",
       "      <td>61.0</td>\n",
       "      <td>6969</td>\n",
       "      <td>6.79</td>\n",
       "      <td>6.79</td>\n",
       "      <td>4.23</td>\n",
       "    </tr>\n",
       "    <tr>\n",
       "      <th>34302</th>\n",
       "      <td>0.32</td>\n",
       "      <td>Ideal</td>\n",
       "      <td>D</td>\n",
       "      <td>VVS2</td>\n",
       "      <td>62.1</td>\n",
       "      <td>54.0</td>\n",
       "      <td>858</td>\n",
       "      <td>4.40</td>\n",
       "      <td>4.40</td>\n",
       "      <td>2.74</td>\n",
       "    </tr>\n",
       "    <tr>\n",
       "      <th>40016</th>\n",
       "      <td>0.42</td>\n",
       "      <td>Ideal</td>\n",
       "      <td>H</td>\n",
       "      <td>VVS1</td>\n",
       "      <td>62.8</td>\n",
       "      <td>57.0</td>\n",
       "      <td>1108</td>\n",
       "      <td>4.79</td>\n",
       "      <td>4.79</td>\n",
       "      <td>3.01</td>\n",
       "    </tr>\n",
       "    <tr>\n",
       "      <th>41855</th>\n",
       "      <td>0.61</td>\n",
       "      <td>Premium</td>\n",
       "      <td>G</td>\n",
       "      <td>SI1</td>\n",
       "      <td>60.8</td>\n",
       "      <td>60.0</td>\n",
       "      <td>1255</td>\n",
       "      <td>5.42</td>\n",
       "      <td>5.42</td>\n",
       "      <td>3.31</td>\n",
       "    </tr>\n",
       "    <tr>\n",
       "      <th>42127</th>\n",
       "      <td>0.48</td>\n",
       "      <td>Ideal</td>\n",
       "      <td>F</td>\n",
       "      <td>VS2</td>\n",
       "      <td>62.4</td>\n",
       "      <td>54.0</td>\n",
       "      <td>1279</td>\n",
       "      <td>5.03</td>\n",
       "      <td>5.03</td>\n",
       "      <td>3.15</td>\n",
       "    </tr>\n",
       "    <tr>\n",
       "      <th>43490</th>\n",
       "      <td>0.51</td>\n",
       "      <td>Premium</td>\n",
       "      <td>F</td>\n",
       "      <td>SI1</td>\n",
       "      <td>61.4</td>\n",
       "      <td>59.0</td>\n",
       "      <td>1421</td>\n",
       "      <td>5.13</td>\n",
       "      <td>5.13</td>\n",
       "      <td>3.16</td>\n",
       "    </tr>\n",
       "  </tbody>\n",
       "</table>\n",
       "</div>"
      ],
      "text/plain": [
       "       carat        cut color clarity  depth  table  price     x     y     z\n",
       "3397    0.30      Ideal     H    VVS2   62.5   54.0    567  4.30  4.30  2.70\n",
       "10055   0.27  Very Good     F    VVS1   62.0   55.0    591  4.16  4.16  2.59\n",
       "16516   1.00    Premium     E     VS2   60.0   60.0   6600  6.43  6.43  3.89\n",
       "16851   1.00    Premium     E     VS2   60.0   60.0   6720  6.43  6.43  3.89\n",
       "17368   1.22    Premium     G     SI2   62.4   61.0   6969  6.79  6.79  4.23\n",
       "34302   0.32      Ideal     D    VVS2   62.1   54.0    858  4.40  4.40  2.74\n",
       "40016   0.42      Ideal     H    VVS1   62.8   57.0   1108  4.79  4.79  3.01\n",
       "41855   0.61    Premium     G     SI1   60.8   60.0   1255  5.42  5.42  3.31\n",
       "42127   0.48      Ideal     F     VS2   62.4   54.0   1279  5.03  5.03  3.15\n",
       "43490   0.51    Premium     F     SI1   61.4   59.0   1421  5.13  5.13  3.16"
      ]
     },
     "execution_count": 15,
     "metadata": {},
     "output_type": "execute_result"
    }
   ],
   "source": [
    "# To show the details and To check the results\n",
    "df[df['x'] == df['y']]"
   ]
  },
  {
   "cell_type": "markdown",
   "metadata": {},
   "source": [
    "#### #2 Conclusion\n",
    "There are 10 diamonds that have equal x and y dimensions"
   ]
  },
  {
   "cell_type": "markdown",
   "metadata": {},
   "source": [
    "#### #3. (3 Points) How many of the diamonds have a carat less than the mean carat value?\n",
    "- To calculate the mean carat value\n",
    "- To get counts of the diamonds that a carat is less than the mean carat value.\n",
    "- Carat should be greater and equal than 0.20 because the introduction shows carat weight of the diamond (0.2--5.01)."
   ]
  },
  {
   "cell_type": "code",
   "execution_count": 16,
   "metadata": {},
   "outputs": [],
   "source": [
    "# To get mean of carat\n",
    "mean3 = df['carat'].mean()"
   ]
  },
  {
   "cell_type": "code",
   "execution_count": 17,
   "metadata": {},
   "outputs": [
    {
     "data": {
      "text/plain": [
       "31125"
      ]
     },
     "execution_count": 17,
     "metadata": {},
     "output_type": "execute_result"
    }
   ],
   "source": [
    "# To get data that they are less than mean of carat, and range of weight is (0.2--5.01)\n",
    "pd.value_counts((df['carat'] < mean3) & (df['carat'] >= 0.2) & (df['carat'] <= 5.01) )[1]"
   ]
  },
  {
   "cell_type": "markdown",
   "metadata": {},
   "source": [
    "#### #3 Conclusion\n",
    "There are 31125 diamonds that have a carat less than the mean carat value."
   ]
  },
  {
   "cell_type": "markdown",
   "metadata": {},
   "source": [
    "#### #4. (3 Points) How many diamonds have a Premium cut or better? Note that the possible values for the quality of a cut are ranked in ascending order as follows: Fair / Good / Very Good / Premium / Ideal\n",
    "- To check unique values of cut\n",
    "- To calculate the number of Premium cut or Ideal cut."
   ]
  },
  {
   "cell_type": "code",
   "execution_count": 18,
   "metadata": {},
   "outputs": [
    {
     "data": {
      "text/plain": [
       "array(['Ideal', 'Premium', 'Good', 'Very Good', 'Fair'], dtype=object)"
      ]
     },
     "execution_count": 18,
     "metadata": {},
     "output_type": "execute_result"
    }
   ],
   "source": [
    "# To check unique values of cut\n",
    "df['cut'].unique()"
   ]
  },
  {
   "cell_type": "markdown",
   "metadata": {},
   "source": [
    "After checking, the data set has 5 types of cut. There are 'Ideal', 'Premium', 'Good', 'Very Good', 'Fair'. They match the context of Introduction."
   ]
  },
  {
   "cell_type": "code",
   "execution_count": 19,
   "metadata": {},
   "outputs": [
    {
     "data": {
      "text/plain": [
       "35328"
      ]
     },
     "execution_count": 19,
     "metadata": {},
     "output_type": "execute_result"
    }
   ],
   "source": [
    "# To calculate the number of Premium cut or Ideal cut\n",
    "pd.value_counts((df['cut'] == 'Premium') | (df['cut'] == 'Ideal'))[1]"
   ]
  },
  {
   "cell_type": "code",
   "execution_count": 20,
   "metadata": {},
   "outputs": [
    {
     "data": {
      "text/plain": [
       "13780"
      ]
     },
     "execution_count": 20,
     "metadata": {},
     "output_type": "execute_result"
    }
   ],
   "source": [
    "# To calculate the number of Premium cut\n",
    "pd.value_counts((df['cut'] == 'Premium'))[1]"
   ]
  },
  {
   "cell_type": "code",
   "execution_count": 21,
   "metadata": {},
   "outputs": [
    {
     "data": {
      "text/plain": [
       "21548"
      ]
     },
     "execution_count": 21,
     "metadata": {},
     "output_type": "execute_result"
    }
   ],
   "source": [
    "# To calculate the number of Ideal cut\n",
    "pd.value_counts((df['cut'] == 'Ideal'))[1]"
   ]
  },
  {
   "cell_type": "markdown",
   "metadata": {},
   "source": [
    "#### #4 Conclusion\n",
    "There are 35328 diamonds that have a Premium cut or Ideal cut. The Premium and Ideal has 13780 and 21548, respectively."
   ]
  },
  {
   "cell_type": "markdown",
   "metadata": {},
   "source": [
    "#### #5 (3 Points) Which diamond has the highest price per carat? What is its value?\n",
    "- To check data that price is 0, \n",
    "- To check carat is in the range (0.2, 5.01)\n",
    "- To add a new column named price per carat. Formular is price / carat.\n",
    "- To sort column price per carat by descending. Then show the top 1."
   ]
  },
  {
   "cell_type": "code",
   "execution_count": 22,
   "metadata": {},
   "outputs": [
    {
     "data": {
      "text/plain": [
       "False    53920\n",
       "Name: price, dtype: int64"
      ]
     },
     "execution_count": 22,
     "metadata": {},
     "output_type": "execute_result"
    }
   ],
   "source": [
    "# To check price is 0\n",
    "pd.value_counts(df['price'] == 0.0)"
   ]
  },
  {
   "cell_type": "code",
   "execution_count": 23,
   "metadata": {},
   "outputs": [
    {
     "data": {
      "text/plain": [
       "True    53920\n",
       "Name: carat, dtype: int64"
      ]
     },
     "execution_count": 23,
     "metadata": {},
     "output_type": "execute_result"
    }
   ],
   "source": [
    "# To check carat is in the range [0.2, 5.01]\n",
    "pd.value_counts((df['carat'] >= 0.2) & (df['carat'] <= 5.01))"
   ]
  },
  {
   "cell_type": "markdown",
   "metadata": {},
   "source": [
    "After checking, there is no data that the price is equal to zero, and all values of carat are in the range [0.2, 5.01]"
   ]
  },
  {
   "cell_type": "code",
   "execution_count": 24,
   "metadata": {},
   "outputs": [],
   "source": [
    "# To add a new column named price per carat. Formular is price / carat.\n",
    "df['price per carat'] = df['price'] / df['carat']"
   ]
  },
  {
   "cell_type": "code",
   "execution_count": 25,
   "metadata": {},
   "outputs": [
    {
     "data": {
      "text/plain": [
       "(53920, 11)"
      ]
     },
     "execution_count": 25,
     "metadata": {},
     "output_type": "execute_result"
    }
   ],
   "source": [
    "# To check columns\n",
    "df.shape"
   ]
  },
  {
   "cell_type": "code",
   "execution_count": 26,
   "metadata": {},
   "outputs": [
    {
     "data": {
      "text/html": [
       "<div>\n",
       "<style scoped>\n",
       "    .dataframe tbody tr th:only-of-type {\n",
       "        vertical-align: middle;\n",
       "    }\n",
       "\n",
       "    .dataframe tbody tr th {\n",
       "        vertical-align: top;\n",
       "    }\n",
       "\n",
       "    .dataframe thead th {\n",
       "        text-align: right;\n",
       "    }\n",
       "</style>\n",
       "<table border=\"1\" class=\"dataframe\">\n",
       "  <thead>\n",
       "    <tr style=\"text-align: right;\">\n",
       "      <th></th>\n",
       "      <th>carat</th>\n",
       "      <th>cut</th>\n",
       "      <th>color</th>\n",
       "      <th>clarity</th>\n",
       "      <th>depth</th>\n",
       "      <th>table</th>\n",
       "      <th>price</th>\n",
       "      <th>x</th>\n",
       "      <th>y</th>\n",
       "      <th>z</th>\n",
       "      <th>price per carat</th>\n",
       "    </tr>\n",
       "  </thead>\n",
       "  <tbody>\n",
       "    <tr>\n",
       "      <th>27635</th>\n",
       "      <td>1.04</td>\n",
       "      <td>Very Good</td>\n",
       "      <td>D</td>\n",
       "      <td>IF</td>\n",
       "      <td>61.3</td>\n",
       "      <td>56.0</td>\n",
       "      <td>18542</td>\n",
       "      <td>6.53</td>\n",
       "      <td>6.55</td>\n",
       "      <td>4.01</td>\n",
       "      <td>17828.846154</td>\n",
       "    </tr>\n",
       "  </tbody>\n",
       "</table>\n",
       "</div>"
      ],
      "text/plain": [
       "       carat        cut color clarity  depth  table  price     x     y     z  \\\n",
       "27635   1.04  Very Good     D      IF   61.3   56.0  18542  6.53  6.55  4.01   \n",
       "\n",
       "       price per carat  \n",
       "27635     17828.846154  "
      ]
     },
     "execution_count": 26,
     "metadata": {},
     "output_type": "execute_result"
    }
   ],
   "source": [
    "# To sort column price per carat by descending. Then show the top 1.\n",
    "df.sort_values(by = 'price per carat', ascending=False).head(1)"
   ]
  },
  {
   "cell_type": "markdown",
   "metadata": {},
   "source": [
    "#### #5 Conclusion\n",
    "The diamond that index is 27635, carat is 1.04 Carat, cut is Very Good and Color is D has the highest price per carat. Its price per carat is 17828.85."
   ]
  },
  {
   "cell_type": "markdown",
   "metadata": {},
   "source": [
    "#### #6 (3 Points) Make a bar plot of the ‘cut’ data. What does it tell us about the frequencies of the individual cut values within the data set?\n",
    "- To get the frequencies of 5 type of cuts.\n",
    "- Using bar chart to illustrate."
   ]
  },
  {
   "cell_type": "code",
   "execution_count": 27,
   "metadata": {},
   "outputs": [
    {
     "data": {
      "text/plain": [
       "Ideal        21548\n",
       "Premium      13780\n",
       "Very Good    12081\n",
       "Good          4902\n",
       "Fair          1609\n",
       "Name: cut, dtype: int64"
      ]
     },
     "execution_count": 27,
     "metadata": {},
     "output_type": "execute_result"
    }
   ],
   "source": [
    "# To get the frequencies of 5 type of cuts.\n",
    "df['cut'].value_counts()"
   ]
  },
  {
   "cell_type": "code",
   "execution_count": 28,
   "metadata": {},
   "outputs": [
    {
     "data": {
      "text/plain": [
       "<matplotlib.axes._subplots.AxesSubplot at 0x1dca386cb88>"
      ]
     },
     "execution_count": 28,
     "metadata": {},
     "output_type": "execute_result"
    },
    {
     "data": {
      "image/png": "[encoded data removed]",
      "text/plain": [
       "<Figure size 432x288 with 1 Axes>"
      ]
     },
     "metadata": {
      "needs_background": "light"
     },
     "output_type": "display_data"
    }
   ],
   "source": [
    "# Using bar chart to illustrate.\n",
    "bplt6 = df['cut'].value_counts().plot.bar(title = \"Freq of cut\")\n",
    "bplt6"
   ]
  },
  {
   "cell_type": "markdown",
   "metadata": {},
   "source": [
    "#### #6 Conclusion\n",
    "The above table and bar chart statistics show that Ideal cut diamonds has the highest frequencies (21548). The amount of Premium and Very Good cut diamonds are 13780 and 12081, respectively. The number of Good cut is 4902. The Fair cut has the lowest frequencies (1609)."
   ]
  },
  {
   "cell_type": "markdown",
   "metadata": {},
   "source": [
    "#### #7 (4 Points) Make boxplots of the diamond price for each cut and discuss any conclusions you can draw from the appearance of the boxplots\n",
    "- To group by cut, then to get mean, std., min, max, count, 25%, 50%, 75% by describe().\n",
    "- Matrix transpose.\n",
    "- To illustrate as boxplot."
   ]
  },
  {
   "cell_type": "code",
   "execution_count": 29,
   "metadata": {},
   "outputs": [],
   "source": [
    "# To group by cut, then to get mean, std., min, max, count, 25%, 50%, 75% by describe().\n",
    "df7 = df[['cut', 'price']].groupby('cut').describe()"
   ]
  },
  {
   "cell_type": "code",
   "execution_count": 30,
   "metadata": {},
   "outputs": [
    {
     "data": {
      "text/html": [
       "<div>\n",
       "<style scoped>\n",
       "    .dataframe tbody tr th:only-of-type {\n",
       "        vertical-align: middle;\n",
       "    }\n",
       "\n",
       "    .dataframe tbody tr th {\n",
       "        vertical-align: top;\n",
       "    }\n",
       "\n",
       "    .dataframe thead th {\n",
       "        text-align: right;\n",
       "    }\n",
       "</style>\n",
       "<table border=\"1\" class=\"dataframe\">\n",
       "  <thead>\n",
       "    <tr style=\"text-align: right;\">\n",
       "      <th></th>\n",
       "      <th>cut</th>\n",
       "      <th>Fair</th>\n",
       "      <th>Good</th>\n",
       "      <th>Ideal</th>\n",
       "      <th>Premium</th>\n",
       "      <th>Very Good</th>\n",
       "    </tr>\n",
       "  </thead>\n",
       "  <tbody>\n",
       "    <tr>\n",
       "      <th rowspan=\"8\" valign=\"top\">price</th>\n",
       "      <th>count</th>\n",
       "      <td>1609.000000</td>\n",
       "      <td>4902.000000</td>\n",
       "      <td>21548.000000</td>\n",
       "      <td>13780.000000</td>\n",
       "      <td>12081.000000</td>\n",
       "    </tr>\n",
       "    <tr>\n",
       "      <th>mean</th>\n",
       "      <td>4357.500932</td>\n",
       "      <td>3926.403509</td>\n",
       "      <td>3456.941201</td>\n",
       "      <td>4579.684543</td>\n",
       "      <td>3981.664101</td>\n",
       "    </tr>\n",
       "    <tr>\n",
       "      <th>std</th>\n",
       "      <td>3561.136245</td>\n",
       "      <td>3676.772435</td>\n",
       "      <td>3808.093737</td>\n",
       "      <td>4343.906282</td>\n",
       "      <td>3936.010981</td>\n",
       "    </tr>\n",
       "    <tr>\n",
       "      <th>min</th>\n",
       "      <td>337.000000</td>\n",
       "      <td>327.000000</td>\n",
       "      <td>326.000000</td>\n",
       "      <td>326.000000</td>\n",
       "      <td>336.000000</td>\n",
       "    </tr>\n",
       "    <tr>\n",
       "      <th>25%</th>\n",
       "      <td>2050.000000</td>\n",
       "      <td>1144.250000</td>\n",
       "      <td>878.000000</td>\n",
       "      <td>1046.000000</td>\n",
       "      <td>912.000000</td>\n",
       "    </tr>\n",
       "    <tr>\n",
       "      <th>50%</th>\n",
       "      <td>3282.000000</td>\n",
       "      <td>3050.500000</td>\n",
       "      <td>1809.500000</td>\n",
       "      <td>3182.000000</td>\n",
       "      <td>2647.000000</td>\n",
       "    </tr>\n",
       "    <tr>\n",
       "      <th>75%</th>\n",
       "      <td>5198.000000</td>\n",
       "      <td>5028.000000</td>\n",
       "      <td>4678.000000</td>\n",
       "      <td>6290.250000</td>\n",
       "      <td>5373.000000</td>\n",
       "    </tr>\n",
       "    <tr>\n",
       "      <th>max</th>\n",
       "      <td>18574.000000</td>\n",
       "      <td>18707.000000</td>\n",
       "      <td>18806.000000</td>\n",
       "      <td>18823.000000</td>\n",
       "      <td>18818.000000</td>\n",
       "    </tr>\n",
       "  </tbody>\n",
       "</table>\n",
       "</div>"
      ],
      "text/plain": [
       "cut                  Fair          Good         Ideal       Premium  \\\n",
       "price count   1609.000000   4902.000000  21548.000000  13780.000000   \n",
       "      mean    4357.500932   3926.403509   3456.941201   4579.684543   \n",
       "      std     3561.136245   3676.772435   3808.093737   4343.906282   \n",
       "      min      337.000000    327.000000    326.000000    326.000000   \n",
       "      25%     2050.000000   1144.250000    878.000000   1046.000000   \n",
       "      50%     3282.000000   3050.500000   1809.500000   3182.000000   \n",
       "      75%     5198.000000   5028.000000   4678.000000   6290.250000   \n",
       "      max    18574.000000  18707.000000  18806.000000  18823.000000   \n",
       "\n",
       "cut             Very Good  \n",
       "price count  12081.000000  \n",
       "      mean    3981.664101  \n",
       "      std     3936.010981  \n",
       "      min      336.000000  \n",
       "      25%      912.000000  \n",
       "      50%     2647.000000  \n",
       "      75%     5373.000000  \n",
       "      max    18818.000000  "
      ]
     },
     "execution_count": 30,
     "metadata": {},
     "output_type": "execute_result"
    }
   ],
   "source": [
    "# After doing transposition, to show describe.\n",
    "df7.T"
   ]
  },
  {
   "cell_type": "code",
   "execution_count": 31,
   "metadata": {
    "scrolled": false
   },
   "outputs": [
    {
     "data": {
      "text/plain": [
       "<matplotlib.axes._subplots.AxesSubplot at 0x1dca3a2cdc8>"
      ]
     },
     "execution_count": 31,
     "metadata": {},
     "output_type": "execute_result"
    },
    {
     "data": {
      "image/png": "[encoded data removed]",
      "text/plain": [
       "<Figure size 432x288 with 1 Axes>"
      ]
     },
     "metadata": {
      "needs_background": "light"
     },
     "output_type": "display_data"
    }
   ],
   "source": [
    "# To illustrate as boxplot\n",
    "boxplot7 = df.boxplot(\"price\", by=\"cut\")\n",
    "boxplot7"
   ]
  },
  {
   "cell_type": "markdown",
   "metadata": {},
   "source": [
    "#### #7 conclusion\n",
    "The above boxpolt and descriptive statistics show as following:\n",
    "\n",
    "- Fair cut is skewed low side with a mean of 4357.50, a min of 337.00, a max of 18574.00, and a standard deviation of 3561.14. It has many outliers.\n",
    "- Good cut is skewed low side with a mean of 3926.40, a min of 327.00, a max of 18707.00, and a standard deviation of 3676.77. It has many outliers.\n",
    "- Ideal cut is skewed low side with a mean of 3456.94, a min of 326.00, a max of 18806.00, and a standard deviation of 3676.77. It has many outliers.\n",
    "- Premium cut is skewed low side with a mean of 4579.68, a min of 326.00, a max of 18823.00, and a standard deviation of 4343.91. It has many outliers.\n",
    "- Very Good cut is skewed low side with a mean of 3981.66, a min of 336.00, a max of 18818.00, and a standard deviation of 3936.01. It has many outliers.\n",
    "\n",
    "\n",
    "- Center and spread\n",
    "\n",
    "    - Ideal cut has the lowest median in 5 cuts. It means that over 50% of Ideal cuts price are higher than median of Ideal cut.\n",
    "    - Premium cut has the largest IQR (Q3 - Q1) = 5244.25. In contrast Fair cut has the lowest IQR (Q3 - Q1) = 3148.00.\n",
    "    - Premium cut has the highest maximum price(18823.00), but Fair cut has the lowest maximum price(18574.00).\n",
    "\n",
    "\n",
    "- Look for indicators of nonnormal or unusual data\n",
    "    - Ideal cut is skewed low side. The majority of the data are located on low side of the graph. The data may not be normally distributed.\n",
    "    - Good cut is skewed middle postion. The data may be normally distributed.\n",
    "    - Very Good, Premium and Fair cuts are all skewed low side.\n",
    "    - All of 5 cuts have many outilers.\n",
    "\n",
    "\n",
    "- Assess and compare groups\n",
    "    - All of 5 cuts have different median prices. Premium cut has the highest median.\n",
    "    - The price of Premium and Very Good cut are more variable than others"
   ]
  },
  {
   "cell_type": "markdown",
   "metadata": {},
   "source": [
    "#### #8. (4 Points) Make histograms of the length, width, depth, and total depth attributes and discuss any conclusions you can draw from the shape of the resulting distributions.\n",
    "- To get sub data set, column are 'x', 'y', 'z', 'depth'.\n",
    "- To rename columns as 'length', 'width', 'depth', 'total depth percentage'\n",
    "- To show describe and histogram"
   ]
  },
  {
   "cell_type": "code",
   "execution_count": 32,
   "metadata": {},
   "outputs": [
    {
     "data": {
      "text/html": [
       "<div>\n",
       "<style scoped>\n",
       "    .dataframe tbody tr th:only-of-type {\n",
       "        vertical-align: middle;\n",
       "    }\n",
       "\n",
       "    .dataframe tbody tr th {\n",
       "        vertical-align: top;\n",
       "    }\n",
       "\n",
       "    .dataframe thead th {\n",
       "        text-align: right;\n",
       "    }\n",
       "</style>\n",
       "<table border=\"1\" class=\"dataframe\">\n",
       "  <thead>\n",
       "    <tr style=\"text-align: right;\">\n",
       "      <th></th>\n",
       "      <th>length</th>\n",
       "      <th>width</th>\n",
       "      <th>depth</th>\n",
       "      <th>total depth percentage</th>\n",
       "    </tr>\n",
       "  </thead>\n",
       "  <tbody>\n",
       "    <tr>\n",
       "      <th>count</th>\n",
       "      <td>53920.000000</td>\n",
       "      <td>53920.000000</td>\n",
       "      <td>53920.000000</td>\n",
       "      <td>53920.000000</td>\n",
       "    </tr>\n",
       "    <tr>\n",
       "      <th>mean</th>\n",
       "      <td>5.731627</td>\n",
       "      <td>5.734887</td>\n",
       "      <td>3.540046</td>\n",
       "      <td>61.749514</td>\n",
       "    </tr>\n",
       "    <tr>\n",
       "      <th>std</th>\n",
       "      <td>1.119423</td>\n",
       "      <td>1.140126</td>\n",
       "      <td>0.702530</td>\n",
       "      <td>1.432331</td>\n",
       "    </tr>\n",
       "    <tr>\n",
       "      <th>min</th>\n",
       "      <td>3.730000</td>\n",
       "      <td>3.680000</td>\n",
       "      <td>1.070000</td>\n",
       "      <td>43.000000</td>\n",
       "    </tr>\n",
       "    <tr>\n",
       "      <th>25%</th>\n",
       "      <td>4.710000</td>\n",
       "      <td>4.720000</td>\n",
       "      <td>2.910000</td>\n",
       "      <td>61.000000</td>\n",
       "    </tr>\n",
       "    <tr>\n",
       "      <th>50%</th>\n",
       "      <td>5.700000</td>\n",
       "      <td>5.710000</td>\n",
       "      <td>3.530000</td>\n",
       "      <td>61.800000</td>\n",
       "    </tr>\n",
       "    <tr>\n",
       "      <th>75%</th>\n",
       "      <td>6.540000</td>\n",
       "      <td>6.540000</td>\n",
       "      <td>4.040000</td>\n",
       "      <td>62.500000</td>\n",
       "    </tr>\n",
       "    <tr>\n",
       "      <th>max</th>\n",
       "      <td>10.740000</td>\n",
       "      <td>58.900000</td>\n",
       "      <td>31.800000</td>\n",
       "      <td>79.000000</td>\n",
       "    </tr>\n",
       "  </tbody>\n",
       "</table>\n",
       "</div>"
      ],
      "text/plain": [
       "             length         width         depth  total depth percentage\n",
       "count  53920.000000  53920.000000  53920.000000            53920.000000\n",
       "mean       5.731627      5.734887      3.540046               61.749514\n",
       "std        1.119423      1.140126      0.702530                1.432331\n",
       "min        3.730000      3.680000      1.070000               43.000000\n",
       "25%        4.710000      4.720000      2.910000               61.000000\n",
       "50%        5.700000      5.710000      3.530000               61.800000\n",
       "75%        6.540000      6.540000      4.040000               62.500000\n",
       "max       10.740000     58.900000     31.800000               79.000000"
      ]
     },
     "execution_count": 32,
     "metadata": {},
     "output_type": "execute_result"
    }
   ],
   "source": [
    "# To get sub data set, column are 'x', 'y', 'z', 'depth'. \n",
    "# Then To rename columns as 'length', 'width', 'depth', 'total depth percentage'.\n",
    "df8 = df[['x', 'y', 'z', 'depth']].rename(columns={'x':'length', 'y':'width', 'z':'depth', 'depth':'total depth percentage'})\n",
    "\n",
    "# To show the descriptive. \n",
    "df8.describe()"
   ]
  },
  {
   "cell_type": "code",
   "execution_count": 33,
   "metadata": {},
   "outputs": [
    {
     "data": {
      "text/plain": [
       "<matplotlib.axes._subplots.AxesSubplot at 0x1dca4b35948>"
      ]
     },
     "execution_count": 33,
     "metadata": {},
     "output_type": "execute_result"
    },
    {
     "data": {
      "image/png": "[encoded data removed]",
      "text/plain": [
       "<Figure size 432x288 with 1 Axes>"
      ]
     },
     "metadata": {
      "needs_background": "light"
     },
     "output_type": "display_data"
    }
   ],
   "source": [
    "df8['length'].hist()"
   ]
  },
  {
   "cell_type": "markdown",
   "metadata": {},
   "source": [
    "- Length\n",
    "\n",
    "The above histogram and descriptive statistics show that the overall distribution of length concentrates between 4.71 and 6.54 mm, with a mean of 5.73 mm, a minimum of 3.73 mm, and a max of 10.47 mm. The histogram indicates that there are some outliers, since three standard deviations above the mean is roughly 9.09 mm. Anything past 9.09 mm could be considered an outlier."
   ]
  },
  {
   "cell_type": "code",
   "execution_count": 34,
   "metadata": {},
   "outputs": [
    {
     "data": {
      "text/plain": [
       "<matplotlib.axes._subplots.AxesSubplot at 0x1dca4bc7a48>"
      ]
     },
     "execution_count": 34,
     "metadata": {},
     "output_type": "execute_result"
    },
    {
     "data": {
      "image/png": "[encoded data removed]",
      "text/plain": [
       "<Figure size 432x288 with 1 Axes>"
      ]
     },
     "metadata": {
      "needs_background": "light"
     },
     "output_type": "display_data"
    }
   ],
   "source": [
    "df8['width'].hist()"
   ]
  },
  {
   "cell_type": "markdown",
   "metadata": {},
   "source": [
    "- Width\n",
    "\n",
    "The above histogram and descriptive statistics show that the overall distribution of width concentrates between 4.72 and 6.54 mm, with a mean of 5.73 mm, a minimum of 0 mm, and a max of 58.90 mm. The maximum of 58.90 mm tells us that there are definitely outliers because the 75th percentile is 6.54, and 3 standard deviations above the mean would be 9.15. Anything past 9.15 mm could be considered an outlier."
   ]
  },
  {
   "cell_type": "code",
   "execution_count": 35,
   "metadata": {},
   "outputs": [
    {
     "data": {
      "text/plain": [
       "<matplotlib.axes._subplots.AxesSubplot at 0x1dca4c131c8>"
      ]
     },
     "execution_count": 35,
     "metadata": {},
     "output_type": "execute_result"
    },
    {
     "data": {
      "image/png": "[encoded data removed]",
      "text/plain": [
       "<Figure size 432x288 with 1 Axes>"
      ]
     },
     "metadata": {
      "needs_background": "light"
     },
     "output_type": "display_data"
    }
   ],
   "source": [
    "df8['depth'].hist()"
   ]
  },
  {
   "cell_type": "markdown",
   "metadata": {},
   "source": [
    "- Depth\n",
    "\n",
    "The above histogram and descriptive statistics show that the overall distribution of depth concentrates between 2.91 and 4.04 mm, with a mean of 3.54 mm, a minimum of 1.07 mm, and a max of 31.8mm. The histogram indicates that there are some outliers, since three standard deviations above the mean is roughly 5.64 mm. Anything past 5.64 mm could be considered an outlier."
   ]
  },
  {
   "cell_type": "code",
   "execution_count": 36,
   "metadata": {},
   "outputs": [
    {
     "data": {
      "text/plain": [
       "<matplotlib.axes._subplots.AxesSubplot at 0x1dca356cac8>"
      ]
     },
     "execution_count": 36,
     "metadata": {},
     "output_type": "execute_result"
    },
    {
     "data": {
      "image/png": "[encoded data removed]",
      "text/plain": [
       "<Figure size 432x288 with 1 Axes>"
      ]
     },
     "metadata": {
      "needs_background": "light"
     },
     "output_type": "display_data"
    }
   ],
   "source": [
    "df8['total depth percentage'].hist()"
   ]
  },
  {
   "cell_type": "markdown",
   "metadata": {},
   "source": [
    "- Total Depth Percentage\n",
    "\n",
    "The above histogram and descriptive statistics show that the overall distribution of total depth percentage concentrates between 61.00% and 62.50%, with a mean of 61.75%, a minimum of 43.00%, and a max of 79.00%. The histogram indicates that the maximum of 79.00% tells us that there are definitely outliers because the 75th percentile is 62.50%, and 3 standard deviations above the mean would be 66.04%. Anything past 66.04% could be considered an outlier."
   ]
  },
  {
   "cell_type": "markdown",
   "metadata": {},
   "source": [
    "#### #8 Conclusion\n",
    "-  The length, width, depth, and total depth attributes are all have outilers."
   ]
  },
  {
   "cell_type": "markdown",
   "metadata": {},
   "source": [
    "#### #9. (4 Points) Make a scatter plot of price vs. carat. What can we say about the relationship between those two attributes?\n",
    "- To check that carat is not in the range [0.2, 5.01] and price is not 0\n",
    "- To illustrate as scatter"
   ]
  },
  {
   "cell_type": "code",
   "execution_count": 37,
   "metadata": {},
   "outputs": [
    {
     "data": {
      "text/plain": [
       "True    53920\n",
       "Name: carat, dtype: int64"
      ]
     },
     "execution_count": 37,
     "metadata": {},
     "output_type": "execute_result"
    }
   ],
   "source": [
    "# To check that carat is not in the range [0.2, 5.01]\n",
    "pd.value_counts((df['carat'] >= 0.2) & (df['carat'] <= 5.01))"
   ]
  },
  {
   "cell_type": "code",
   "execution_count": 38,
   "metadata": {},
   "outputs": [
    {
     "data": {
      "text/plain": [
       "False    53920\n",
       "Name: price, dtype: int64"
      ]
     },
     "execution_count": 38,
     "metadata": {},
     "output_type": "execute_result"
    }
   ],
   "source": [
    "# To check that price is not 0\n",
    "pd.value_counts(df['price'] == 0.0)"
   ]
  },
  {
   "cell_type": "code",
   "execution_count": 39,
   "metadata": {},
   "outputs": [
    {
     "data": {
      "text/html": [
       "<div>\n",
       "<style scoped>\n",
       "    .dataframe tbody tr th:only-of-type {\n",
       "        vertical-align: middle;\n",
       "    }\n",
       "\n",
       "    .dataframe tbody tr th {\n",
       "        vertical-align: top;\n",
       "    }\n",
       "\n",
       "    .dataframe thead th {\n",
       "        text-align: right;\n",
       "    }\n",
       "</style>\n",
       "<table border=\"1\" class=\"dataframe\">\n",
       "  <thead>\n",
       "    <tr style=\"text-align: right;\">\n",
       "      <th></th>\n",
       "      <th>carat</th>\n",
       "      <th>price</th>\n",
       "    </tr>\n",
       "  </thead>\n",
       "  <tbody>\n",
       "    <tr>\n",
       "      <th>count</th>\n",
       "      <td>53920.000000</td>\n",
       "      <td>53920.000000</td>\n",
       "    </tr>\n",
       "    <tr>\n",
       "      <th>mean</th>\n",
       "      <td>0.797698</td>\n",
       "      <td>3930.993231</td>\n",
       "    </tr>\n",
       "    <tr>\n",
       "      <th>std</th>\n",
       "      <td>0.473795</td>\n",
       "      <td>3987.280446</td>\n",
       "    </tr>\n",
       "    <tr>\n",
       "      <th>min</th>\n",
       "      <td>0.200000</td>\n",
       "      <td>326.000000</td>\n",
       "    </tr>\n",
       "    <tr>\n",
       "      <th>25%</th>\n",
       "      <td>0.400000</td>\n",
       "      <td>949.000000</td>\n",
       "    </tr>\n",
       "    <tr>\n",
       "      <th>50%</th>\n",
       "      <td>0.700000</td>\n",
       "      <td>2401.000000</td>\n",
       "    </tr>\n",
       "    <tr>\n",
       "      <th>75%</th>\n",
       "      <td>1.040000</td>\n",
       "      <td>5323.250000</td>\n",
       "    </tr>\n",
       "    <tr>\n",
       "      <th>max</th>\n",
       "      <td>5.010000</td>\n",
       "      <td>18823.000000</td>\n",
       "    </tr>\n",
       "  </tbody>\n",
       "</table>\n",
       "</div>"
      ],
      "text/plain": [
       "              carat         price\n",
       "count  53920.000000  53920.000000\n",
       "mean       0.797698   3930.993231\n",
       "std        0.473795   3987.280446\n",
       "min        0.200000    326.000000\n",
       "25%        0.400000    949.000000\n",
       "50%        0.700000   2401.000000\n",
       "75%        1.040000   5323.250000\n",
       "max        5.010000  18823.000000"
      ]
     },
     "execution_count": 39,
     "metadata": {},
     "output_type": "execute_result"
    }
   ],
   "source": [
    "df[['carat', 'price']].describe()"
   ]
  },
  {
   "cell_type": "markdown",
   "metadata": {},
   "source": [
    "After checking, there are no data that price is zero and carat is not in the range [0.2, 5.01]\n",
    "\n",
    "Then, to illustrate as scatter chart."
   ]
  },
  {
   "cell_type": "code",
   "execution_count": 40,
   "metadata": {},
   "outputs": [
    {
     "data": {
      "image/png": "[encoded data removed]",
      "text/plain": [
       "<Figure size 1152x648 with 1 Axes>"
      ]
     },
     "metadata": {
      "needs_background": "light"
     },
     "output_type": "display_data"
    }
   ],
   "source": [
    "# To set scale of x-axis\n",
    "my_x_ticks = np.arange(0, 5.2, 0.2)\n",
    "\n",
    "# To illustrate as scatter\n",
    "ax9 = df.plot.scatter(x='carat',\n",
    "                      y='price', alpha=0.3, title = 'Price vs. Carat', s = (df['price per carat'] / 1000), figsize=(16,9),\n",
    "                     xticks = my_x_ticks)"
   ]
  },
  {
   "cell_type": "markdown",
   "metadata": {},
   "source": [
    "#### #9 Conclusion\n",
    "The above descriptive statistics and scatter chart show as following:\n",
    "- There is a positive relationship between Price and Carat.\n",
    "- The trend appears to be roughly upward curve, though certainly not perfectly so.\n",
    "- The dark blue shows that the data are concentrated. The light blue shows that data quantity is less. \n",
    "- The size of the point shows the value of the price per carat. The bigger point shows the higher price pre carat.\n",
    "- When carat is 0.5, 0.7, 0.9, 1.0, 1.2, 1.5, 1.7, 2 and 3, there are clear groupings.\n",
    "- Data concentrates on that carat is (Q3, Q1) = (0.4, 1.04) and price is (Q3, Q1) = (5323.25, 949.00)\n",
    "- There are some outliers, and we should pay attention to them.\n",
    "- The carat is probably a good price predictor."
   ]
  },
  {
   "cell_type": "code",
   "execution_count": null,
   "metadata": {},
   "outputs": [],
   "source": []
  }
 ],
 "metadata": {
  "kernelspec": {
   "display_name": "Python 3",
   "language": "python",
   "name": "python3"
  },
  "language_info": {
   "codemirror_mode": {
    "name": "ipython",
    "version": 3
   },
   "file_extension": ".py",
   "mimetype": "text/x-python",
   "name": "python",
   "nbconvert_exporter": "python",
   "pygments_lexer": "ipython3",
   "version": "3.7.6"
  }
 },
 "nbformat": 4,
 "nbformat_minor": 4
}
