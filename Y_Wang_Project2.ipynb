{
 "cells": [
  {
   "cell_type": "markdown",
   "metadata": {},
   "source": [
    "# Project 2: Exploratory Data Analysis Using Matplotlib & Seaborn"
   ]
  },
  {
   "cell_type": "markdown",
   "metadata": {},
   "source": [
    "# Introduction\n",
    "\n",
    "For this project I will be utilizing a data set on student performance to answer research questions.\n",
    "\n",
    "This data comes from the https://archive.ics.uci.edu/. A description of the dataset can be found https://archive.ics.uci.edu/ml/datasets/Student+Performance."
   ]
  },
  {
   "cell_type": "markdown",
   "metadata": {},
   "source": [
    "First I will import pandas, numpy, matplotlib and seaborn."
   ]
  },
  {
   "cell_type": "code",
   "execution_count": 1,
   "metadata": {},
   "outputs": [],
   "source": [
    "# first import libs\n",
    "import pandas as pd\n",
    "import numpy as np\n",
    "import matplotlib.pyplot as plt\n",
    "import seaborn as sns"
   ]
  },
  {
   "cell_type": "markdown",
   "metadata": {},
   "source": [
    "# Data Summary"
   ]
  },
  {
   "cell_type": "markdown",
   "metadata": {},
   "source": [
    "I will read the file into Jupyter by using the code provided in the assignment."
   ]
  },
  {
   "cell_type": "code",
   "execution_count": 2,
   "metadata": {},
   "outputs": [
    {
     "data": {
      "text/html": [
       "<div>\n",
       "<style scoped>\n",
       "    .dataframe tbody tr th:only-of-type {\n",
       "        vertical-align: middle;\n",
       "    }\n",
       "\n",
       "    .dataframe tbody tr th {\n",
       "        vertical-align: top;\n",
       "    }\n",
       "\n",
       "    .dataframe thead th {\n",
       "        text-align: right;\n",
       "    }\n",
       "</style>\n",
       "<table border=\"1\" class=\"dataframe\">\n",
       "  <thead>\n",
       "    <tr style=\"text-align: right;\">\n",
       "      <th></th>\n",
       "      <th>school</th>\n",
       "      <th>sex</th>\n",
       "      <th>age</th>\n",
       "      <th>address</th>\n",
       "      <th>famsize</th>\n",
       "      <th>Pstatus</th>\n",
       "      <th>Medu</th>\n",
       "      <th>Fedu</th>\n",
       "      <th>Mjob</th>\n",
       "      <th>Fjob</th>\n",
       "      <th>...</th>\n",
       "      <th>famrel</th>\n",
       "      <th>freetime</th>\n",
       "      <th>goout</th>\n",
       "      <th>Dalc</th>\n",
       "      <th>Walc</th>\n",
       "      <th>health</th>\n",
       "      <th>absences</th>\n",
       "      <th>G1</th>\n",
       "      <th>G2</th>\n",
       "      <th>G3</th>\n",
       "    </tr>\n",
       "  </thead>\n",
       "  <tbody>\n",
       "    <tr>\n",
       "      <th>0</th>\n",
       "      <td>GP</td>\n",
       "      <td>F</td>\n",
       "      <td>18</td>\n",
       "      <td>U</td>\n",
       "      <td>GT3</td>\n",
       "      <td>A</td>\n",
       "      <td>4</td>\n",
       "      <td>4</td>\n",
       "      <td>at_home</td>\n",
       "      <td>teacher</td>\n",
       "      <td>...</td>\n",
       "      <td>4</td>\n",
       "      <td>3</td>\n",
       "      <td>4</td>\n",
       "      <td>1</td>\n",
       "      <td>1</td>\n",
       "      <td>3</td>\n",
       "      <td>6</td>\n",
       "      <td>5</td>\n",
       "      <td>6</td>\n",
       "      <td>6</td>\n",
       "    </tr>\n",
       "    <tr>\n",
       "      <th>1</th>\n",
       "      <td>GP</td>\n",
       "      <td>F</td>\n",
       "      <td>17</td>\n",
       "      <td>U</td>\n",
       "      <td>GT3</td>\n",
       "      <td>T</td>\n",
       "      <td>1</td>\n",
       "      <td>1</td>\n",
       "      <td>at_home</td>\n",
       "      <td>other</td>\n",
       "      <td>...</td>\n",
       "      <td>5</td>\n",
       "      <td>3</td>\n",
       "      <td>3</td>\n",
       "      <td>1</td>\n",
       "      <td>1</td>\n",
       "      <td>3</td>\n",
       "      <td>4</td>\n",
       "      <td>5</td>\n",
       "      <td>5</td>\n",
       "      <td>6</td>\n",
       "    </tr>\n",
       "    <tr>\n",
       "      <th>2</th>\n",
       "      <td>GP</td>\n",
       "      <td>F</td>\n",
       "      <td>15</td>\n",
       "      <td>U</td>\n",
       "      <td>LE3</td>\n",
       "      <td>T</td>\n",
       "      <td>1</td>\n",
       "      <td>1</td>\n",
       "      <td>at_home</td>\n",
       "      <td>other</td>\n",
       "      <td>...</td>\n",
       "      <td>4</td>\n",
       "      <td>3</td>\n",
       "      <td>2</td>\n",
       "      <td>2</td>\n",
       "      <td>3</td>\n",
       "      <td>3</td>\n",
       "      <td>10</td>\n",
       "      <td>7</td>\n",
       "      <td>8</td>\n",
       "      <td>10</td>\n",
       "    </tr>\n",
       "    <tr>\n",
       "      <th>3</th>\n",
       "      <td>GP</td>\n",
       "      <td>F</td>\n",
       "      <td>15</td>\n",
       "      <td>U</td>\n",
       "      <td>GT3</td>\n",
       "      <td>T</td>\n",
       "      <td>4</td>\n",
       "      <td>2</td>\n",
       "      <td>health</td>\n",
       "      <td>services</td>\n",
       "      <td>...</td>\n",
       "      <td>3</td>\n",
       "      <td>2</td>\n",
       "      <td>2</td>\n",
       "      <td>1</td>\n",
       "      <td>1</td>\n",
       "      <td>5</td>\n",
       "      <td>2</td>\n",
       "      <td>15</td>\n",
       "      <td>14</td>\n",
       "      <td>15</td>\n",
       "    </tr>\n",
       "    <tr>\n",
       "      <th>4</th>\n",
       "      <td>GP</td>\n",
       "      <td>F</td>\n",
       "      <td>16</td>\n",
       "      <td>U</td>\n",
       "      <td>GT3</td>\n",
       "      <td>T</td>\n",
       "      <td>3</td>\n",
       "      <td>3</td>\n",
       "      <td>other</td>\n",
       "      <td>other</td>\n",
       "      <td>...</td>\n",
       "      <td>4</td>\n",
       "      <td>3</td>\n",
       "      <td>2</td>\n",
       "      <td>1</td>\n",
       "      <td>2</td>\n",
       "      <td>5</td>\n",
       "      <td>4</td>\n",
       "      <td>6</td>\n",
       "      <td>10</td>\n",
       "      <td>10</td>\n",
       "    </tr>\n",
       "  </tbody>\n",
       "</table>\n",
       "<p>5 rows × 33 columns</p>\n",
       "</div>"
      ],
      "text/plain": [
       "  school sex  age address famsize Pstatus  Medu  Fedu     Mjob      Fjob  ...  \\\n",
       "0     GP   F   18       U     GT3       A     4     4  at_home   teacher  ...   \n",
       "1     GP   F   17       U     GT3       T     1     1  at_home     other  ...   \n",
       "2     GP   F   15       U     LE3       T     1     1  at_home     other  ...   \n",
       "3     GP   F   15       U     GT3       T     4     2   health  services  ...   \n",
       "4     GP   F   16       U     GT3       T     3     3    other     other  ...   \n",
       "\n",
       "  famrel freetime  goout  Dalc  Walc health absences  G1  G2  G3  \n",
       "0      4        3      4     1     1      3        6   5   6   6  \n",
       "1      5        3      3     1     1      3        4   5   5   6  \n",
       "2      4        3      2     2     3      3       10   7   8  10  \n",
       "3      3        2      2     1     1      5        2  15  14  15  \n",
       "4      4        3      2     1     2      5        4   6  10  10  \n",
       "\n",
       "[5 rows x 33 columns]"
      ]
     },
     "execution_count": 2,
     "metadata": {},
     "output_type": "execute_result"
    }
   ],
   "source": [
    "# To read the student-mat and get the DataFrame.\n",
    "mat_file = \"https://raw.githubusercontent.com/Yuehao-Wang/AIM-5001/master/student-mat.csv\"\n",
    "mat_df = pd.read_csv(mat_file, sep=';')\n",
    "\n",
    "# To see the head of data set\n",
    "mat_df.head(5)"
   ]
  },
  {
   "cell_type": "code",
   "execution_count": 3,
   "metadata": {},
   "outputs": [
    {
     "data": {
      "text/plain": [
       "(395, 33)"
      ]
     },
     "execution_count": 3,
     "metadata": {},
     "output_type": "execute_result"
    }
   ],
   "source": [
    "# To see data size\n",
    "mat_df.shape"
   ]
  },
  {
   "cell_type": "markdown",
   "metadata": {},
   "source": [
    "This data set has 395 rows and 33 attributions."
   ]
  },
  {
   "cell_type": "code",
   "execution_count": 4,
   "metadata": {},
   "outputs": [
    {
     "data": {
      "text/plain": [
       "Index(['school', 'sex', 'age', 'address', 'famsize', 'Pstatus', 'Medu', 'Fedu',\n",
       "       'Mjob', 'Fjob', 'reason', 'guardian', 'traveltime', 'studytime',\n",
       "       'failures', 'schoolsup', 'famsup', 'paid', 'activities', 'nursery',\n",
       "       'higher', 'internet', 'romantic', 'famrel', 'freetime', 'goout', 'Dalc',\n",
       "       'Walc', 'health', 'absences', 'G1', 'G2', 'G3'],\n",
       "      dtype='object')"
      ]
     },
     "execution_count": 4,
     "metadata": {},
     "output_type": "execute_result"
    }
   ],
   "source": [
    "# To see columns\n",
    "mat_df.columns"
   ]
  },
  {
   "cell_type": "code",
   "execution_count": 5,
   "metadata": {},
   "outputs": [
    {
     "data": {
      "text/plain": [
       "school        object\n",
       "sex           object\n",
       "age            int64\n",
       "address       object\n",
       "famsize       object\n",
       "Pstatus       object\n",
       "Medu           int64\n",
       "Fedu           int64\n",
       "Mjob          object\n",
       "Fjob          object\n",
       "reason        object\n",
       "guardian      object\n",
       "traveltime     int64\n",
       "studytime      int64\n",
       "failures       int64\n",
       "schoolsup     object\n",
       "famsup        object\n",
       "paid          object\n",
       "activities    object\n",
       "nursery       object\n",
       "higher        object\n",
       "internet      object\n",
       "romantic      object\n",
       "famrel         int64\n",
       "freetime       int64\n",
       "goout          int64\n",
       "Dalc           int64\n",
       "Walc           int64\n",
       "health         int64\n",
       "absences       int64\n",
       "G1             int64\n",
       "G2             int64\n",
       "G3             int64\n",
       "dtype: object"
      ]
     },
     "execution_count": 5,
     "metadata": {},
     "output_type": "execute_result"
    }
   ],
   "source": [
    "# To see data types\n",
    "mat_df.dtypes"
   ]
  },
  {
   "cell_type": "markdown",
   "metadata": {},
   "source": [
    "### Selecting Appropriate Plots\n",
    "|column|data type| categore | chart |\n",
    "| :--- | :--- | :--- | :--- |\n",
    "|school       | object| Categorical/nominal |boxplot, barchar|\n",
    "|sex          | object| Categorical/nominal |boxplot, barchar|\n",
    "|age          |  int64| Categorical/nominal |boxplot, barchar|\n",
    "|address      | object| Categorical/nominal |boxplot, barchar|\n",
    "|famsize      | object| Categorical/nominal |boxplot, barchar|\n",
    "|Pstatus      | object| Categorical/nominal |boxplot, barchar|\n",
    "|Medu         |  int64| Categorical/nominal |boxplot, barchar|\n",
    "|Fedu         |  int64| Categorical/nominal |boxplot, barchar|\n",
    "|Mjob         | object| Categorical/nominal |boxplot, barchar|\n",
    "|Fjob         | object| Categorical/nominal |boxplot, barchar|\n",
    "|reason       | object| Categorical/nominal |boxplot, barchar|\n",
    "|guardian     | object| Categorical/nominal |boxplot, barchar|\n",
    "|traveltime   |  int64| Categorical/nominal |boxplot, barchar|\n",
    "|studytime    |  int64| Categorical/nominal |boxplot, barchar|\n",
    "|failures     |  int64| Categorical/nominal |boxplot, barchar|\n",
    "|schoolsup    | object| Categorical/nominal |boxplot, barchar|\n",
    "|famsup       | object| Categorical/nominal |boxplot, barchar|\n",
    "|paid         | object| Categorical/nominal |boxplot, barchar|\n",
    "|activities   | object| Categorical/nominal |boxplot, barchar|\n",
    "|nursery      | object| Categorical/nominal |boxplot, barchar|\n",
    "|higher       | object| Categorical/nominal |boxplot, barchar|\n",
    "|internet     | object| Categorical/nominal |boxplot, barchar|\n",
    "|romantic     | object| Categorical/nominal |boxplot, barchar|\n",
    "|famrel       |  int64| Categorical/nominal |boxplot, barchar|\n",
    "|freetime     |  int64| Categorical/nominal |boxplot, barchar|\n",
    "|goout        |  int64| Categorical/nominal |boxplot, barchar|\n",
    "|Dalc         |  int64| Categorical/nominal |boxplot, barchar|\n",
    "|Walc         |  int64| Categorical/nominal |boxplot, barchar|\n",
    "|health       |  int64| Categorical/nominal |boxplot, barchar|\n",
    "|absences     |  int64| Categorical/nominal |boxplot, barchar|\n",
    "|G1           |  int64| Continuous/ratio    |boxplot, barchar, Histogram|\n",
    "|G2           |  int64| Continuous/ratio    |boxplot, barchar, Histogram|\n",
    "|G3           |  int64| Continuous/ratio    |boxplot, barchar, Histogram|"
   ]
  },
  {
   "cell_type": "markdown",
   "metadata": {},
   "source": [
    "### Attribute Information:\n",
    "\n",
    "#### Attributes for both student-mat.csv (Math course) datasets:\n",
    "- 1 school - student's school (binary: 'GP' - Gabriel Pereira or 'MS' - Mousinho da Silveira)\n",
    "- 2 sex - student's sex (binary: 'F' - female or 'M' - male)\n",
    "- 3 age - student's age (numeric: from 15 to 22)\n",
    "- 4 address - student's home address type (binary: 'U' - urban or 'R' - rural)\n",
    "- 5 famsize - family size (binary: 'LE3' - less or equal to 3 or 'GT3' - greater than 3)\n",
    "- 6 Pstatus - parent's cohabitation status (binary: 'T' - living together or 'A' - apart)\n",
    "- 7 Medu - mother's education (numeric: 0 - none, 1 - primary education (4th grade), 2 5th to 9th grade, 3 secondary education or 4 higher education)\n",
    "- 8 Fedu - father's education (numeric: 0 - none, 1 - primary education (4th grade), 2 5th to 9th grade, 3 secondary education or 4 higher education)\n",
    "- 9 Mjob - mother's job (nominal: 'teacher', 'health' care related, civil 'services' (e.g. administrative or police), 'at_home' or 'other')\n",
    "- 10 Fjob - father's job (nominal: 'teacher', 'health' care related, civil 'services' (e.g. administrative or police), 'at_home' or 'other')\n",
    "- 11 reason - reason to choose this school (nominal: close to 'home', school 'reputation', 'course' preference or 'other')\n",
    "- 12 guardian - student's guardian (nominal: 'mother', 'father' or 'other')\n",
    "- 13 traveltime - home to school travel time (numeric: 1 - <15 min., 2 - 15 to 30 min., 3 - 30 min. to 1 hour, or 4 - >1 hour)\n",
    "- 14 studytime - weekly study time (numeric: 1 - <2 hours, 2 - 2 to 5 hours, 3 - 5 to 10 hours, or 4 - >10 hours)\n",
    "- 15 failures - number of past class failures (numeric: n if 1<=n<3, else 4)\n",
    "- 16 schoolsup - extra educational support (binary: yes or no)\n",
    "- 17 famsup - family educational support (binary: yes or no)\n",
    "- 18 paid - extra paid classes within the course subject (Math) (binary: yes or no)\n",
    "- 19 activities - extra-curricular activities (binary: yes or no)\n",
    "- 20 nursery - attended nursery school (binary: yes or no)\n",
    "- 21 higher - wants to take higher education (binary: yes or no)\n",
    "- 22 internet - Internet access at home (binary: yes or no)\n",
    "- 23 romantic - with a romantic relationship (binary: yes or no)\n",
    "- 24 famrel - quality of family relationships (numeric: from 1 - very bad to 5 - excellent)\n",
    "- 25 freetime - free time after school (numeric: from 1 - very low to 5 - very high)\n",
    "- 26 goout - going out with friends (numeric: from 1 - very low to 5 - very high)\n",
    "- 27 Dalc - workday alcohol consumption (numeric: from 1 - very low to 5 - very high)\n",
    "- 28 Walc - weekend alcohol consumption (numeric: from 1 - very low to 5 - very high)\n",
    "- 29 health - current health status (numeric: from 1 - very bad to 5 - very good)\n",
    "- 30 absences - number of school absences (numeric: from 0 to 93)\n",
    "\n",
    "#### these grades are related with the course subject, Math:\n",
    "- 31 G1 - first period grade (numeric: from 0 to 20)\n",
    "- 31 G2 - second period grade (numeric: from 0 to 20)\n",
    "- 32 G3 - final grade (numeric: from 0 to 20, output target)"
   ]
  },
  {
   "cell_type": "code",
   "execution_count": 6,
   "metadata": {},
   "outputs": [
    {
     "data": {
      "text/plain": [
       "school        0\n",
       "sex           0\n",
       "age           0\n",
       "address       0\n",
       "famsize       0\n",
       "Pstatus       0\n",
       "Medu          0\n",
       "Fedu          0\n",
       "Mjob          0\n",
       "Fjob          0\n",
       "reason        0\n",
       "guardian      0\n",
       "traveltime    0\n",
       "studytime     0\n",
       "failures      0\n",
       "schoolsup     0\n",
       "famsup        0\n",
       "paid          0\n",
       "activities    0\n",
       "nursery       0\n",
       "higher        0\n",
       "internet      0\n",
       "romantic      0\n",
       "famrel        0\n",
       "freetime      0\n",
       "goout         0\n",
       "Dalc          0\n",
       "Walc          0\n",
       "health        0\n",
       "absences      0\n",
       "G1            0\n",
       "G2            0\n",
       "G3            0\n",
       "dtype: int64"
      ]
     },
     "execution_count": 6,
     "metadata": {},
     "output_type": "execute_result"
    }
   ],
   "source": [
    "# check null data\n",
    "mat_df.isnull().sum()"
   ]
  },
  {
   "cell_type": "markdown",
   "metadata": {},
   "source": [
    "This data set does not have NaN value"
   ]
  },
  {
   "cell_type": "markdown",
   "metadata": {},
   "source": [
    "# Exploratory Data Analysis (EDA)"
   ]
  },
  {
   "cell_type": "code",
   "execution_count": 7,
   "metadata": {},
   "outputs": [
    {
     "data": {
      "text/html": [
       "<div>\n",
       "<style scoped>\n",
       "    .dataframe tbody tr th:only-of-type {\n",
       "        vertical-align: middle;\n",
       "    }\n",
       "\n",
       "    .dataframe tbody tr th {\n",
       "        vertical-align: top;\n",
       "    }\n",
       "\n",
       "    .dataframe thead th {\n",
       "        text-align: right;\n",
       "    }\n",
       "</style>\n",
       "<table border=\"1\" class=\"dataframe\">\n",
       "  <thead>\n",
       "    <tr style=\"text-align: right;\">\n",
       "      <th></th>\n",
       "      <th>count</th>\n",
       "      <th>mean</th>\n",
       "      <th>std</th>\n",
       "      <th>min</th>\n",
       "      <th>25%</th>\n",
       "      <th>50%</th>\n",
       "      <th>75%</th>\n",
       "      <th>max</th>\n",
       "    </tr>\n",
       "  </thead>\n",
       "  <tbody>\n",
       "    <tr>\n",
       "      <th>age</th>\n",
       "      <td>395.0</td>\n",
       "      <td>16.696203</td>\n",
       "      <td>1.276043</td>\n",
       "      <td>15.0</td>\n",
       "      <td>16.0</td>\n",
       "      <td>17.0</td>\n",
       "      <td>18.0</td>\n",
       "      <td>22.0</td>\n",
       "    </tr>\n",
       "    <tr>\n",
       "      <th>Medu</th>\n",
       "      <td>395.0</td>\n",
       "      <td>2.749367</td>\n",
       "      <td>1.094735</td>\n",
       "      <td>0.0</td>\n",
       "      <td>2.0</td>\n",
       "      <td>3.0</td>\n",
       "      <td>4.0</td>\n",
       "      <td>4.0</td>\n",
       "    </tr>\n",
       "    <tr>\n",
       "      <th>Fedu</th>\n",
       "      <td>395.0</td>\n",
       "      <td>2.521519</td>\n",
       "      <td>1.088201</td>\n",
       "      <td>0.0</td>\n",
       "      <td>2.0</td>\n",
       "      <td>2.0</td>\n",
       "      <td>3.0</td>\n",
       "      <td>4.0</td>\n",
       "    </tr>\n",
       "    <tr>\n",
       "      <th>traveltime</th>\n",
       "      <td>395.0</td>\n",
       "      <td>1.448101</td>\n",
       "      <td>0.697505</td>\n",
       "      <td>1.0</td>\n",
       "      <td>1.0</td>\n",
       "      <td>1.0</td>\n",
       "      <td>2.0</td>\n",
       "      <td>4.0</td>\n",
       "    </tr>\n",
       "    <tr>\n",
       "      <th>studytime</th>\n",
       "      <td>395.0</td>\n",
       "      <td>2.035443</td>\n",
       "      <td>0.839240</td>\n",
       "      <td>1.0</td>\n",
       "      <td>1.0</td>\n",
       "      <td>2.0</td>\n",
       "      <td>2.0</td>\n",
       "      <td>4.0</td>\n",
       "    </tr>\n",
       "    <tr>\n",
       "      <th>failures</th>\n",
       "      <td>395.0</td>\n",
       "      <td>0.334177</td>\n",
       "      <td>0.743651</td>\n",
       "      <td>0.0</td>\n",
       "      <td>0.0</td>\n",
       "      <td>0.0</td>\n",
       "      <td>0.0</td>\n",
       "      <td>3.0</td>\n",
       "    </tr>\n",
       "    <tr>\n",
       "      <th>famrel</th>\n",
       "      <td>395.0</td>\n",
       "      <td>3.944304</td>\n",
       "      <td>0.896659</td>\n",
       "      <td>1.0</td>\n",
       "      <td>4.0</td>\n",
       "      <td>4.0</td>\n",
       "      <td>5.0</td>\n",
       "      <td>5.0</td>\n",
       "    </tr>\n",
       "    <tr>\n",
       "      <th>freetime</th>\n",
       "      <td>395.0</td>\n",
       "      <td>3.235443</td>\n",
       "      <td>0.998862</td>\n",
       "      <td>1.0</td>\n",
       "      <td>3.0</td>\n",
       "      <td>3.0</td>\n",
       "      <td>4.0</td>\n",
       "      <td>5.0</td>\n",
       "    </tr>\n",
       "    <tr>\n",
       "      <th>goout</th>\n",
       "      <td>395.0</td>\n",
       "      <td>3.108861</td>\n",
       "      <td>1.113278</td>\n",
       "      <td>1.0</td>\n",
       "      <td>2.0</td>\n",
       "      <td>3.0</td>\n",
       "      <td>4.0</td>\n",
       "      <td>5.0</td>\n",
       "    </tr>\n",
       "    <tr>\n",
       "      <th>Dalc</th>\n",
       "      <td>395.0</td>\n",
       "      <td>1.481013</td>\n",
       "      <td>0.890741</td>\n",
       "      <td>1.0</td>\n",
       "      <td>1.0</td>\n",
       "      <td>1.0</td>\n",
       "      <td>2.0</td>\n",
       "      <td>5.0</td>\n",
       "    </tr>\n",
       "    <tr>\n",
       "      <th>Walc</th>\n",
       "      <td>395.0</td>\n",
       "      <td>2.291139</td>\n",
       "      <td>1.287897</td>\n",
       "      <td>1.0</td>\n",
       "      <td>1.0</td>\n",
       "      <td>2.0</td>\n",
       "      <td>3.0</td>\n",
       "      <td>5.0</td>\n",
       "    </tr>\n",
       "    <tr>\n",
       "      <th>health</th>\n",
       "      <td>395.0</td>\n",
       "      <td>3.554430</td>\n",
       "      <td>1.390303</td>\n",
       "      <td>1.0</td>\n",
       "      <td>3.0</td>\n",
       "      <td>4.0</td>\n",
       "      <td>5.0</td>\n",
       "      <td>5.0</td>\n",
       "    </tr>\n",
       "    <tr>\n",
       "      <th>absences</th>\n",
       "      <td>395.0</td>\n",
       "      <td>5.708861</td>\n",
       "      <td>8.003096</td>\n",
       "      <td>0.0</td>\n",
       "      <td>0.0</td>\n",
       "      <td>4.0</td>\n",
       "      <td>8.0</td>\n",
       "      <td>75.0</td>\n",
       "    </tr>\n",
       "    <tr>\n",
       "      <th>G1</th>\n",
       "      <td>395.0</td>\n",
       "      <td>10.908861</td>\n",
       "      <td>3.319195</td>\n",
       "      <td>3.0</td>\n",
       "      <td>8.0</td>\n",
       "      <td>11.0</td>\n",
       "      <td>13.0</td>\n",
       "      <td>19.0</td>\n",
       "    </tr>\n",
       "    <tr>\n",
       "      <th>G2</th>\n",
       "      <td>395.0</td>\n",
       "      <td>10.713924</td>\n",
       "      <td>3.761505</td>\n",
       "      <td>0.0</td>\n",
       "      <td>9.0</td>\n",
       "      <td>11.0</td>\n",
       "      <td>13.0</td>\n",
       "      <td>19.0</td>\n",
       "    </tr>\n",
       "    <tr>\n",
       "      <th>G3</th>\n",
       "      <td>395.0</td>\n",
       "      <td>10.415190</td>\n",
       "      <td>4.581443</td>\n",
       "      <td>0.0</td>\n",
       "      <td>8.0</td>\n",
       "      <td>11.0</td>\n",
       "      <td>14.0</td>\n",
       "      <td>20.0</td>\n",
       "    </tr>\n",
       "  </tbody>\n",
       "</table>\n",
       "</div>"
      ],
      "text/plain": [
       "            count       mean       std   min   25%   50%   75%   max\n",
       "age         395.0  16.696203  1.276043  15.0  16.0  17.0  18.0  22.0\n",
       "Medu        395.0   2.749367  1.094735   0.0   2.0   3.0   4.0   4.0\n",
       "Fedu        395.0   2.521519  1.088201   0.0   2.0   2.0   3.0   4.0\n",
       "traveltime  395.0   1.448101  0.697505   1.0   1.0   1.0   2.0   4.0\n",
       "studytime   395.0   2.035443  0.839240   1.0   1.0   2.0   2.0   4.0\n",
       "failures    395.0   0.334177  0.743651   0.0   0.0   0.0   0.0   3.0\n",
       "famrel      395.0   3.944304  0.896659   1.0   4.0   4.0   5.0   5.0\n",
       "freetime    395.0   3.235443  0.998862   1.0   3.0   3.0   4.0   5.0\n",
       "goout       395.0   3.108861  1.113278   1.0   2.0   3.0   4.0   5.0\n",
       "Dalc        395.0   1.481013  0.890741   1.0   1.0   1.0   2.0   5.0\n",
       "Walc        395.0   2.291139  1.287897   1.0   1.0   2.0   3.0   5.0\n",
       "health      395.0   3.554430  1.390303   1.0   3.0   4.0   5.0   5.0\n",
       "absences    395.0   5.708861  8.003096   0.0   0.0   4.0   8.0  75.0\n",
       "G1          395.0  10.908861  3.319195   3.0   8.0  11.0  13.0  19.0\n",
       "G2          395.0  10.713924  3.761505   0.0   9.0  11.0  13.0  19.0\n",
       "G3          395.0  10.415190  4.581443   0.0   8.0  11.0  14.0  20.0"
      ]
     },
     "execution_count": 7,
     "metadata": {},
     "output_type": "execute_result"
    }
   ],
   "source": [
    "# To describe the dataset.\n",
    "mat_df.describe().T"
   ]
  },
  {
   "cell_type": "markdown",
   "metadata": {},
   "source": [
    "Based on checking of these attributes, many of attributes are category data. We can do categorical data analysis.\n",
    "There are 3 columns numeric variables."
   ]
  },
  {
   "cell_type": "code",
   "execution_count": 8,
   "metadata": {},
   "outputs": [
    {
     "data": {
      "image/png": "[encoded data removed]",
      "text/plain": [
       "<Figure size 720x288 with 3 Axes>"
      ]
     },
     "metadata": {
      "needs_background": "light"
     },
     "output_type": "display_data"
    }
   ],
   "source": [
    "# distribution histogram of all numeric variables\n",
    "plt.figure(figsize = (10, 4))\n",
    "for i, col in enumerate(list(mat_df[[\"G1\", \"G2\", \"G3\"]].columns.values)):\n",
    "    plt.subplot(1, 3, i + 1)\n",
    "    sns.distplot(mat_df[col], color = 'r', kde = True, bins = 20)\n",
    "    plt.grid()\n",
    "    plt.tight_layout()"
   ]
  },
  {
   "cell_type": "markdown",
   "metadata": {},
   "source": [
    "%matplotlib notebook\n",
    "\n",
    "Reference https://matplotlib.org/3.3.0/gallery/statistics/histogram_features.html"
   ]
  },
  {
   "cell_type": "code",
   "execution_count": 9,
   "metadata": {},
   "outputs": [
    {
     "data": {
      "image/png": "[encoded data removed]",
      "text/plain": [
       "<Figure size 720x288 with 3 Axes>"
      ]
     },
     "metadata": {
      "needs_background": "light"
     },
     "output_type": "display_data"
    }
   ],
   "source": [
    "def mat_g123_bestline(df_ser, ax, title):\n",
    "    \"\"\"\n",
    "    To draw the best line and hist chart.\n",
    "\n",
    "    df_ser:\n",
    "      pandas.Series: A list of numeric.\n",
    "      \n",
    "    ax:\n",
    "      Matplotlib.axes.Axes: a Axes.\n",
    "      \n",
    "    title:\n",
    "      string: lable of x axis .\n",
    "\n",
    "    Returns:\n",
    "      null.\n",
    "\n",
    "    Raises:\n",
    "      none\n",
    "    \"\"\"\n",
    "    mu = df_ser.mean()  # mean of distribution\n",
    "    sigma = df_ser.std()  # standard deviation of distribution\n",
    "    x = df_ser\n",
    "    num_bins = 20\n",
    "\n",
    "    n, bins, patches = ax.hist(x, num_bins, density=1)\n",
    "\n",
    "    # add a 'best fit' line\n",
    "    y = ((1 / (np.sqrt(2 * np.pi) * sigma)) *\n",
    "         np.exp(-0.5 * (1 / sigma * (bins - mu))**2))\n",
    "    \n",
    "    ax.plot(bins, y, '--')\n",
    "    ax.set_xlabel(title)\n",
    "    ax.set_ylabel('Probability density')\n",
    "    \n",
    "def mat_g123_hist():\n",
    "    \"\"\"\n",
    "    To create subplots and create hist chart.\n",
    "\n",
    "    input parameters:\n",
    "      none\n",
    "\n",
    "    Returns:\n",
    "      null.\n",
    "\n",
    "    Raises:\n",
    "      none\n",
    "    \"\"\"\n",
    "    # Create 3 subplots and unpack the output array immediately\n",
    "    f, (ax1, ax2, ax3) = plt.subplots(1, 3, sharey=True, figsize=(10, 4))\n",
    "\n",
    "    mat_g123_bestline(mat_df[\"G1\"], ax1, \"G1\")\n",
    "    mat_g123_bestline(mat_df[\"G2\"], ax2, \"G1\")\n",
    "    mat_g123_bestline(mat_df[\"G3\"], ax3, \"G1\")\n",
    "\n",
    "    # Tweak spacing to prevent clipping of ylabel\n",
    "    f.tight_layout()\n",
    "    plt.show()\n",
    "\n",
    "# To call mat_g123_hist to show picture\n",
    "mat_g123_hist()    "
   ]
  },
  {
   "cell_type": "markdown",
   "metadata": {},
   "source": [
    "The above histogram and descriptive statistics show that the mean of G1 has a higher mean (10.91) than G2 and G3. G3 has the highest grades with 20.0, but G3 and G2 have the lowest grades with 0.0. G3 has the largest IQR(Q3 - Q1) = (14 - 8), and it means that 50% G3 students have grades from 8 to 14. In contrast, G2 has the largest IQR(Q3 - Q1) = (13 - 9), and it means that 50% G2 students have grades from 9 to 13.\n",
    "\n"
   ]
  },
  {
   "cell_type": "markdown",
   "metadata": {},
   "source": [
    "Next, I want to see the correlation ship among G1, G2, and G3."
   ]
  },
  {
   "cell_type": "code",
   "execution_count": 10,
   "metadata": {},
   "outputs": [
    {
     "data": {
      "text/html": [
       "<div>\n",
       "<style scoped>\n",
       "    .dataframe tbody tr th:only-of-type {\n",
       "        vertical-align: middle;\n",
       "    }\n",
       "\n",
       "    .dataframe tbody tr th {\n",
       "        vertical-align: top;\n",
       "    }\n",
       "\n",
       "    .dataframe thead th {\n",
       "        text-align: right;\n",
       "    }\n",
       "</style>\n",
       "<table border=\"1\" class=\"dataframe\">\n",
       "  <thead>\n",
       "    <tr style=\"text-align: right;\">\n",
       "      <th></th>\n",
       "      <th>G1</th>\n",
       "      <th>G2</th>\n",
       "      <th>G3</th>\n",
       "    </tr>\n",
       "  </thead>\n",
       "  <tbody>\n",
       "    <tr>\n",
       "      <th>G1</th>\n",
       "      <td>1.000000</td>\n",
       "      <td>0.852118</td>\n",
       "      <td>0.801468</td>\n",
       "    </tr>\n",
       "    <tr>\n",
       "      <th>G2</th>\n",
       "      <td>0.852118</td>\n",
       "      <td>1.000000</td>\n",
       "      <td>0.904868</td>\n",
       "    </tr>\n",
       "    <tr>\n",
       "      <th>G3</th>\n",
       "      <td>0.801468</td>\n",
       "      <td>0.904868</td>\n",
       "      <td>1.000000</td>\n",
       "    </tr>\n",
       "  </tbody>\n",
       "</table>\n",
       "</div>"
      ],
      "text/plain": [
       "          G1        G2        G3\n",
       "G1  1.000000  0.852118  0.801468\n",
       "G2  0.852118  1.000000  0.904868\n",
       "G3  0.801468  0.904868  1.000000"
      ]
     },
     "execution_count": 10,
     "metadata": {},
     "output_type": "execute_result"
    }
   ],
   "source": [
    "# To see the correlationship among G1, G2, and G3\n",
    "mat_df[[\"G1\", \"G2\", \"G3\"]].corr()"
   ]
  },
  {
   "cell_type": "markdown",
   "metadata": {},
   "source": [
    "The about correlationship table shows that there are all positive correlation. G2 and G3 has higher rate of correlation ship than (G1, G2) and (G1, G3). "
   ]
  },
  {
   "cell_type": "markdown",
   "metadata": {},
   "source": [
    "Then, I'm going to analyze this data set from different angles."
   ]
  },
  {
   "cell_type": "markdown",
   "metadata": {},
   "source": [
    "# Data Preparation\n",
    "- To get a copy of all data\n",
    "- To add a new column that records the total grades from G1 to G3"
   ]
  },
  {
   "cell_type": "code",
   "execution_count": 11,
   "metadata": {},
   "outputs": [],
   "source": [
    "# cope dataset\n",
    "mat_df_cope = mat_df.copy()"
   ]
  },
  {
   "cell_type": "code",
   "execution_count": 12,
   "metadata": {},
   "outputs": [],
   "source": [
    "# To add a new column that records the total grades from G1 to G3\n",
    "mat_df_cope['Total_Grade'] = mat_df_cope['G1'] + mat_df_cope['G2'] + mat_df_cope['G3']"
   ]
  },
  {
   "cell_type": "code",
   "execution_count": 13,
   "metadata": {},
   "outputs": [
    {
     "data": {
      "text/html": [
       "<div>\n",
       "<style scoped>\n",
       "    .dataframe tbody tr th:only-of-type {\n",
       "        vertical-align: middle;\n",
       "    }\n",
       "\n",
       "    .dataframe tbody tr th {\n",
       "        vertical-align: top;\n",
       "    }\n",
       "\n",
       "    .dataframe thead th {\n",
       "        text-align: right;\n",
       "    }\n",
       "</style>\n",
       "<table border=\"1\" class=\"dataframe\">\n",
       "  <thead>\n",
       "    <tr style=\"text-align: right;\">\n",
       "      <th></th>\n",
       "      <th>school</th>\n",
       "      <th>sex</th>\n",
       "      <th>age</th>\n",
       "      <th>address</th>\n",
       "      <th>famsize</th>\n",
       "      <th>Pstatus</th>\n",
       "      <th>Medu</th>\n",
       "      <th>Fedu</th>\n",
       "      <th>Mjob</th>\n",
       "      <th>Fjob</th>\n",
       "      <th>...</th>\n",
       "      <th>freetime</th>\n",
       "      <th>goout</th>\n",
       "      <th>Dalc</th>\n",
       "      <th>Walc</th>\n",
       "      <th>health</th>\n",
       "      <th>absences</th>\n",
       "      <th>G1</th>\n",
       "      <th>G2</th>\n",
       "      <th>G3</th>\n",
       "      <th>Total_Grade</th>\n",
       "    </tr>\n",
       "  </thead>\n",
       "  <tbody>\n",
       "    <tr>\n",
       "      <th>0</th>\n",
       "      <td>GP</td>\n",
       "      <td>F</td>\n",
       "      <td>18</td>\n",
       "      <td>U</td>\n",
       "      <td>GT3</td>\n",
       "      <td>A</td>\n",
       "      <td>4</td>\n",
       "      <td>4</td>\n",
       "      <td>at_home</td>\n",
       "      <td>teacher</td>\n",
       "      <td>...</td>\n",
       "      <td>3</td>\n",
       "      <td>4</td>\n",
       "      <td>1</td>\n",
       "      <td>1</td>\n",
       "      <td>3</td>\n",
       "      <td>6</td>\n",
       "      <td>5</td>\n",
       "      <td>6</td>\n",
       "      <td>6</td>\n",
       "      <td>17</td>\n",
       "    </tr>\n",
       "    <tr>\n",
       "      <th>1</th>\n",
       "      <td>GP</td>\n",
       "      <td>F</td>\n",
       "      <td>17</td>\n",
       "      <td>U</td>\n",
       "      <td>GT3</td>\n",
       "      <td>T</td>\n",
       "      <td>1</td>\n",
       "      <td>1</td>\n",
       "      <td>at_home</td>\n",
       "      <td>other</td>\n",
       "      <td>...</td>\n",
       "      <td>3</td>\n",
       "      <td>3</td>\n",
       "      <td>1</td>\n",
       "      <td>1</td>\n",
       "      <td>3</td>\n",
       "      <td>4</td>\n",
       "      <td>5</td>\n",
       "      <td>5</td>\n",
       "      <td>6</td>\n",
       "      <td>16</td>\n",
       "    </tr>\n",
       "    <tr>\n",
       "      <th>2</th>\n",
       "      <td>GP</td>\n",
       "      <td>F</td>\n",
       "      <td>15</td>\n",
       "      <td>U</td>\n",
       "      <td>LE3</td>\n",
       "      <td>T</td>\n",
       "      <td>1</td>\n",
       "      <td>1</td>\n",
       "      <td>at_home</td>\n",
       "      <td>other</td>\n",
       "      <td>...</td>\n",
       "      <td>3</td>\n",
       "      <td>2</td>\n",
       "      <td>2</td>\n",
       "      <td>3</td>\n",
       "      <td>3</td>\n",
       "      <td>10</td>\n",
       "      <td>7</td>\n",
       "      <td>8</td>\n",
       "      <td>10</td>\n",
       "      <td>25</td>\n",
       "    </tr>\n",
       "    <tr>\n",
       "      <th>3</th>\n",
       "      <td>GP</td>\n",
       "      <td>F</td>\n",
       "      <td>15</td>\n",
       "      <td>U</td>\n",
       "      <td>GT3</td>\n",
       "      <td>T</td>\n",
       "      <td>4</td>\n",
       "      <td>2</td>\n",
       "      <td>health</td>\n",
       "      <td>services</td>\n",
       "      <td>...</td>\n",
       "      <td>2</td>\n",
       "      <td>2</td>\n",
       "      <td>1</td>\n",
       "      <td>1</td>\n",
       "      <td>5</td>\n",
       "      <td>2</td>\n",
       "      <td>15</td>\n",
       "      <td>14</td>\n",
       "      <td>15</td>\n",
       "      <td>44</td>\n",
       "    </tr>\n",
       "    <tr>\n",
       "      <th>4</th>\n",
       "      <td>GP</td>\n",
       "      <td>F</td>\n",
       "      <td>16</td>\n",
       "      <td>U</td>\n",
       "      <td>GT3</td>\n",
       "      <td>T</td>\n",
       "      <td>3</td>\n",
       "      <td>3</td>\n",
       "      <td>other</td>\n",
       "      <td>other</td>\n",
       "      <td>...</td>\n",
       "      <td>3</td>\n",
       "      <td>2</td>\n",
       "      <td>1</td>\n",
       "      <td>2</td>\n",
       "      <td>5</td>\n",
       "      <td>4</td>\n",
       "      <td>6</td>\n",
       "      <td>10</td>\n",
       "      <td>10</td>\n",
       "      <td>26</td>\n",
       "    </tr>\n",
       "  </tbody>\n",
       "</table>\n",
       "<p>5 rows × 34 columns</p>\n",
       "</div>"
      ],
      "text/plain": [
       "  school sex  age address famsize Pstatus  Medu  Fedu     Mjob      Fjob  ...  \\\n",
       "0     GP   F   18       U     GT3       A     4     4  at_home   teacher  ...   \n",
       "1     GP   F   17       U     GT3       T     1     1  at_home     other  ...   \n",
       "2     GP   F   15       U     LE3       T     1     1  at_home     other  ...   \n",
       "3     GP   F   15       U     GT3       T     4     2   health  services  ...   \n",
       "4     GP   F   16       U     GT3       T     3     3    other     other  ...   \n",
       "\n",
       "  freetime goout  Dalc  Walc  health absences  G1  G2  G3 Total_Grade  \n",
       "0        3     4     1     1       3        6   5   6   6          17  \n",
       "1        3     3     1     1       3        4   5   5   6          16  \n",
       "2        3     2     2     3       3       10   7   8  10          25  \n",
       "3        2     2     1     1       5        2  15  14  15          44  \n",
       "4        3     2     1     2       5        4   6  10  10          26  \n",
       "\n",
       "[5 rows x 34 columns]"
      ]
     },
     "execution_count": 13,
     "metadata": {},
     "output_type": "execute_result"
    }
   ],
   "source": [
    "# To see the new column\n",
    "mat_df_cope.head(5)"
   ]
  },
  {
   "cell_type": "markdown",
   "metadata": {},
   "source": [
    "# Task: Designate Research Questions\n",
    "\n",
    "For this task, I want to study why some students got good grades? For this reason I chose the following questions.\n",
    "\n",
    "- Who gets better total grades in math at two schools, boys or girls?\n",
    "- Does parents' education have any effect on students' grades?\n",
    "- What is the relationship among G1, G2, G3 and Total_Grade?\n"
   ]
  },
  {
   "cell_type": "markdown",
   "metadata": {},
   "source": [
    "### Exploratory Data Analysis - Who gets better total grades in math at two schools, boys or girls?\n",
    "Here I will perform explanatory data analysis on the new subset to see the distribution of who gets better total grades in math at two schools, does female students get a higher grade than male students in two schools, and What is the distribution of students' total grade.\n",
    "- To get sub data\n",
    "- Using histogram to compare two schools\n",
    "- To compare the data of four groups\n",
    "    - Using histograms, boxplot, swarmplot and violinplot to illustrate distributions\n",
    "\n",
    "\n",
    "I'm going to analyze the math scores of the two schools ('GP' - Gabriel Pereira or 'MS' - Mousinho da Silveira). I will divide the students into male and female groups for comparative analysis. There are four groups as following:\n",
    "\n",
    "|Group|\n",
    "| :---   |\n",
    "|Male studend of GP school|\n",
    "|Male studend of MS school|\n",
    "|Female studend of GP school|\n",
    "|Female studend of ms school|"
   ]
  },
  {
   "cell_type": "code",
   "execution_count": 14,
   "metadata": {},
   "outputs": [
    {
     "data": {
      "text/html": [
       "<div>\n",
       "<style scoped>\n",
       "    .dataframe tbody tr th:only-of-type {\n",
       "        vertical-align: middle;\n",
       "    }\n",
       "\n",
       "    .dataframe tbody tr th {\n",
       "        vertical-align: top;\n",
       "    }\n",
       "\n",
       "    .dataframe thead th {\n",
       "        text-align: right;\n",
       "    }\n",
       "</style>\n",
       "<table border=\"1\" class=\"dataframe\">\n",
       "  <thead>\n",
       "    <tr style=\"text-align: right;\">\n",
       "      <th></th>\n",
       "      <th>school</th>\n",
       "      <th>sex</th>\n",
       "      <th>Total_Grade</th>\n",
       "    </tr>\n",
       "  </thead>\n",
       "  <tbody>\n",
       "    <tr>\n",
       "      <th>0</th>\n",
       "      <td>GP</td>\n",
       "      <td>F</td>\n",
       "      <td>17</td>\n",
       "    </tr>\n",
       "    <tr>\n",
       "      <th>1</th>\n",
       "      <td>GP</td>\n",
       "      <td>F</td>\n",
       "      <td>16</td>\n",
       "    </tr>\n",
       "    <tr>\n",
       "      <th>2</th>\n",
       "      <td>GP</td>\n",
       "      <td>F</td>\n",
       "      <td>25</td>\n",
       "    </tr>\n",
       "    <tr>\n",
       "      <th>3</th>\n",
       "      <td>GP</td>\n",
       "      <td>F</td>\n",
       "      <td>44</td>\n",
       "    </tr>\n",
       "    <tr>\n",
       "      <th>4</th>\n",
       "      <td>GP</td>\n",
       "      <td>F</td>\n",
       "      <td>26</td>\n",
       "    </tr>\n",
       "  </tbody>\n",
       "</table>\n",
       "</div>"
      ],
      "text/plain": [
       "  school sex  Total_Grade\n",
       "0     GP   F           17\n",
       "1     GP   F           16\n",
       "2     GP   F           25\n",
       "3     GP   F           44\n",
       "4     GP   F           26"
      ]
     },
     "execution_count": 14,
     "metadata": {},
     "output_type": "execute_result"
    }
   ],
   "source": [
    "# To get sub data set with 3 columns ('school', 'sex', 'Total_Grade')\n",
    "sub_mat_df = mat_df_cope[['school', 'sex', 'Total_Grade']].copy()\n",
    "\n",
    "# To see the data\n",
    "sub_mat_df.head(5)"
   ]
  },
  {
   "cell_type": "markdown",
   "metadata": {},
   "source": [
    "First I will look the description of total grade in two schools."
   ]
  },
  {
   "cell_type": "code",
   "execution_count": 15,
   "metadata": {},
   "outputs": [
    {
     "data": {
      "text/html": [
       "<div>\n",
       "<style scoped>\n",
       "    .dataframe tbody tr th:only-of-type {\n",
       "        vertical-align: middle;\n",
       "    }\n",
       "\n",
       "    .dataframe tbody tr th {\n",
       "        vertical-align: top;\n",
       "    }\n",
       "\n",
       "    .dataframe thead tr th {\n",
       "        text-align: left;\n",
       "    }\n",
       "\n",
       "    .dataframe thead tr:last-of-type th {\n",
       "        text-align: right;\n",
       "    }\n",
       "</style>\n",
       "<table border=\"1\" class=\"dataframe\">\n",
       "  <thead>\n",
       "    <tr>\n",
       "      <th></th>\n",
       "      <th colspan=\"8\" halign=\"left\">Total_Grade</th>\n",
       "    </tr>\n",
       "    <tr>\n",
       "      <th></th>\n",
       "      <th>count</th>\n",
       "      <th>mean</th>\n",
       "      <th>std</th>\n",
       "      <th>min</th>\n",
       "      <th>25%</th>\n",
       "      <th>50%</th>\n",
       "      <th>75%</th>\n",
       "      <th>max</th>\n",
       "    </tr>\n",
       "    <tr>\n",
       "      <th>school</th>\n",
       "      <th></th>\n",
       "      <th></th>\n",
       "      <th></th>\n",
       "      <th></th>\n",
       "      <th></th>\n",
       "      <th></th>\n",
       "      <th></th>\n",
       "      <th></th>\n",
       "    </tr>\n",
       "  </thead>\n",
       "  <tbody>\n",
       "    <tr>\n",
       "      <th>GP</th>\n",
       "      <td>349.0</td>\n",
       "      <td>32.212034</td>\n",
       "      <td>11.152587</td>\n",
       "      <td>4.0</td>\n",
       "      <td>25.0</td>\n",
       "      <td>32.0</td>\n",
       "      <td>40.00</td>\n",
       "      <td>58.0</td>\n",
       "    </tr>\n",
       "    <tr>\n",
       "      <th>MS</th>\n",
       "      <td>46.0</td>\n",
       "      <td>30.717391</td>\n",
       "      <td>10.630487</td>\n",
       "      <td>11.0</td>\n",
       "      <td>24.0</td>\n",
       "      <td>30.5</td>\n",
       "      <td>37.75</td>\n",
       "      <td>56.0</td>\n",
       "    </tr>\n",
       "  </tbody>\n",
       "</table>\n",
       "</div>"
      ],
      "text/plain": [
       "       Total_Grade                                                     \n",
       "             count       mean        std   min   25%   50%    75%   max\n",
       "school                                                                 \n",
       "GP           349.0  32.212034  11.152587   4.0  25.0  32.0  40.00  58.0\n",
       "MS            46.0  30.717391  10.630487  11.0  24.0  30.5  37.75  56.0"
      ]
     },
     "execution_count": 15,
     "metadata": {},
     "output_type": "execute_result"
    }
   ],
   "source": [
    "# group by school and see the description.\n",
    "sub_mat_df.groupby([\"school\"]).describe()"
   ]
  },
  {
   "cell_type": "code",
   "execution_count": 16,
   "metadata": {},
   "outputs": [
    {
     "data": {
      "text/plain": [
       "<seaborn.axisgrid.FacetGrid at 0x29c5bdaf908>"
      ]
     },
     "execution_count": 16,
     "metadata": {},
     "output_type": "execute_result"
    },
    {
     "data": {
      "image/png": "[encoded data removed]",
      "text/plain": [
       "<Figure size 432x216 with 2 Axes>"
      ]
     },
     "metadata": {
      "needs_background": "light"
     },
     "output_type": "display_data"
    }
   ],
   "source": [
    "# Using histogram to compare two schools\n",
    "g = sns.FacetGrid(sub_mat_df, col=\"school\")\n",
    "g.map(sns.distplot, \"Total_Grade\", bins = 10)"
   ]
  },
  {
   "cell_type": "markdown",
   "metadata": {},
   "source": [
    "%matplotlib notebook"
   ]
  },
  {
   "cell_type": "code",
   "execution_count": 17,
   "metadata": {},
   "outputs": [
    {
     "data": {
      "image/png": "[encoded data removed]",
      "text/plain": [
       "<Figure size 432x288 with 2 Axes>"
      ]
     },
     "metadata": {
      "needs_background": "light"
     },
     "output_type": "display_data"
    }
   ],
   "source": [
    "# Using matplotlib\n",
    "# define a Matplotlib figure\n",
    "plt.figure(1)\n",
    "\n",
    "# subplot ('122' = 1x2, position 1)\n",
    "plt.subplot(121)\n",
    "\n",
    "# define the type of plot you want to appear\n",
    "plt.hist(sub_mat_df[sub_mat_df[\"school\"] == \"GP\"][\"Total_Grade\"], density=1)\n",
    "\n",
    "# give the plot a title\n",
    "plt.title('school = GP')\n",
    "\n",
    "# Here we'll blank out the x-axis label since it isn't really meaningful\n",
    "# for a box plot\n",
    "plt.xlabel(' ')\n",
    "\n",
    "# specify the number of bins to use in the histogram\n",
    "plt.locator_params(nbins=10, axis = 'x')\n",
    "\n",
    "# subplot ('122' = 1x2, position 2)\n",
    "plt.subplot(122)\n",
    "\n",
    "# define the type of plot you want to appear\n",
    "plt.hist(sub_mat_df[sub_mat_df[\"school\"] == \"MS\"][\"Total_Grade\"], density=1)\n",
    "\n",
    "# give the plot a title\n",
    "plt.title('school = MS')\n",
    "\n",
    "# specify the number of bins to use in the histogram\n",
    "plt.locator_params(nbins=10, axis = 'x')\n",
    "\n",
    "plt.show()"
   ]
  },
  {
   "cell_type": "markdown",
   "metadata": {},
   "source": [
    "The above histogram and descriptive statistics show that the mean of GP School has a higher mean than MS School. The GP School has a larger IQR(Q3 - Q1) = 15.00 than the MS School with IQR(Q3 - Q1) = 13.75. It means that 50% of students' grades in GP School are from 25.0 to 40.0, but 50% of students' grades in MS School are from 24.0 to 37.75."
   ]
  },
  {
   "cell_type": "markdown",
   "metadata": {},
   "source": [
    "Next, I will compare the data of four groups (Male studend of GP school, Male studend of MS school, Female studend of GP school, Female studend of ms school). To do so I will first group data by school and sex then to describe the data set."
   ]
  },
  {
   "cell_type": "code",
   "execution_count": 18,
   "metadata": {},
   "outputs": [
    {
     "data": {
      "text/html": [
       "<div>\n",
       "<style scoped>\n",
       "    .dataframe tbody tr th:only-of-type {\n",
       "        vertical-align: middle;\n",
       "    }\n",
       "\n",
       "    .dataframe tbody tr th {\n",
       "        vertical-align: top;\n",
       "    }\n",
       "\n",
       "    .dataframe thead tr th {\n",
       "        text-align: left;\n",
       "    }\n",
       "\n",
       "    .dataframe thead tr:last-of-type th {\n",
       "        text-align: right;\n",
       "    }\n",
       "</style>\n",
       "<table border=\"1\" class=\"dataframe\">\n",
       "  <thead>\n",
       "    <tr>\n",
       "      <th></th>\n",
       "      <th></th>\n",
       "      <th colspan=\"8\" halign=\"left\">Total_Grade</th>\n",
       "    </tr>\n",
       "    <tr>\n",
       "      <th></th>\n",
       "      <th></th>\n",
       "      <th>count</th>\n",
       "      <th>mean</th>\n",
       "      <th>std</th>\n",
       "      <th>min</th>\n",
       "      <th>25%</th>\n",
       "      <th>50%</th>\n",
       "      <th>75%</th>\n",
       "      <th>max</th>\n",
       "    </tr>\n",
       "    <tr>\n",
       "      <th>school</th>\n",
       "      <th>sex</th>\n",
       "      <th></th>\n",
       "      <th></th>\n",
       "      <th></th>\n",
       "      <th></th>\n",
       "      <th></th>\n",
       "      <th></th>\n",
       "      <th></th>\n",
       "      <th></th>\n",
       "    </tr>\n",
       "  </thead>\n",
       "  <tbody>\n",
       "    <tr>\n",
       "      <th rowspan=\"2\" valign=\"top\">GP</th>\n",
       "      <th>F</th>\n",
       "      <td>183.0</td>\n",
       "      <td>30.950820</td>\n",
       "      <td>10.712157</td>\n",
       "      <td>4.0</td>\n",
       "      <td>24.0</td>\n",
       "      <td>30.0</td>\n",
       "      <td>39.0</td>\n",
       "      <td>55.0</td>\n",
       "    </tr>\n",
       "    <tr>\n",
       "      <th>M</th>\n",
       "      <td>166.0</td>\n",
       "      <td>33.602410</td>\n",
       "      <td>11.491172</td>\n",
       "      <td>5.0</td>\n",
       "      <td>27.0</td>\n",
       "      <td>34.0</td>\n",
       "      <td>42.0</td>\n",
       "      <td>58.0</td>\n",
       "    </tr>\n",
       "    <tr>\n",
       "      <th rowspan=\"2\" valign=\"top\">MS</th>\n",
       "      <th>F</th>\n",
       "      <td>25.0</td>\n",
       "      <td>31.160000</td>\n",
       "      <td>11.984991</td>\n",
       "      <td>11.0</td>\n",
       "      <td>24.0</td>\n",
       "      <td>31.0</td>\n",
       "      <td>38.0</td>\n",
       "      <td>56.0</td>\n",
       "    </tr>\n",
       "    <tr>\n",
       "      <th>M</th>\n",
       "      <td>21.0</td>\n",
       "      <td>30.190476</td>\n",
       "      <td>9.020083</td>\n",
       "      <td>11.0</td>\n",
       "      <td>24.0</td>\n",
       "      <td>30.0</td>\n",
       "      <td>37.0</td>\n",
       "      <td>46.0</td>\n",
       "    </tr>\n",
       "  </tbody>\n",
       "</table>\n",
       "</div>"
      ],
      "text/plain": [
       "           Total_Grade                                                    \n",
       "                 count       mean        std   min   25%   50%   75%   max\n",
       "school sex                                                                \n",
       "GP     F         183.0  30.950820  10.712157   4.0  24.0  30.0  39.0  55.0\n",
       "       M         166.0  33.602410  11.491172   5.0  27.0  34.0  42.0  58.0\n",
       "MS     F          25.0  31.160000  11.984991  11.0  24.0  31.0  38.0  56.0\n",
       "       M          21.0  30.190476   9.020083  11.0  24.0  30.0  37.0  46.0"
      ]
     },
     "execution_count": 18,
     "metadata": {},
     "output_type": "execute_result"
    }
   ],
   "source": [
    "# To describe the data\n",
    "sub_mat_df.groupby([\"school\", \"sex\"]).describe()"
   ]
  },
  {
   "cell_type": "code",
   "execution_count": 19,
   "metadata": {},
   "outputs": [
    {
     "data": {
      "image/png": "[encoded data removed]",
      "text/plain": [
       "<Figure size 432x288 with 1 Axes>"
      ]
     },
     "metadata": {
      "needs_background": "light"
     },
     "output_type": "display_data"
    }
   ],
   "source": [
    "ax = sns.countplot(x=\"school\", hue=\"sex\", data=sub_mat_df)"
   ]
  },
  {
   "cell_type": "markdown",
   "metadata": {},
   "source": [
    "%matplotlib notebook"
   ]
  },
  {
   "cell_type": "code",
   "execution_count": 20,
   "metadata": {},
   "outputs": [
    {
     "data": {
      "image/png": "[encoded data removed]",
      "text/plain": [
       "<Figure size 648x432 with 1 Axes>"
      ]
     },
     "metadata": {
      "needs_background": "light"
     },
     "output_type": "display_data"
    }
   ],
   "source": [
    "# create a figure with 9 * 6\n",
    "plt.figure(figsize=(9,6))\n",
    "\n",
    "# create a 1 * 1 sub plot\n",
    "plt.subplot(1, 1, 1)\n",
    "\n",
    "# the number of bar\n",
    "N = 4\n",
    "\n",
    "# the value of each bar\n",
    "values = (sub_mat_df.groupby([\"school\", \"sex\"]).count()['Total_Grade'])\n",
    "\n",
    "# the index of each bar\n",
    "index = np.arange(N)\n",
    "\n",
    "# the width of bar\n",
    "width = 0.35\n",
    "\n",
    "# The color of each bar. The number of group. There are 2 groups that has 2 bars.\n",
    "X = np.arange(N/2) # There are 2 groups that has 2 bars\n",
    "Y1 = values[[0, 2]].to_numpy() # male and female students in GP school\n",
    "Y2 = values[[1, 3]].to_numpy() # male and female students in MS school\n",
    "plt.bar(X, Y1, alpha=0.9, width = width, color='SkyBlue', label='Female')\n",
    "plt.bar(X+width, Y2, alpha=0.9, width = width, color='IndianRed', label='Male')\n",
    "\n",
    "# the label of x axis\n",
    "plt.xlabel('school')\n",
    "# the label of y axis\n",
    "plt.ylabel('count')\n",
    "\n",
    "# title of bar chart\n",
    "plt.title('two school two gender groups')\n",
    "\n",
    "# the ticks of x axis\n",
    "ax.set_xticks(X)\n",
    "\n",
    "# the label of each group\n",
    "plt.xticks(X, ('GP', 'MS'))\n",
    "\n",
    "# the ticks of y axis\n",
    "plt.yticks(np.arange(0, 180, 10))\n",
    "\n",
    "# the position of legeng\n",
    "plt.legend(loc=\"upper right\")\n",
    "\n",
    "plt.show()"
   ]
  },
  {
   "cell_type": "markdown",
   "metadata": {},
   "source": [
    "The above count bar chart and descriptive statistics show that the number of female students in GP school is over 6 times more than the number of female students in MS school (183 versus 25). The number of male students in GP school is 166, 6 times the figure of the male students in MS school."
   ]
  },
  {
   "cell_type": "markdown",
   "metadata": {},
   "source": [
    "Next, I will use histograms to illustrate distributions."
   ]
  },
  {
   "cell_type": "code",
   "execution_count": 21,
   "metadata": {},
   "outputs": [
    {
     "data": {
      "image/png": "[encoded data removed]",
      "text/plain": [
       "<Figure size 432x432 with 4 Axes>"
      ]
     },
     "metadata": {
      "needs_background": "light"
     },
     "output_type": "display_data"
    }
   ],
   "source": [
    "# Using seaborn to illustrate distribution\n",
    "g = sns.FacetGrid(sub_mat_df, col=\"school\", row=\"sex\")\n",
    "g = g.map(sns.distplot, \"Total_Grade\", bins = 10)"
   ]
  },
  {
   "cell_type": "markdown",
   "metadata": {},
   "source": [
    "%matplotlib notebook"
   ]
  },
  {
   "cell_type": "code",
   "execution_count": 22,
   "metadata": {},
   "outputs": [
    {
     "data": {
      "image/png": "[encoded data removed]",
      "text/plain": [
       "<Figure size 720x576 with 4 Axes>"
      ]
     },
     "metadata": {
      "needs_background": "light"
     },
     "output_type": "display_data"
    }
   ],
   "source": [
    "def mat_school_gender_bestline(df_ser, ax, title):\n",
    "    \"\"\"\n",
    "    To draw the best line and hist chart.\n",
    "\n",
    "    df_ser:\n",
    "      pandas.Series: A list of numeric.\n",
    "      \n",
    "    ax:\n",
    "      Matplotlib.axes.Axes: a Axes.\n",
    "      \n",
    "    title:\n",
    "      string: lable of x axis .\n",
    "\n",
    "    Returns:\n",
    "      null.\n",
    "\n",
    "    Raises:\n",
    "      none\n",
    "    \"\"\"\n",
    "    mu = df_ser.mean()  # mean of distribution\n",
    "    sigma = df_ser.std()  # standard deviation of distribution\n",
    "    x = df_ser\n",
    "    num_bins = 10\n",
    "\n",
    "    # to draw a hist chart\n",
    "    n, bins, patches = ax.hist(x, num_bins, density=1)\n",
    "\n",
    "    # add a 'best fit' line\n",
    "    y = ((1 / (np.sqrt(2 * np.pi) * sigma)) *\n",
    "         np.exp(-0.5 * (1 / sigma * (bins - mu))**2))\n",
    "    \n",
    "    # to draw a line\n",
    "    ax.plot(bins, y, '--')\n",
    "    \n",
    "    # to set x and y axis label\n",
    "    ax.set_xlabel(title)\n",
    "    ax.set_ylabel('Probability density')\n",
    "    \n",
    "def mat_school_gender_hist():\n",
    "    \"\"\"\n",
    "    To draw 4 hist charts for 4 groups.\n",
    "\n",
    "    Input parameters:\n",
    "      none.\n",
    "\n",
    "    Returns:\n",
    "      null.\n",
    "\n",
    "    Raises:\n",
    "      none\n",
    "    \"\"\"\n",
    "    \n",
    "    # Create 4 subplots and unpack the output array immediately\n",
    "    fig, axsubs = plt.subplots(2, 2, sharey=True, figsize=(10, 8))\n",
    "\n",
    "    # To draw hist chart and best fit line\n",
    "    mat_school_gender_bestline(sub_mat_df[(sub_mat_df[\"school\"] == \"GP\") & (sub_mat_df[\"sex\"] == \"F\")][\"Total_Grade\"], axsubs[0, 0], \"GP-F\")\n",
    "    mat_school_gender_bestline(sub_mat_df[(sub_mat_df[\"school\"] == \"MS\") & (sub_mat_df[\"sex\"] == \"F\")][\"Total_Grade\"], axsubs[0, 1], \"MS-F\")\n",
    "    mat_school_gender_bestline(sub_mat_df[(sub_mat_df[\"school\"] == \"GP\") & (sub_mat_df[\"sex\"] == \"M\")][\"Total_Grade\"], axsubs[1, 0], \"GP-M\")\n",
    "    mat_school_gender_bestline(sub_mat_df[(sub_mat_df[\"school\"] == \"MS\") & (sub_mat_df[\"sex\"] == \"M\")][\"Total_Grade\"], axsubs[1, 1], \"MS-F\")\n",
    "\n",
    "    # Tweak spacing to prevent clipping of ylabel\n",
    "    fig.tight_layout()\n",
    "    plt.show()\n",
    "\n",
    "# To call mat_school_gender_hist to show picture\n",
    "mat_school_gender_hist()"
   ]
  },
  {
   "cell_type": "markdown",
   "metadata": {},
   "source": [
    "The above histogram and descriptive statistics show that the overall distribution of total grades of the male group and female group in two schools are concentrated in the middle. \n",
    "\n",
    "The male students in GP school have the highest mean with 33.60 and have the max grades (58.0). But the male students in MS school has the lowest mean with 30.19. The male students in MS school also have the lowest max grades in four groups.\n",
    "\n",
    "The female students in MS school have a higher mean(31.16) than the female students in GP school(30.95). Also, the female students in MS school have higher max and min grades than the female students in GP school.\n",
    "\n",
    "The histograms indicate that there are not outliers, since the max grades of each group lows than 3 times the std plus the mean."
   ]
  },
  {
   "cell_type": "markdown",
   "metadata": {},
   "source": [
    "Next, I will use box chrat to illustrate the central tendency, the shape of distribution and the outliers."
   ]
  },
  {
   "cell_type": "code",
   "execution_count": 23,
   "metadata": {},
   "outputs": [
    {
     "data": {
      "text/html": [
       "<div>\n",
       "<style scoped>\n",
       "    .dataframe tbody tr th:only-of-type {\n",
       "        vertical-align: middle;\n",
       "    }\n",
       "\n",
       "    .dataframe tbody tr th {\n",
       "        vertical-align: top;\n",
       "    }\n",
       "\n",
       "    .dataframe thead tr th {\n",
       "        text-align: left;\n",
       "    }\n",
       "\n",
       "    .dataframe thead tr:last-of-type th {\n",
       "        text-align: right;\n",
       "    }\n",
       "</style>\n",
       "<table border=\"1\" class=\"dataframe\">\n",
       "  <thead>\n",
       "    <tr>\n",
       "      <th></th>\n",
       "      <th></th>\n",
       "      <th colspan=\"8\" halign=\"left\">Total_Grade</th>\n",
       "    </tr>\n",
       "    <tr>\n",
       "      <th></th>\n",
       "      <th></th>\n",
       "      <th>count</th>\n",
       "      <th>mean</th>\n",
       "      <th>std</th>\n",
       "      <th>min</th>\n",
       "      <th>25%</th>\n",
       "      <th>50%</th>\n",
       "      <th>75%</th>\n",
       "      <th>max</th>\n",
       "    </tr>\n",
       "    <tr>\n",
       "      <th>school</th>\n",
       "      <th>sex</th>\n",
       "      <th></th>\n",
       "      <th></th>\n",
       "      <th></th>\n",
       "      <th></th>\n",
       "      <th></th>\n",
       "      <th></th>\n",
       "      <th></th>\n",
       "      <th></th>\n",
       "    </tr>\n",
       "  </thead>\n",
       "  <tbody>\n",
       "    <tr>\n",
       "      <th rowspan=\"2\" valign=\"top\">GP</th>\n",
       "      <th>F</th>\n",
       "      <td>183.0</td>\n",
       "      <td>30.950820</td>\n",
       "      <td>10.712157</td>\n",
       "      <td>4.0</td>\n",
       "      <td>24.0</td>\n",
       "      <td>30.0</td>\n",
       "      <td>39.0</td>\n",
       "      <td>55.0</td>\n",
       "    </tr>\n",
       "    <tr>\n",
       "      <th>M</th>\n",
       "      <td>166.0</td>\n",
       "      <td>33.602410</td>\n",
       "      <td>11.491172</td>\n",
       "      <td>5.0</td>\n",
       "      <td>27.0</td>\n",
       "      <td>34.0</td>\n",
       "      <td>42.0</td>\n",
       "      <td>58.0</td>\n",
       "    </tr>\n",
       "    <tr>\n",
       "      <th rowspan=\"2\" valign=\"top\">MS</th>\n",
       "      <th>F</th>\n",
       "      <td>25.0</td>\n",
       "      <td>31.160000</td>\n",
       "      <td>11.984991</td>\n",
       "      <td>11.0</td>\n",
       "      <td>24.0</td>\n",
       "      <td>31.0</td>\n",
       "      <td>38.0</td>\n",
       "      <td>56.0</td>\n",
       "    </tr>\n",
       "    <tr>\n",
       "      <th>M</th>\n",
       "      <td>21.0</td>\n",
       "      <td>30.190476</td>\n",
       "      <td>9.020083</td>\n",
       "      <td>11.0</td>\n",
       "      <td>24.0</td>\n",
       "      <td>30.0</td>\n",
       "      <td>37.0</td>\n",
       "      <td>46.0</td>\n",
       "    </tr>\n",
       "  </tbody>\n",
       "</table>\n",
       "</div>"
      ],
      "text/plain": [
       "           Total_Grade                                                    \n",
       "                 count       mean        std   min   25%   50%   75%   max\n",
       "school sex                                                                \n",
       "GP     F         183.0  30.950820  10.712157   4.0  24.0  30.0  39.0  55.0\n",
       "       M         166.0  33.602410  11.491172   5.0  27.0  34.0  42.0  58.0\n",
       "MS     F          25.0  31.160000  11.984991  11.0  24.0  31.0  38.0  56.0\n",
       "       M          21.0  30.190476   9.020083  11.0  24.0  30.0  37.0  46.0"
      ]
     },
     "execution_count": 23,
     "metadata": {},
     "output_type": "execute_result"
    }
   ],
   "source": [
    "# To describe the data. Group by school and sex.\n",
    "sub_mat_df.groupby([\"school\", \"sex\"]).describe()"
   ]
  },
  {
   "cell_type": "code",
   "execution_count": 24,
   "metadata": {},
   "outputs": [
    {
     "data": {
      "text/html": [
       "<div>\n",
       "<style scoped>\n",
       "    .dataframe tbody tr th:only-of-type {\n",
       "        vertical-align: middle;\n",
       "    }\n",
       "\n",
       "    .dataframe tbody tr th {\n",
       "        vertical-align: top;\n",
       "    }\n",
       "\n",
       "    .dataframe thead th {\n",
       "        text-align: right;\n",
       "    }\n",
       "</style>\n",
       "<table border=\"1\" class=\"dataframe\">\n",
       "  <thead>\n",
       "    <tr style=\"text-align: right;\">\n",
       "      <th></th>\n",
       "      <th></th>\n",
       "      <th>Total_Grade</th>\n",
       "    </tr>\n",
       "    <tr>\n",
       "      <th>school</th>\n",
       "      <th>sex</th>\n",
       "      <th></th>\n",
       "    </tr>\n",
       "  </thead>\n",
       "  <tbody>\n",
       "    <tr>\n",
       "      <th rowspan=\"2\" valign=\"top\">GP</th>\n",
       "      <th>F</th>\n",
       "      <td>30</td>\n",
       "    </tr>\n",
       "    <tr>\n",
       "      <th>M</th>\n",
       "      <td>34</td>\n",
       "    </tr>\n",
       "    <tr>\n",
       "      <th rowspan=\"2\" valign=\"top\">MS</th>\n",
       "      <th>F</th>\n",
       "      <td>31</td>\n",
       "    </tr>\n",
       "    <tr>\n",
       "      <th>M</th>\n",
       "      <td>30</td>\n",
       "    </tr>\n",
       "  </tbody>\n",
       "</table>\n",
       "</div>"
      ],
      "text/plain": [
       "            Total_Grade\n",
       "school sex             \n",
       "GP     F             30\n",
       "       M             34\n",
       "MS     F             31\n",
       "       M             30"
      ]
     },
     "execution_count": 24,
     "metadata": {},
     "output_type": "execute_result"
    }
   ],
   "source": [
    "# to calculate median\n",
    "sub_mat_df.groupby([\"school\", \"sex\"]).median()"
   ]
  },
  {
   "cell_type": "code",
   "execution_count": 25,
   "metadata": {},
   "outputs": [
    {
     "data": {
      "image/png": "[encoded data removed]",
      "text/plain": [
       "<Figure size 432x288 with 1 Axes>"
      ]
     },
     "metadata": {
      "needs_background": "light"
     },
     "output_type": "display_data"
    }
   ],
   "source": [
    "# Using seaborn to illustrate box plot.\n",
    "ax = sns.boxplot(x=\"school\", y=\"Total_Grade\", hue=\"sex\", data=sub_mat_df, width=0.6, showmeans=True)"
   ]
  },
  {
   "cell_type": "markdown",
   "metadata": {},
   "source": [
    "%matplotlib notebook\n",
    "\n",
    "Reference \n",
    "\n",
    "https://matplotlib.org/3.1.1/gallery/statistics/boxplot_demo.html\n",
    "\n",
    "https://stackoverrun.com/cn/q/4511647"
   ]
  },
  {
   "cell_type": "code",
   "execution_count": 26,
   "metadata": {},
   "outputs": [
    {
     "data": {
      "image/png": "[encoded data removed]",
      "text/plain": [
       "<Figure size 648x432 with 1 Axes>"
      ]
     },
     "metadata": {
      "needs_background": "light"
     },
     "output_type": "display_data"
    }
   ],
   "source": [
    "def set_box_color(bp, color):\n",
    "    \"\"\"\n",
    "    To set color for each box.\n",
    "\n",
    "    bp:\n",
    "      A dictionary mapping each component of the boxplot to a list of the Line2D instances created.\n",
    "      https://matplotlib.org/3.3.2/api/_as_gen/matplotlib.pyplot.boxplot.html\n",
    "      \n",
    "    color:\n",
    "      string: #D7191C.\n",
    "\n",
    "    Returns:\n",
    "      null.\n",
    "\n",
    "    Raises:\n",
    "      none\n",
    "    \"\"\"\n",
    "    \n",
    "    # set color for box, whisker, cap and median\n",
    "    plt.setp(bp['boxes'], color=color)\n",
    "    plt.setp(bp['whiskers'], color=color)\n",
    "    plt.setp(bp['caps'], color=color)\n",
    "    plt.setp(bp['medians'], color=color)\n",
    "    \n",
    "# Create a 9 * 6\n",
    "plt.figure(figsize=(9,6))\n",
    "\n",
    "# Create a 1 * 1 sub plot\n",
    "plt.subplot(1, 1, 1)\n",
    "\n",
    "# the number of box\n",
    "N = 4\n",
    "\n",
    "# to group by school and sex\n",
    "e1 = sub_mat_df[(sub_mat_df[\"school\"] == \"GP\") & (sub_mat_df[\"sex\"] == \"F\")][\"Total_Grade\"]\n",
    "e2 = sub_mat_df[(sub_mat_df[\"school\"] == \"GP\") & (sub_mat_df[\"sex\"] == \"M\")][\"Total_Grade\"]\n",
    "e3 = sub_mat_df[(sub_mat_df[\"school\"] == \"MS\") & (sub_mat_df[\"sex\"] == \"F\")][\"Total_Grade\"]\n",
    "e4 = sub_mat_df[(sub_mat_df[\"school\"] == \"MS\") & (sub_mat_df[\"sex\"] == \"M\")][\"Total_Grade\"]\n",
    "\n",
    "# set data into two group of box\n",
    "data_a = [e1, e3]\n",
    "data_b = [e2, e4]\n",
    "\n",
    "# set label of box\n",
    "labels = ['GP-F','GP-M','MS-F','MS-M']\n",
    "\n",
    "# to draw box for different group of box\n",
    "bpl = plt.boxplot(data_a, positions=np.array(range(len(data_a)))*2.0-0.3, labels = ['GP-F','GP-M'], sym='', widths=0.6, showmeans=True)\n",
    "bpr = plt.boxplot(data_b, positions=np.array(range(len(data_a)))*2.0+0.3, labels = ['MS-F','MS-M'], sym='', widths=0.6, showmeans=True)\n",
    "\n",
    "# to set color for box\n",
    "set_box_color(bpl, '#D7191C') # colors are from http://colorbrewer2.org/\n",
    "set_box_color(bpr, '#2C7BB6')\n",
    "\n",
    "# draw temporary red and blue lines and use them to create a legend\n",
    "plt.plot([], c='#D7191C', label='F')\n",
    "plt.plot([], c='#2C7BB6', label='M')\n",
    "\n",
    "# set lable of x axis and y axis\n",
    "plt.xlabel('school - gender')\n",
    "plt.ylabel('Total Grades')\n",
    "\n",
    "# set title for chart\n",
    "plt.title('two school two gender groups')\n",
    "\n",
    "# set ticks of y axis\n",
    "plt.yticks(np.arange(0, 70, 5))\n",
    "\n",
    "# set legend\n",
    "plt.legend(loc=\"upper right\")\n",
    "\n",
    "plt.show()"
   ]
  },
  {
   "cell_type": "markdown",
   "metadata": {},
   "source": [
    "The above boxpolt and descriptive statistics show as following:\n",
    "\n",
    "- The total grades of the male students in GP school is skewed centre with a median 34, min of 5.00, a max of 58.00, and a standard deviation of 11.49. It has not outliers, since 3 standard deviations above the mean(33.60) would be 68.70, but the max is 58. The median (34) is higher than mean (33.60).\n",
    "- The total grades of the male students in MS school is skewed low side with a median 30, min of 11.00, a max of 46.00, and a standard deviation of 9.02. It has outliers, since 3 standard deviations above the mean(30.19) would be 57.25, but the max is 46.\n",
    "\n",
    "- The total grades of the female students in GP school is skewed low side with a median 30, min of 4.00, a max of 55.00, and a standard deviation of 10.71. It has not outliers, since 3 standard deviations above the mean(30.95) would be 63.08, but the max is 55.\n",
    "- The total grades of the female students in MS school is skewed low side with a median 30, min of 11.00, a max of 46.00, and a standard deviation of 9.02. It has not outliers, since 3 standard deviations above the mean(30.19) would be 57.25, but the max is 46.\n",
    "\n",
    "\n",
    "- Center and spread\n",
    "    - The total grades of the male students in GP school has the highest median in 4 groups. It means that over 50% of male students in GP school are higher than median of total grades of male students in GP school.\n",
    "    - The total grades of the male and female students in GP school have the largest IQR (Q3 - Q1) = 15. In contrast the female students in MS schoolt has the lowest IQR (Q3 - Q1) = 13.\n",
    "\n",
    "\n",
    "- Look for indicators of nonnormal or unusual data\n",
    "    - The total grades of the male students in GP school is centre. The majority of the data are located on centre of the graph. The data may show normally distributed. But the total grades of the male students in MS school may not be normally distributed.\n",
    "    - The total grades of the female students in GP school is skewed low side. The majority of the data are located on low side of the graph. The data may not be normally distributed. In contrast, the total grades of the female students in MS school may show normally distributed\n",
    "\n",
    "\n",
    "- Assess and compare groups\n",
    "    - All of 4 groups have different median prices.\n",
    "    - The total grades of the male and female students in GP school are more variable than others"
   ]
  },
  {
   "cell_type": "markdown",
   "metadata": {},
   "source": [
    "Next, I want use the swarm plot and the violin plot to show all observations along with some representation of the underlying distribution."
   ]
  },
  {
   "cell_type": "code",
   "execution_count": 27,
   "metadata": {},
   "outputs": [
    {
     "data": {
      "image/png": "[encoded data removed]",
      "text/plain": [
       "<Figure size 432x288 with 1 Axes>"
      ]
     },
     "metadata": {
      "needs_background": "light"
     },
     "output_type": "display_data"
    }
   ],
   "source": [
    "# Using swarmplot to illustrate data\n",
    "ax = sns.swarmplot(x=\"school\", y=\"Total_Grade\", hue=\"sex\", data=sub_mat_df)"
   ]
  },
  {
   "cell_type": "markdown",
   "metadata": {},
   "source": [
    "I'm sorry, I can not find how to implement swarmplot by matplotlib. "
   ]
  },
  {
   "cell_type": "code",
   "execution_count": 28,
   "metadata": {},
   "outputs": [
    {
     "data": {
      "image/png": "[encoded data removed]",
      "text/plain": [
       "<Figure size 432x288 with 1 Axes>"
      ]
     },
     "metadata": {
      "needs_background": "light"
     },
     "output_type": "display_data"
    }
   ],
   "source": [
    "# Using violinplot to illustrate data\n",
    "ax = sns.violinplot(x=\"school\", y=\"Total_Grade\", hue=\"sex\", data=sub_mat_df,\n",
    "                    palette=\"muted\", split=True)"
   ]
  },
  {
   "cell_type": "markdown",
   "metadata": {},
   "source": [
    "%matplotlib notebook\n",
    "Reference:\n",
    "\n",
    "https://matplotlib.org/gallery/statistics/boxplot_vs_violin.html#sphx-glr-gallery-statistics-boxplot-vs-violin-py"
   ]
  },
  {
   "cell_type": "code",
   "execution_count": 29,
   "metadata": {},
   "outputs": [
    {
     "data": {
      "image/png": "[encoded data removed]",
      "text/plain": [
       "<Figure size 648x432 with 1 Axes>"
      ]
     },
     "metadata": {
      "needs_background": "light"
     },
     "output_type": "display_data"
    }
   ],
   "source": [
    "def set_axes_style(ax, labels, title):\n",
    "    \"\"\"\n",
    "    To set style of axes.\n",
    "\n",
    "    ax:\n",
    "        Matplotlib.axes.Axes: a Axes.\n",
    "    \n",
    "    labels:\n",
    "        array of label.\n",
    "        \n",
    "    title:\n",
    "        string: lable of x axis .\n",
    "\n",
    "    Returns:\n",
    "      null.\n",
    "\n",
    "    Raises:\n",
    "      none\n",
    "    \"\"\"\n",
    "    ax.get_xaxis().set_tick_params(direction='out')\n",
    "    ax.xaxis.set_ticks_position('bottom')\n",
    "    ax.set_xticks(np.arange(1, len(labels) + 1))\n",
    "    ax.set_xticklabels(labels)\n",
    "    ax.set_xlim(0.25, len(labels) + 0.75)\n",
    "    ax.set_xlabel(title)\n",
    "    \n",
    "# create a figure 9*6\n",
    "f, ax = plt.subplots(1, 1, sharey=True, figsize=(9, 6))\n",
    "\n",
    "# group by school and sex\n",
    "e1 = sub_mat_df[(sub_mat_df[\"school\"] == \"GP\") & (sub_mat_df[\"sex\"] == \"F\")][\"Total_Grade\"]\n",
    "e2 = sub_mat_df[(sub_mat_df[\"school\"] == \"GP\") & (sub_mat_df[\"sex\"] == \"M\")][\"Total_Grade\"]\n",
    "e3 = sub_mat_df[(sub_mat_df[\"school\"] == \"MS\") & (sub_mat_df[\"sex\"] == \"F\")][\"Total_Grade\"]\n",
    "e4 = sub_mat_df[(sub_mat_df[\"school\"] == \"MS\") & (sub_mat_df[\"sex\"] == \"M\")][\"Total_Grade\"]\n",
    "\n",
    "# create a array to store data\n",
    "all_data = [e1.to_numpy(), e2.to_numpy(), e3.to_numpy(), e4.to_numpy()]\n",
    "\n",
    "# to draw violin plots\n",
    "ax.violinplot(all_data)\n",
    "\n",
    "# lable of each violin\n",
    "lables = ['GP-F','GP-M','MS-F','MS-M']\n",
    "\n",
    "# set style of Axes\n",
    "set_axes_style(ax, lables, \"schoo - gender\")\n",
    "\n",
    "plt.show()"
   ]
  },
  {
   "cell_type": "markdown",
   "metadata": {},
   "source": [
    "The above swarmplot and violinplot show as following:\n",
    "- In the swarmplot, a large number of male and female students in GP school have total grades ranging from 18 to 47, but the number of male and female students in MS school mainly concentrate on the total grades from 24 to 38.\n",
    "\n",
    "\n",
    "- In the violinplot:\n",
    "    - The male students in GP school have a higher distribution of total grades than female students in GP school.\n",
    "    - There are more the number of male students in GP school who get higher total grades than the number of male students in MS school. In contrast, the number of female students in MS school who get higher total grades than the number of female students in GP school"
   ]
  },
  {
   "cell_type": "markdown",
   "metadata": {},
   "source": [
    "Next, I will study the second question."
   ]
  },
  {
   "cell_type": "markdown",
   "metadata": {},
   "source": [
    "### Exploratory Data Analysis - Does parents' education have any effect on students' grades?\n",
    "Here I will perform explanatory data analysis on the new subset to see the distribution of who gets better total grades from a different parent educational background? Do students from good parent educational background get a higher grade than who has a lower education background?\n",
    "\n",
    "- columns are 'Medu', 'Fedu', 'Total_Grade'\n",
    "    - Medu - mother's education (numeric: 0 - none, 1 - primary education (4th grade), 2 5th to 9th grade, 3 secondary education or 4 higher education)\n",
    "    - Fedu - father's education (numeric: 0 - none, 1 - primary education (4th grade), 2 5th to 9th grade, 3 secondary education or 4 higher education)\n",
    "\n",
    "- I'm going to analyze the math scores of the 25 groups (5 levels of mother's education * 5 levels of father's education). There are 25 groups as following:\n",
    "\n",
    "|Medu(row) / Fedu(col) | 0 - none |  1 - primary education | 2 -5th to 9th grade | 3 - secondary education | 4 - higher education |\n",
    "| :--- | :--- | :--- | :--- | :--- | :--- |\n",
    "|0 - none | 0,0 | 0,1 | 0,2  | 0,3 | 0,4 |\n",
    "|1 - primary education | 1,0 | 1,1 | 1,2  | 1,3 | 1,4 |\n",
    "|2 -5th to 9th grade | 2,0 | 2,1 | 2,2  | 2,3 | 2,4 |\n",
    "|3 - secondary education | 3,0 | 3,1 | 3,2  | 3,3 | 3,4 |\n",
    "|4 - higher education | 4,0 | 4,1 | 4,2  | 4,3 | 4,4 |\n",
    "\n",
    "- To get sub data\n",
    "- Using bar charts to compare the count of students and the mean of total grade in 25 groups.\n"
   ]
  },
  {
   "cell_type": "code",
   "execution_count": 30,
   "metadata": {},
   "outputs": [
    {
     "data": {
      "text/html": [
       "<div>\n",
       "<style scoped>\n",
       "    .dataframe tbody tr th:only-of-type {\n",
       "        vertical-align: middle;\n",
       "    }\n",
       "\n",
       "    .dataframe tbody tr th {\n",
       "        vertical-align: top;\n",
       "    }\n",
       "\n",
       "    .dataframe thead th {\n",
       "        text-align: right;\n",
       "    }\n",
       "</style>\n",
       "<table border=\"1\" class=\"dataframe\">\n",
       "  <thead>\n",
       "    <tr style=\"text-align: right;\">\n",
       "      <th></th>\n",
       "      <th>Medu</th>\n",
       "      <th>Fedu</th>\n",
       "      <th>Total_Grade</th>\n",
       "    </tr>\n",
       "  </thead>\n",
       "  <tbody>\n",
       "    <tr>\n",
       "      <th>0</th>\n",
       "      <td>4</td>\n",
       "      <td>4</td>\n",
       "      <td>17</td>\n",
       "    </tr>\n",
       "    <tr>\n",
       "      <th>1</th>\n",
       "      <td>1</td>\n",
       "      <td>1</td>\n",
       "      <td>16</td>\n",
       "    </tr>\n",
       "    <tr>\n",
       "      <th>2</th>\n",
       "      <td>1</td>\n",
       "      <td>1</td>\n",
       "      <td>25</td>\n",
       "    </tr>\n",
       "    <tr>\n",
       "      <th>3</th>\n",
       "      <td>4</td>\n",
       "      <td>2</td>\n",
       "      <td>44</td>\n",
       "    </tr>\n",
       "    <tr>\n",
       "      <th>4</th>\n",
       "      <td>3</td>\n",
       "      <td>3</td>\n",
       "      <td>26</td>\n",
       "    </tr>\n",
       "  </tbody>\n",
       "</table>\n",
       "</div>"
      ],
      "text/plain": [
       "   Medu  Fedu  Total_Grade\n",
       "0     4     4           17\n",
       "1     1     1           16\n",
       "2     1     1           25\n",
       "3     4     2           44\n",
       "4     3     3           26"
      ]
     },
     "execution_count": 30,
     "metadata": {},
     "output_type": "execute_result"
    }
   ],
   "source": [
    "# To get sub data set with 3 columns ('Medu', 'Fedu', 'Total_Grade')\n",
    "sub_mat_df = mat_df_cope[['Medu', 'Fedu', 'Total_Grade']].copy()\n",
    "\n",
    "# To see the data\n",
    "sub_mat_df.head(5)"
   ]
  },
  {
   "cell_type": "code",
   "execution_count": 31,
   "metadata": {},
   "outputs": [
    {
     "data": {
      "text/plain": [
       "(395, 3)"
      ]
     },
     "execution_count": 31,
     "metadata": {},
     "output_type": "execute_result"
    }
   ],
   "source": [
    "# To see the data\n",
    "sub_mat_df.shape"
   ]
  },
  {
   "cell_type": "markdown",
   "metadata": {},
   "source": [
    "To calculate more value.\n",
    "```Python\n",
    "def status(x) : \n",
    "    return pd.Series([x.count(),x.min(),x.idxmin(),x.quantile(.25),x.median(),\n",
    "                      x.quantile(.75),x.mean(),x.max(),x.idxmax(),x.mad(),x.var(),\n",
    "                      x.std(),x.skew(),x.kurt()],index=['总数','最小值','最小值位置','25%分位数',\n",
    "                    '中位数','75%分位数','均值','最大值','最大值位数','平均绝对偏差','方差','标准差','偏度','峰度'])\n",
    "```"
   ]
  },
  {
   "cell_type": "code",
   "execution_count": 32,
   "metadata": {},
   "outputs": [
    {
     "data": {
      "text/html": [
       "<div>\n",
       "<style scoped>\n",
       "    .dataframe tbody tr th:only-of-type {\n",
       "        vertical-align: middle;\n",
       "    }\n",
       "\n",
       "    .dataframe tbody tr th {\n",
       "        vertical-align: top;\n",
       "    }\n",
       "\n",
       "    .dataframe thead th {\n",
       "        text-align: right;\n",
       "    }\n",
       "</style>\n",
       "<table border=\"1\" class=\"dataframe\">\n",
       "  <thead>\n",
       "    <tr style=\"text-align: right;\">\n",
       "      <th></th>\n",
       "      <th>count</th>\n",
       "      <th>min</th>\n",
       "      <th>index of min</th>\n",
       "      <th>25% Q1</th>\n",
       "      <th>median</th>\n",
       "      <th>75% Q3</th>\n",
       "      <th>mean</th>\n",
       "      <th>max</th>\n",
       "      <th>index of max</th>\n",
       "      <th>mean absolute deviation</th>\n",
       "      <th>variance</th>\n",
       "      <th>std</th>\n",
       "      <th>skew</th>\n",
       "      <th>kurt</th>\n",
       "    </tr>\n",
       "  </thead>\n",
       "  <tbody>\n",
       "    <tr>\n",
       "      <th>0</th>\n",
       "      <td>395.0</td>\n",
       "      <td>4.0</td>\n",
       "      <td>137.0</td>\n",
       "      <td>25.0</td>\n",
       "      <td>32.0</td>\n",
       "      <td>40.0</td>\n",
       "      <td>32.037975</td>\n",
       "      <td>58.0</td>\n",
       "      <td>47.0</td>\n",
       "      <td>8.930171</td>\n",
       "      <td>122.996016</td>\n",
       "      <td>11.090357</td>\n",
       "      <td>-0.140547</td>\n",
       "      <td>-0.332864</td>\n",
       "    </tr>\n",
       "  </tbody>\n",
       "</table>\n",
       "</div>"
      ],
      "text/plain": [
       "   count  min  index of min  25% Q1  median  75% Q3       mean   max  \\\n",
       "0  395.0  4.0         137.0    25.0    32.0    40.0  32.037975  58.0   \n",
       "\n",
       "   index of max  mean absolute deviation    variance        std      skew  \\\n",
       "0          47.0                 8.930171  122.996016  11.090357 -0.140547   \n",
       "\n",
       "       kurt  \n",
       "0 -0.332864  "
      ]
     },
     "execution_count": 32,
     "metadata": {},
     "output_type": "execute_result"
    }
   ],
   "source": [
    "def more_description(x) :\n",
    "    \"\"\"\n",
    "    To calculate more description.\n",
    "\n",
    "    x:\n",
    "        dataframe of pandas: a dataframe.\n",
    "\n",
    "\n",
    "    Returns:\n",
    "      Series of pandas.\n",
    "\n",
    "    Raises:\n",
    "      none\n",
    "    \"\"\"\n",
    "    return pd.Series([x.count(),x.min(),x.idxmin(),x.quantile(.25),x.median(),\n",
    "                      x.quantile(.75),x.mean(),x.max(),x.idxmax(),x.mad(),x.var(),\n",
    "                      x.std(),x.skew(),x.kurt()],index=[\n",
    "                    'count','min','index of min','25% Q1',\n",
    "                    'median','75% Q3','mean','max','index of max',\n",
    "                    'mean absolute deviation','variance','std','skew','kurt'])\n",
    "\n",
    "# to get more description\n",
    "pd.DataFrame(more_description(sub_mat_df['Total_Grade'])).T"
   ]
  },
  {
   "cell_type": "code",
   "execution_count": 33,
   "metadata": {
    "scrolled": false
   },
   "outputs": [
    {
     "data": {
      "text/html": [
       "<div>\n",
       "<style scoped>\n",
       "    .dataframe tbody tr th:only-of-type {\n",
       "        vertical-align: middle;\n",
       "    }\n",
       "\n",
       "    .dataframe tbody tr th {\n",
       "        vertical-align: top;\n",
       "    }\n",
       "\n",
       "    .dataframe thead tr th {\n",
       "        text-align: left;\n",
       "    }\n",
       "\n",
       "    .dataframe thead tr:last-of-type th {\n",
       "        text-align: right;\n",
       "    }\n",
       "</style>\n",
       "<table border=\"1\" class=\"dataframe\">\n",
       "  <thead>\n",
       "    <tr>\n",
       "      <th></th>\n",
       "      <th></th>\n",
       "      <th colspan=\"8\" halign=\"left\">Total_Grade</th>\n",
       "    </tr>\n",
       "    <tr>\n",
       "      <th></th>\n",
       "      <th></th>\n",
       "      <th>count</th>\n",
       "      <th>mean</th>\n",
       "      <th>std</th>\n",
       "      <th>min</th>\n",
       "      <th>25%</th>\n",
       "      <th>50%</th>\n",
       "      <th>75%</th>\n",
       "      <th>max</th>\n",
       "    </tr>\n",
       "    <tr>\n",
       "      <th>Medu</th>\n",
       "      <th>Fedu</th>\n",
       "      <th></th>\n",
       "      <th></th>\n",
       "      <th></th>\n",
       "      <th></th>\n",
       "      <th></th>\n",
       "      <th></th>\n",
       "      <th></th>\n",
       "      <th></th>\n",
       "    </tr>\n",
       "  </thead>\n",
       "  <tbody>\n",
       "    <tr>\n",
       "      <th rowspan=\"2\" valign=\"top\">0</th>\n",
       "      <th>1</th>\n",
       "      <td>1.0</td>\n",
       "      <td>24.000000</td>\n",
       "      <td>NaN</td>\n",
       "      <td>24.0</td>\n",
       "      <td>24.00</td>\n",
       "      <td>24.0</td>\n",
       "      <td>24.00</td>\n",
       "      <td>24.0</td>\n",
       "    </tr>\n",
       "    <tr>\n",
       "      <th>2</th>\n",
       "      <td>2.0</td>\n",
       "      <td>44.500000</td>\n",
       "      <td>2.121320</td>\n",
       "      <td>43.0</td>\n",
       "      <td>43.75</td>\n",
       "      <td>44.5</td>\n",
       "      <td>45.25</td>\n",
       "      <td>46.0</td>\n",
       "    </tr>\n",
       "    <tr>\n",
       "      <th rowspan=\"5\" valign=\"top\">1</th>\n",
       "      <th>0</th>\n",
       "      <td>1.0</td>\n",
       "      <td>44.000000</td>\n",
       "      <td>NaN</td>\n",
       "      <td>44.0</td>\n",
       "      <td>44.00</td>\n",
       "      <td>44.0</td>\n",
       "      <td>44.00</td>\n",
       "      <td>44.0</td>\n",
       "    </tr>\n",
       "    <tr>\n",
       "      <th>1</th>\n",
       "      <td>37.0</td>\n",
       "      <td>26.297297</td>\n",
       "      <td>9.599956</td>\n",
       "      <td>8.0</td>\n",
       "      <td>22.00</td>\n",
       "      <td>27.0</td>\n",
       "      <td>32.00</td>\n",
       "      <td>50.0</td>\n",
       "    </tr>\n",
       "    <tr>\n",
       "      <th>2</th>\n",
       "      <td>15.0</td>\n",
       "      <td>30.000000</td>\n",
       "      <td>10.757057</td>\n",
       "      <td>7.0</td>\n",
       "      <td>25.00</td>\n",
       "      <td>32.0</td>\n",
       "      <td>36.50</td>\n",
       "      <td>46.0</td>\n",
       "    </tr>\n",
       "    <tr>\n",
       "      <th>3</th>\n",
       "      <td>5.0</td>\n",
       "      <td>24.400000</td>\n",
       "      <td>6.188699</td>\n",
       "      <td>15.0</td>\n",
       "      <td>23.00</td>\n",
       "      <td>24.0</td>\n",
       "      <td>30.00</td>\n",
       "      <td>30.0</td>\n",
       "    </tr>\n",
       "    <tr>\n",
       "      <th>4</th>\n",
       "      <td>1.0</td>\n",
       "      <td>39.000000</td>\n",
       "      <td>NaN</td>\n",
       "      <td>39.0</td>\n",
       "      <td>39.00</td>\n",
       "      <td>39.0</td>\n",
       "      <td>39.00</td>\n",
       "      <td>39.0</td>\n",
       "    </tr>\n",
       "    <tr>\n",
       "      <th rowspan=\"4\" valign=\"top\">2</th>\n",
       "      <th>1</th>\n",
       "      <td>28.0</td>\n",
       "      <td>28.571429</td>\n",
       "      <td>12.191158</td>\n",
       "      <td>5.0</td>\n",
       "      <td>22.25</td>\n",
       "      <td>27.0</td>\n",
       "      <td>37.00</td>\n",
       "      <td>54.0</td>\n",
       "    </tr>\n",
       "    <tr>\n",
       "      <th>2</th>\n",
       "      <td>51.0</td>\n",
       "      <td>30.254902</td>\n",
       "      <td>9.543255</td>\n",
       "      <td>11.0</td>\n",
       "      <td>23.00</td>\n",
       "      <td>30.0</td>\n",
       "      <td>36.50</td>\n",
       "      <td>55.0</td>\n",
       "    </tr>\n",
       "    <tr>\n",
       "      <th>3</th>\n",
       "      <td>17.0</td>\n",
       "      <td>32.117647</td>\n",
       "      <td>8.724121</td>\n",
       "      <td>12.0</td>\n",
       "      <td>28.00</td>\n",
       "      <td>32.0</td>\n",
       "      <td>36.00</td>\n",
       "      <td>49.0</td>\n",
       "    </tr>\n",
       "    <tr>\n",
       "      <th>4</th>\n",
       "      <td>7.0</td>\n",
       "      <td>38.285714</td>\n",
       "      <td>7.846746</td>\n",
       "      <td>27.0</td>\n",
       "      <td>34.00</td>\n",
       "      <td>39.0</td>\n",
       "      <td>42.00</td>\n",
       "      <td>50.0</td>\n",
       "    </tr>\n",
       "    <tr>\n",
       "      <th rowspan=\"4\" valign=\"top\">3</th>\n",
       "      <th>1</th>\n",
       "      <td>15.0</td>\n",
       "      <td>33.200000</td>\n",
       "      <td>11.644741</td>\n",
       "      <td>19.0</td>\n",
       "      <td>23.00</td>\n",
       "      <td>30.0</td>\n",
       "      <td>42.00</td>\n",
       "      <td>54.0</td>\n",
       "    </tr>\n",
       "    <tr>\n",
       "      <th>2</th>\n",
       "      <td>28.0</td>\n",
       "      <td>31.714286</td>\n",
       "      <td>12.548741</td>\n",
       "      <td>5.0</td>\n",
       "      <td>21.75</td>\n",
       "      <td>33.5</td>\n",
       "      <td>40.25</td>\n",
       "      <td>53.0</td>\n",
       "    </tr>\n",
       "    <tr>\n",
       "      <th>3</th>\n",
       "      <td>38.0</td>\n",
       "      <td>30.368421</td>\n",
       "      <td>10.209749</td>\n",
       "      <td>4.0</td>\n",
       "      <td>26.25</td>\n",
       "      <td>30.0</td>\n",
       "      <td>36.75</td>\n",
       "      <td>52.0</td>\n",
       "    </tr>\n",
       "    <tr>\n",
       "      <th>4</th>\n",
       "      <td>18.0</td>\n",
       "      <td>31.333333</td>\n",
       "      <td>14.507604</td>\n",
       "      <td>9.0</td>\n",
       "      <td>18.25</td>\n",
       "      <td>33.5</td>\n",
       "      <td>43.00</td>\n",
       "      <td>52.0</td>\n",
       "    </tr>\n",
       "    <tr>\n",
       "      <th rowspan=\"5\" valign=\"top\">4</th>\n",
       "      <th>0</th>\n",
       "      <td>1.0</td>\n",
       "      <td>32.000000</td>\n",
       "      <td>NaN</td>\n",
       "      <td>32.0</td>\n",
       "      <td>32.00</td>\n",
       "      <td>32.0</td>\n",
       "      <td>32.00</td>\n",
       "      <td>32.0</td>\n",
       "    </tr>\n",
       "    <tr>\n",
       "      <th>1</th>\n",
       "      <td>1.0</td>\n",
       "      <td>24.000000</td>\n",
       "      <td>NaN</td>\n",
       "      <td>24.0</td>\n",
       "      <td>24.00</td>\n",
       "      <td>24.0</td>\n",
       "      <td>24.00</td>\n",
       "      <td>24.0</td>\n",
       "    </tr>\n",
       "    <tr>\n",
       "      <th>2</th>\n",
       "      <td>19.0</td>\n",
       "      <td>38.368421</td>\n",
       "      <td>9.304781</td>\n",
       "      <td>16.0</td>\n",
       "      <td>31.50</td>\n",
       "      <td>41.0</td>\n",
       "      <td>44.50</td>\n",
       "      <td>56.0</td>\n",
       "    </tr>\n",
       "    <tr>\n",
       "      <th>3</th>\n",
       "      <td>40.0</td>\n",
       "      <td>34.825000</td>\n",
       "      <td>11.493337</td>\n",
       "      <td>6.0</td>\n",
       "      <td>28.00</td>\n",
       "      <td>34.0</td>\n",
       "      <td>44.25</td>\n",
       "      <td>58.0</td>\n",
       "    </tr>\n",
       "    <tr>\n",
       "      <th>4</th>\n",
       "      <td>70.0</td>\n",
       "      <td>35.357143</td>\n",
       "      <td>10.739384</td>\n",
       "      <td>11.0</td>\n",
       "      <td>28.00</td>\n",
       "      <td>36.5</td>\n",
       "      <td>42.00</td>\n",
       "      <td>56.0</td>\n",
       "    </tr>\n",
       "  </tbody>\n",
       "</table>\n",
       "</div>"
      ],
      "text/plain": [
       "          Total_Grade                                                      \n",
       "                count       mean        std   min    25%   50%    75%   max\n",
       "Medu Fedu                                                                  \n",
       "0    1            1.0  24.000000        NaN  24.0  24.00  24.0  24.00  24.0\n",
       "     2            2.0  44.500000   2.121320  43.0  43.75  44.5  45.25  46.0\n",
       "1    0            1.0  44.000000        NaN  44.0  44.00  44.0  44.00  44.0\n",
       "     1           37.0  26.297297   9.599956   8.0  22.00  27.0  32.00  50.0\n",
       "     2           15.0  30.000000  10.757057   7.0  25.00  32.0  36.50  46.0\n",
       "     3            5.0  24.400000   6.188699  15.0  23.00  24.0  30.00  30.0\n",
       "     4            1.0  39.000000        NaN  39.0  39.00  39.0  39.00  39.0\n",
       "2    1           28.0  28.571429  12.191158   5.0  22.25  27.0  37.00  54.0\n",
       "     2           51.0  30.254902   9.543255  11.0  23.00  30.0  36.50  55.0\n",
       "     3           17.0  32.117647   8.724121  12.0  28.00  32.0  36.00  49.0\n",
       "     4            7.0  38.285714   7.846746  27.0  34.00  39.0  42.00  50.0\n",
       "3    1           15.0  33.200000  11.644741  19.0  23.00  30.0  42.00  54.0\n",
       "     2           28.0  31.714286  12.548741   5.0  21.75  33.5  40.25  53.0\n",
       "     3           38.0  30.368421  10.209749   4.0  26.25  30.0  36.75  52.0\n",
       "     4           18.0  31.333333  14.507604   9.0  18.25  33.5  43.00  52.0\n",
       "4    0            1.0  32.000000        NaN  32.0  32.00  32.0  32.00  32.0\n",
       "     1            1.0  24.000000        NaN  24.0  24.00  24.0  24.00  24.0\n",
       "     2           19.0  38.368421   9.304781  16.0  31.50  41.0  44.50  56.0\n",
       "     3           40.0  34.825000  11.493337   6.0  28.00  34.0  44.25  58.0\n",
       "     4           70.0  35.357143  10.739384  11.0  28.00  36.5  42.00  56.0"
      ]
     },
     "execution_count": 33,
     "metadata": {},
     "output_type": "execute_result"
    }
   ],
   "source": [
    "# To describe the sub data set\n",
    "sub_mat_df.groupby(['Medu', 'Fedu']).describe()"
   ]
  },
  {
   "cell_type": "markdown",
   "metadata": {},
   "source": [
    "Then, I will using count bar chart to illustrate the count of each groups"
   ]
  },
  {
   "cell_type": "code",
   "execution_count": 34,
   "metadata": {},
   "outputs": [
    {
     "data": {
      "image/png": "[encoded data removed]",
      "text/plain": [
       "<Figure size 402.375x360 with 1 Axes>"
      ]
     },
     "metadata": {
      "needs_background": "light"
     },
     "output_type": "display_data"
    }
   ],
   "source": [
    "# Using bar chart to compare the count of each groups. I have 25 groups\n",
    "g = sns.catplot(x=\"Medu\", hue=\"Fedu\", data=sub_mat_df, kind=\"count\");"
   ]
  },
  {
   "cell_type": "markdown",
   "metadata": {},
   "source": [
    "%matplotlib notebook "
   ]
  },
  {
   "cell_type": "code",
   "execution_count": 35,
   "metadata": {},
   "outputs": [
    {
     "data": {
      "image/png": "[encoded data removed]",
      "text/plain": [
       "<Figure size 648x432 with 1 Axes>"
      ]
     },
     "metadata": {
      "needs_background": "light"
     },
     "output_type": "display_data"
    }
   ],
   "source": [
    "def set_zero(sub_series, n):\n",
    "    \"\"\"\n",
    "    To fill data. If there is NaN, it will be filled 0.\n",
    "\n",
    "    x:\n",
    "        Series of pandas: a Series.\n",
    "    n:\n",
    "        int: size of return series.\n",
    "\n",
    "\n",
    "    Returns:\n",
    "      Series of pandas.\n",
    "\n",
    "    Raises:\n",
    "      none\n",
    "    \"\"\"\n",
    "\n",
    "    zeros = pd.Series(np.zeros(n))\n",
    "    \n",
    "    idx = []\n",
    "    values = []\n",
    "    for i, v in sub_series.items():\n",
    "        idx.append(i[0])\n",
    "        values.append(v)\n",
    "    \n",
    "    s = pd.Series(values, index=idx)\n",
    "\n",
    "    result = zeros + s\n",
    "    \n",
    "    return result\n",
    "\n",
    "# create a figure with 9 * 6\n",
    "plt.figure(figsize=(9,6))\n",
    "\n",
    "# create a sub plot\n",
    "plt.subplot(1, 1, 1)\n",
    "\n",
    "# the number of bar\n",
    "N = 25\n",
    "\n",
    "# the value of each bar\n",
    "values = (sub_mat_df.groupby([\"Medu\", \"Fedu\"]).count()['Total_Grade'])\n",
    "\n",
    "# the index of each bar\n",
    "index = np.arange(N)\n",
    "\n",
    "# the width of bar\n",
    "width = 0.1\n",
    "\n",
    "# get the number of group\n",
    "X = np.arange(N/5)\n",
    "\n",
    "# set data for each group\n",
    "f_0_m_df = sub_mat_df[sub_mat_df[\"Fedu\"] == 0].groupby([\"Medu\", \"Fedu\"]).count()['Total_Grade']\n",
    "Y0 = set_zero(f_0_m_df, 5).fillna(0).to_numpy()\n",
    "\n",
    "f_1_m_df = sub_mat_df[sub_mat_df[\"Fedu\"] == 1].groupby([\"Medu\", \"Fedu\"]).count()['Total_Grade']\n",
    "Y1 = set_zero(f_1_m_df, 5).fillna(0).to_numpy()\n",
    "\n",
    "f_2_m_df = sub_mat_df[sub_mat_df[\"Fedu\"] == 2].groupby([\"Medu\", \"Fedu\"]).count()['Total_Grade']\n",
    "Y2 = set_zero(f_2_m_df, 5).fillna(0).to_numpy()\n",
    "\n",
    "f_3_m_df = sub_mat_df[sub_mat_df[\"Fedu\"] == 3].groupby([\"Medu\", \"Fedu\"]).count()['Total_Grade']\n",
    "Y3 = set_zero(f_3_m_df, 5).fillna(0).to_numpy()\n",
    "\n",
    "f_4_m_df = sub_mat_df[sub_mat_df[\"Fedu\"] == 4].groupby([\"Medu\", \"Fedu\"]).count()['Total_Grade']\n",
    "Y4 = set_zero(f_4_m_df, 5).fillna(0).to_numpy()\n",
    "\n",
    "# to draw bars\n",
    "plt.bar(X, Y0, alpha=0.9, width = width, color='blue', label='Fedu - 0')\n",
    "plt.bar(X+width, Y1, alpha=0.9, width = width, color='orange', label='Fedu - 1')\n",
    "plt.bar(X+2*width, Y2, alpha=0.9, width = width, color='green', label='Fedu - 2')\n",
    "plt.bar(X+3*width, Y3, alpha=0.9, width = width, color='red', label='Fedu - 3')\n",
    "plt.bar(X+4*width, Y4, alpha=0.9, width = width, color='purple', label='Fedu - 4')\n",
    "\n",
    "\n",
    "# set label of x and y axis\n",
    "plt.xlabel('Medu')\n",
    "plt.ylabel('The count of student')\n",
    "\n",
    "# set title of chart\n",
    "plt.title('the count of Medu & Fedu')\n",
    "\n",
    "# set ticks for x and y axis\n",
    "ax.set_xticks(X)\n",
    "plt.xticks(X, ('0', '1', '2', '3', '4'))\n",
    "\n",
    "plt.yticks(np.arange(0, 80, 10))\n",
    "\n",
    "# add legend\n",
    "plt.legend(loc=\"upper left\")\n",
    "\n",
    "plt.show()"
   ]
  },
  {
   "cell_type": "markdown",
   "metadata": {},
   "source": [
    "The above bar chart shows that the group of (medu = 4 & fedu = 4) has the largest count of students with 70. If mother's education is 0 (none education experience), the count of students are lowest."
   ]
  },
  {
   "cell_type": "markdown",
   "metadata": {},
   "source": [
    "Next, I will compare the mean of total grades of 25 groups."
   ]
  },
  {
   "cell_type": "code",
   "execution_count": 36,
   "metadata": {
    "scrolled": true
   },
   "outputs": [
    {
     "data": {
      "text/plain": [
       "<seaborn.axisgrid.FacetGrid at 0x29c5bb41b08>"
      ]
     },
     "execution_count": 36,
     "metadata": {},
     "output_type": "execute_result"
    },
    {
     "data": {
      "image/png": "[encoded data removed]",
      "text/plain": [
       "<Figure size 720x288 with 5 Axes>"
      ]
     },
     "metadata": {
      "needs_background": "light"
     },
     "output_type": "display_data"
    }
   ],
   "source": [
    "# Using barplot to compare two schools\n",
    "# Fedu - father's education (numeric: 0 - none, 1 - primary education (4th grade), 2 - 5th to 9th grade, \n",
    "# 3 - secondary education or 4 - higher education)\n",
    "\n",
    "# Using seaborn to create 5 sub bar plots\n",
    "g = sns.FacetGrid(sub_mat_df, col=\"Medu\", height=4, aspect=.5)\n",
    "\n",
    "# ci = None means remove error (误差); ci = sd means std (标准差)\n",
    "g.map(sns.barplot, \"Fedu\", \"Total_Grade\", order=[0, 1, 2, 3, 4], ci = None)"
   ]
  },
  {
   "cell_type": "markdown",
   "metadata": {},
   "source": [
    "%matplotlib notebook \n",
    "\n",
    "Reference:\n",
    "\n"
   ]
  },
  {
   "cell_type": "code",
   "execution_count": 37,
   "metadata": {},
   "outputs": [
    {
     "data": {
      "image/png": "[encoded data removed]",
      "text/plain": [
       "<Figure size 864x360 with 5 Axes>"
      ]
     },
     "metadata": {
      "needs_background": "light"
     },
     "output_type": "display_data"
    }
   ],
   "source": [
    "def set_mean_zero(sub_series, n):\n",
    "    \"\"\"\n",
    "    To fill data. If there is NaN, it will be filled 0.\n",
    "\n",
    "    sub_series:\n",
    "        Series of pandas: a Series.\n",
    "    n:\n",
    "        int: size of return series.\n",
    "\n",
    "\n",
    "    Returns:\n",
    "      Series of pandas.\n",
    "\n",
    "    Raises:\n",
    "      none\n",
    "    \"\"\"\n",
    "    \n",
    "    # create a n size of series with 0.\n",
    "    zeros = pd.Series(np.zeros(n))\n",
    "    \n",
    "    idx = []\n",
    "    values = []\n",
    "    for i, v in sub_series.items():\n",
    "        idx.append(i)\n",
    "        values.append(v)\n",
    "    \n",
    "    # create a series with input sub_series\n",
    "    s = pd.Series(values, index=idx)\n",
    "\n",
    "    # add two series.\n",
    "    result = zeros + s\n",
    "    \n",
    "    return result.fillna(0)\n",
    "\n",
    "def mat_school_gender_bar(sub_mat_df):\n",
    "    \"\"\"\n",
    "    create bar chart for school and gender.\n",
    "\n",
    "    sub_mat_df:\n",
    "        dataframe of pandas: a dataframe.\n",
    "\n",
    "    Returns:\n",
    "      none\n",
    "\n",
    "    Raises:\n",
    "      none\n",
    "    \"\"\"\n",
    "    \n",
    "    # Create subplots and unpack the output array immediately\n",
    "    fig, (ax0, ax1, ax2, ax3, ax4) = plt.subplots(1, 5, sharey=True, figsize=(12, 5))\n",
    "    \n",
    "    x_pos = np.arange(5)\n",
    "    \n",
    "    # get data, fill zero for data, draw bars, set label for x and y axis\n",
    "    m0_df = sub_mat_df[sub_mat_df['Medu'] == 0]\n",
    "    Y0 = set_mean_zero(m0_df.groupby([\"Fedu\"]).mean()['Total_Grade'], 5)\n",
    "    ax0.bar(x_pos, Y0, alpha=0.9, width = 0.35, color='SkyBlue')\n",
    "    ax0.set_xlabel(\"Fedu\")\n",
    "    ax0.set_title(\"Medu = 0\")\n",
    "    \n",
    "    m1_df = sub_mat_df[sub_mat_df['Medu'] == 1]\n",
    "    Y1 = set_mean_zero(m1_df.groupby([\"Fedu\"]).mean()['Total_Grade'], 5)\n",
    "    ax1.bar(x_pos, Y1, alpha=0.9, width = 0.35, color='SkyBlue')\n",
    "    ax1.set_xlabel(\"Fedu\")\n",
    "    ax1.set_title(\"Medu = 1\")\n",
    "    \n",
    "    m2_df = sub_mat_df[sub_mat_df['Medu'] == 2]\n",
    "    Y2 = set_mean_zero(m2_df.groupby([\"Fedu\"]).mean()['Total_Grade'], 5)\n",
    "    ax2.bar(x_pos, Y2, alpha=0.9, width = 0.35, color='SkyBlue')\n",
    "    ax2.set_xlabel(\"Fedu\")\n",
    "    ax2.set_title(\"Medu = 2\")\n",
    "    \n",
    "    m3_df = sub_mat_df[sub_mat_df['Medu'] == 3]\n",
    "    Y3 = set_mean_zero(m3_df.groupby([\"Fedu\"]).mean()['Total_Grade'], 5)\n",
    "    ax3.bar(x_pos, Y3, alpha=0.9, width = 0.35, color='SkyBlue')\n",
    "    ax3.set_xlabel(\"Fedu\")\n",
    "    ax3.set_title(\"Medu = 3\")\n",
    "    \n",
    "    m4_df = sub_mat_df[sub_mat_df['Medu'] == 4]\n",
    "    Y4 = set_mean_zero(m4_df.groupby([\"Fedu\"]).mean()['Total_Grade'], 5)\n",
    "    ax4.bar(x_pos, Y4, alpha=0.9, width = 0.35, color='SkyBlue')\n",
    "    ax4.set_xlabel(\"Fedu\")\n",
    "    ax4.set_title(\"Medu = 4\")\n",
    "    \n",
    "    # Tweak spacing to prevent clipping of ylabel\n",
    "    fig.tight_layout()\n",
    "    plt.show()\n",
    "\n",
    "# To call mat_school_gender_bar to show picture\n",
    "mat_school_gender_bar(sub_mat_df)"
   ]
  },
  {
   "cell_type": "markdown",
   "metadata": {},
   "source": [
    "The above bar chart and descriptive statistics show as following:\n",
    "- The group (Medu is 0 & Fedu is 2) has the highest mean of total grades with 44.50 in 25 groups, but the count of this group is 2. That means it is hard to conclude that this group is sure to have children with the highest mean of total grades.\n",
    "\n",
    "- If father's education is 4 (higher education) and mather's education is from 1 to 4, the mean of total grades of their childrean are 39.00, 38.28, 31.33 and 35.36, respectively.\n",
    "\n",
    "- If mother's education is 4 (higher education) and father's education is from 0 to 4, the maxiumn mean of total grades of their childrean is 38.37 from group (Medu is 4 & Fedu is 2), and the miniumn mean of total grades of their childrean is 24.00 from group (Medu is 4 & Fedu is 1). But the count of group (Medu is 4 & Fedu is 1) is 1. it is hard to conclude that this group will always have low total grades, because the count of sample is to small."
   ]
  },
  {
   "cell_type": "markdown",
   "metadata": {},
   "source": [
    "Now we can find that:\n",
    "\n",
    "- For the output of describe and the bar chart to compare the count of each group, most of the data of students concentrate on a situation that father and mother all get primary education or get higher education.\n",
    "- For the bar chart to compare the mean of each group, students whose parents get higher primary education will get higher total grades."
   ]
  },
  {
   "cell_type": "markdown",
   "metadata": {},
   "source": [
    "Next, I will find out the relationship between G1, G2, G3 and Total_Grade"
   ]
  },
  {
   "cell_type": "markdown",
   "metadata": {},
   "source": [
    "### Exploratory Data Analysis - What is the relationship among G1, G2, G3 and Total_Grade?\n",
    "Here I will perform explanatory data analysis on the new subset to see the correlation among G1, G2, G3 and Total Grade. Which grade has the highest correlation value with total grade?\n",
    "\n",
    "- G1 - first period grade (numeric: from 0 to 20)\n",
    "- G2 - second period grade (numeric: from 0 to 20)\n",
    "- G3 - final grade (numeric: from 0 to 20, output target)\n",
    "- Total_Grade is G1 + G2 + G3\n",
    "\n",
    "- I'm going to analyze the mrelationship among G1, G2, G3 and Total_Grade.\n",
    "- To get sub data\n",
    "- Using heatmap to see the correlation coefficient\n",
    "- Using regression line to see regression\n",
    "- Using scatter to analyze the relationship"
   ]
  },
  {
   "cell_type": "markdown",
   "metadata": {},
   "source": [
    "Then, I will get the sub data set and explore basic data information."
   ]
  },
  {
   "cell_type": "code",
   "execution_count": 38,
   "metadata": {},
   "outputs": [
    {
     "data": {
      "text/html": [
       "<div>\n",
       "<style scoped>\n",
       "    .dataframe tbody tr th:only-of-type {\n",
       "        vertical-align: middle;\n",
       "    }\n",
       "\n",
       "    .dataframe tbody tr th {\n",
       "        vertical-align: top;\n",
       "    }\n",
       "\n",
       "    .dataframe thead th {\n",
       "        text-align: right;\n",
       "    }\n",
       "</style>\n",
       "<table border=\"1\" class=\"dataframe\">\n",
       "  <thead>\n",
       "    <tr style=\"text-align: right;\">\n",
       "      <th></th>\n",
       "      <th>G1</th>\n",
       "      <th>G2</th>\n",
       "      <th>G3</th>\n",
       "      <th>Total_Grade</th>\n",
       "    </tr>\n",
       "  </thead>\n",
       "  <tbody>\n",
       "    <tr>\n",
       "      <th>0</th>\n",
       "      <td>5</td>\n",
       "      <td>6</td>\n",
       "      <td>6</td>\n",
       "      <td>17</td>\n",
       "    </tr>\n",
       "    <tr>\n",
       "      <th>1</th>\n",
       "      <td>5</td>\n",
       "      <td>5</td>\n",
       "      <td>6</td>\n",
       "      <td>16</td>\n",
       "    </tr>\n",
       "    <tr>\n",
       "      <th>2</th>\n",
       "      <td>7</td>\n",
       "      <td>8</td>\n",
       "      <td>10</td>\n",
       "      <td>25</td>\n",
       "    </tr>\n",
       "    <tr>\n",
       "      <th>3</th>\n",
       "      <td>15</td>\n",
       "      <td>14</td>\n",
       "      <td>15</td>\n",
       "      <td>44</td>\n",
       "    </tr>\n",
       "    <tr>\n",
       "      <th>4</th>\n",
       "      <td>6</td>\n",
       "      <td>10</td>\n",
       "      <td>10</td>\n",
       "      <td>26</td>\n",
       "    </tr>\n",
       "  </tbody>\n",
       "</table>\n",
       "</div>"
      ],
      "text/plain": [
       "   G1  G2  G3  Total_Grade\n",
       "0   5   6   6           17\n",
       "1   5   5   6           16\n",
       "2   7   8  10           25\n",
       "3  15  14  15           44\n",
       "4   6  10  10           26"
      ]
     },
     "execution_count": 38,
     "metadata": {},
     "output_type": "execute_result"
    }
   ],
   "source": [
    "# To get sub data set with 4 columns ('G1', 'G2', 'G3','Total_Grade')\n",
    "sub_mat_df3 = mat_df_cope[['G1', 'G2', 'G3', 'Total_Grade']].copy()\n",
    "\n",
    "# To see the data.\n",
    "sub_mat_df3.head(5)"
   ]
  },
  {
   "cell_type": "code",
   "execution_count": 39,
   "metadata": {},
   "outputs": [
    {
     "data": {
      "text/plain": [
       "(395, 4)"
      ]
     },
     "execution_count": 39,
     "metadata": {},
     "output_type": "execute_result"
    }
   ],
   "source": [
    "# To see the data matrix.\n",
    "sub_mat_df3.shape"
   ]
  },
  {
   "cell_type": "code",
   "execution_count": 40,
   "metadata": {},
   "outputs": [
    {
     "data": {
      "text/html": [
       "<div>\n",
       "<style scoped>\n",
       "    .dataframe tbody tr th:only-of-type {\n",
       "        vertical-align: middle;\n",
       "    }\n",
       "\n",
       "    .dataframe tbody tr th {\n",
       "        vertical-align: top;\n",
       "    }\n",
       "\n",
       "    .dataframe thead th {\n",
       "        text-align: right;\n",
       "    }\n",
       "</style>\n",
       "<table border=\"1\" class=\"dataframe\">\n",
       "  <thead>\n",
       "    <tr style=\"text-align: right;\">\n",
       "      <th></th>\n",
       "      <th>G1</th>\n",
       "      <th>G2</th>\n",
       "      <th>G3</th>\n",
       "      <th>Total_Grade</th>\n",
       "    </tr>\n",
       "  </thead>\n",
       "  <tbody>\n",
       "    <tr>\n",
       "      <th>count</th>\n",
       "      <td>395.000000</td>\n",
       "      <td>395.000000</td>\n",
       "      <td>395.000000</td>\n",
       "      <td>395.000000</td>\n",
       "    </tr>\n",
       "    <tr>\n",
       "      <th>mean</th>\n",
       "      <td>10.908861</td>\n",
       "      <td>10.713924</td>\n",
       "      <td>10.415190</td>\n",
       "      <td>32.037975</td>\n",
       "    </tr>\n",
       "    <tr>\n",
       "      <th>std</th>\n",
       "      <td>3.319195</td>\n",
       "      <td>3.761505</td>\n",
       "      <td>4.581443</td>\n",
       "      <td>11.090357</td>\n",
       "    </tr>\n",
       "    <tr>\n",
       "      <th>min</th>\n",
       "      <td>3.000000</td>\n",
       "      <td>0.000000</td>\n",
       "      <td>0.000000</td>\n",
       "      <td>4.000000</td>\n",
       "    </tr>\n",
       "    <tr>\n",
       "      <th>25%</th>\n",
       "      <td>8.000000</td>\n",
       "      <td>9.000000</td>\n",
       "      <td>8.000000</td>\n",
       "      <td>25.000000</td>\n",
       "    </tr>\n",
       "    <tr>\n",
       "      <th>50%</th>\n",
       "      <td>11.000000</td>\n",
       "      <td>11.000000</td>\n",
       "      <td>11.000000</td>\n",
       "      <td>32.000000</td>\n",
       "    </tr>\n",
       "    <tr>\n",
       "      <th>75%</th>\n",
       "      <td>13.000000</td>\n",
       "      <td>13.000000</td>\n",
       "      <td>14.000000</td>\n",
       "      <td>40.000000</td>\n",
       "    </tr>\n",
       "    <tr>\n",
       "      <th>max</th>\n",
       "      <td>19.000000</td>\n",
       "      <td>19.000000</td>\n",
       "      <td>20.000000</td>\n",
       "      <td>58.000000</td>\n",
       "    </tr>\n",
       "  </tbody>\n",
       "</table>\n",
       "</div>"
      ],
      "text/plain": [
       "               G1          G2          G3  Total_Grade\n",
       "count  395.000000  395.000000  395.000000   395.000000\n",
       "mean    10.908861   10.713924   10.415190    32.037975\n",
       "std      3.319195    3.761505    4.581443    11.090357\n",
       "min      3.000000    0.000000    0.000000     4.000000\n",
       "25%      8.000000    9.000000    8.000000    25.000000\n",
       "50%     11.000000   11.000000   11.000000    32.000000\n",
       "75%     13.000000   13.000000   14.000000    40.000000\n",
       "max     19.000000   19.000000   20.000000    58.000000"
      ]
     },
     "execution_count": 40,
     "metadata": {},
     "output_type": "execute_result"
    }
   ],
   "source": [
    "# To describe the sub data set\n",
    "sub_mat_df3.describe()"
   ]
  },
  {
   "cell_type": "markdown",
   "metadata": {},
   "source": [
    "The G1 has the highest mean in G1, G2 and G3. The G3 has the largest IQR(Q3 - Q1) = (14 - 8)."
   ]
  },
  {
   "cell_type": "code",
   "execution_count": 41,
   "metadata": {},
   "outputs": [
    {
     "data": {
      "text/html": [
       "<div>\n",
       "<style scoped>\n",
       "    .dataframe tbody tr th:only-of-type {\n",
       "        vertical-align: middle;\n",
       "    }\n",
       "\n",
       "    .dataframe tbody tr th {\n",
       "        vertical-align: top;\n",
       "    }\n",
       "\n",
       "    .dataframe thead th {\n",
       "        text-align: right;\n",
       "    }\n",
       "</style>\n",
       "<table border=\"1\" class=\"dataframe\">\n",
       "  <thead>\n",
       "    <tr style=\"text-align: right;\">\n",
       "      <th></th>\n",
       "      <th>G1</th>\n",
       "      <th>G2</th>\n",
       "      <th>G3</th>\n",
       "      <th>Total_Grade</th>\n",
       "    </tr>\n",
       "  </thead>\n",
       "  <tbody>\n",
       "    <tr>\n",
       "      <th>G1</th>\n",
       "      <td>1.000000</td>\n",
       "      <td>0.852118</td>\n",
       "      <td>0.801468</td>\n",
       "      <td>0.919386</td>\n",
       "    </tr>\n",
       "    <tr>\n",
       "      <th>G2</th>\n",
       "      <td>0.852118</td>\n",
       "      <td>1.000000</td>\n",
       "      <td>0.904868</td>\n",
       "      <td>0.967999</td>\n",
       "    </tr>\n",
       "    <tr>\n",
       "      <th>G3</th>\n",
       "      <td>0.801468</td>\n",
       "      <td>0.904868</td>\n",
       "      <td>1.000000</td>\n",
       "      <td>0.959873</td>\n",
       "    </tr>\n",
       "    <tr>\n",
       "      <th>Total_Grade</th>\n",
       "      <td>0.919386</td>\n",
       "      <td>0.967999</td>\n",
       "      <td>0.959873</td>\n",
       "      <td>1.000000</td>\n",
       "    </tr>\n",
       "  </tbody>\n",
       "</table>\n",
       "</div>"
      ],
      "text/plain": [
       "                   G1        G2        G3  Total_Grade\n",
       "G1           1.000000  0.852118  0.801468     0.919386\n",
       "G2           0.852118  1.000000  0.904868     0.967999\n",
       "G3           0.801468  0.904868  1.000000     0.959873\n",
       "Total_Grade  0.919386  0.967999  0.959873     1.000000"
      ]
     },
     "execution_count": 41,
     "metadata": {},
     "output_type": "execute_result"
    }
   ],
   "source": [
    "# To compute pairwise correlation of columns\n",
    "sub_mat_df3.corr()"
   ]
  },
  {
   "cell_type": "markdown",
   "metadata": {},
   "source": [
    "The G2 and Total_Grade have the largest value of correlation, 0.97. It means that there is a significant correlation between G2 and Total_Grade. But the correlation of G1 and G3 is the lowest 0.80 in all pairs. They are moderately correlated. "
   ]
  },
  {
   "cell_type": "markdown",
   "metadata": {},
   "source": [
    "Next, I will show the correlation values by heatmap.Heatmap shows the relationship between data more intuitively."
   ]
  },
  {
   "cell_type": "markdown",
   "metadata": {},
   "source": [
    "Reference:\n",
    "\n",
    "http://alanpryorjr.com/visualizations/seaborn/heatmap/heatmap/"
   ]
  },
  {
   "cell_type": "code",
   "execution_count": 42,
   "metadata": {},
   "outputs": [
    {
     "data": {
      "image/png": "[encoded data removed]",
      "text/plain": [
       "<Figure size 576x432 with 2 Axes>"
      ]
     },
     "metadata": {
      "needs_background": "light"
     },
     "output_type": "display_data"
    }
   ],
   "source": [
    "# correlation heatmap \n",
    "plt.figure(figsize=(8,6))\n",
    "ax = sns.heatmap(sub_mat_df3.corr(), cmap='coolwarm', annot=True)\n",
    "plt.show()"
   ]
  },
  {
   "cell_type": "markdown",
   "metadata": {},
   "source": [
    "%matplotlib notebook\n",
    "\n",
    "Reference\n",
    "\n",
    "https://matplotlib.org/gallery/images_contours_and_fields/image_annotated_heatmap.html#sphx-glr-gallery-images-contours-and-fields-image-annotated-heatmap-py"
   ]
  },
  {
   "cell_type": "code",
   "execution_count": 43,
   "metadata": {},
   "outputs": [
    {
     "data": {
      "image/png": "[encoded data removed]",
      "text/plain": [
       "<Figure size 576x432 with 2 Axes>"
      ]
     },
     "metadata": {
      "needs_background": "light"
     },
     "output_type": "display_data"
    }
   ],
   "source": [
    "# set labels for x, y axis\n",
    "x_labels = sub_mat_df3.columns.to_numpy()\n",
    "y_labels = sub_mat_df3.columns.to_numpy()\n",
    "\n",
    "# get values of correlation, and round 2 decimal places. \n",
    "corrs = sub_mat_df3.corr().to_numpy().round(2)\n",
    "\n",
    "# choose a color line.\n",
    "kwargs= {'cmap': 'coolwarm'}\n",
    "\n",
    "# create a sub plot\n",
    "fig, ax = plt.subplots(figsize=(8, 6))\n",
    "\n",
    "# put values of correlation into \n",
    "im = ax.imshow(corrs, ** kwargs)\n",
    "\n",
    "# color bar title\n",
    "cbarlabel=\"grades relationship\"\n",
    "# Create colorbar\n",
    "cbar = ax.figure.colorbar(im, ax=ax)\n",
    "cbar.ax.set_ylabel(cbarlabel, rotation=-90, va=\"bottom\")\n",
    "\n",
    "# We want to show all ticks...\n",
    "ax.set_xticks(np.arange(len(x_labels)))\n",
    "ax.set_yticks(np.arange(len(y_labels)))\n",
    "\n",
    "# ... and label them with the respective list entries\n",
    "ax.set_xticklabels(x_labels)\n",
    "ax.set_yticklabels(y_labels)\n",
    "\n",
    "# Rotate the tick labels and set their alignment.\n",
    "plt.setp(ax.get_xticklabels(), rotation=45, ha=\"right\",\n",
    "         rotation_mode=\"anchor\")\n",
    "\n",
    "# Loop over data dimensions and create text annotations.\n",
    "for i in range(len(y_labels)):\n",
    "    for j in range(len(x_labels)):\n",
    "        text = ax.text(j, i, corrs[i, j],\n",
    "                       ha=\"center\", va=\"center\", color=\"w\")\n",
    "\n",
    "ax.set_title(\"G1, G2, G3 and Total_Grade heat map\")\n",
    "\n",
    "fig.tight_layout()\n",
    "\n",
    "plt.show()"
   ]
  },
  {
   "cell_type": "markdown",
   "metadata": {},
   "source": [
    "Now we can find that:\n",
    "\n",
    "- For the output of describe, all the 4 data are positive. Base on our domain knowledge, this makes sense.\n",
    "- For the heatmap, (G2, Total_Grade) and (G3, Total_Grade) still have a stronger positive correlation with 0.97 and 0.96, respectively. Also, there is some weak correlation between G1 and G3 (0.8)."
   ]
  },
  {
   "cell_type": "markdown",
   "metadata": {},
   "source": [
    "Next, I will use scatter chart to find out trends among G1, G2, G3 and Total_Grade."
   ]
  },
  {
   "cell_type": "code",
   "execution_count": 44,
   "metadata": {},
   "outputs": [
    {
     "data": {
      "text/plain": [
       "<seaborn.axisgrid.PairGrid at 0x29c5d523ec8>"
      ]
     },
     "execution_count": 44,
     "metadata": {},
     "output_type": "execute_result"
    },
    {
     "data": {
      "image/png": "[encoded data removed]",
      "text/plain": [
       "<Figure size 720x720 with 16 Axes>"
      ]
     },
     "metadata": {
      "needs_background": "light"
     },
     "output_type": "display_data"
    }
   ],
   "source": [
    "# use PairGrid and scatterplot to demostate the distribution.\n",
    "g = sns.PairGrid(sub_mat_df3)\n",
    "g.map(sns.scatterplot)"
   ]
  },
  {
   "cell_type": "markdown",
   "metadata": {},
   "source": [
    "%matplotlib notebook\n",
    "\n",
    "Reference:\n",
    "\n",
    "https://matplotlib.org/gallery/lines_bars_and_markers/scatter_demo2.html#sphx-glr-gallery-lines-bars-and-markers-scatter-demo2-py"
   ]
  },
  {
   "cell_type": "code",
   "execution_count": 45,
   "metadata": {},
   "outputs": [
    {
     "data": {
      "image/png": "[encoded data removed]",
      "text/plain": [
       "<Figure size 720x720 with 16 Axes>"
      ]
     },
     "metadata": {
      "needs_background": "light"
     },
     "output_type": "display_data"
    }
   ],
   "source": [
    "# create a 4*4 sub plot by matplotlib\n",
    "fig, axs = plt.subplots(4, 4, sharey=True, figsize=(10, 10))\n",
    "\n",
    "# use scatter to fill 1st row of sub plots\n",
    "axs[0, 0].scatter(sub_mat_df3[\"G1\"], sub_mat_df3[\"G1\"], alpha=0.5)\n",
    "axs[0, 1].scatter(sub_mat_df3[\"G2\"], sub_mat_df3[\"G1\"], alpha=0.5)\n",
    "axs[0, 2].scatter(sub_mat_df3[\"G3\"], sub_mat_df3[\"G1\"], alpha=0.5)\n",
    "axs[0, 3].scatter(sub_mat_df3[\"Total_Grade\"], sub_mat_df3[\"G1\"], alpha=0.5)\n",
    "\n",
    "# use scatter to fill 2nd row of sub plots\n",
    "axs[1, 0].scatter(sub_mat_df3[\"G1\"], sub_mat_df3[\"G2\"], alpha=0.5)\n",
    "axs[1, 1].scatter(sub_mat_df3[\"G2\"], sub_mat_df3[\"G2\"], alpha=0.5)\n",
    "axs[1, 2].scatter(sub_mat_df3[\"G3\"], sub_mat_df3[\"G2\"], alpha=0.5)\n",
    "axs[1, 3].scatter(sub_mat_df3[\"Total_Grade\"], sub_mat_df3[\"G2\"], alpha=0.5)\n",
    "\n",
    "# use scatter to fill 3rd row of sub plots\n",
    "axs[2, 0].scatter(sub_mat_df3[\"G1\"], sub_mat_df3[\"G3\"], alpha=0.5)\n",
    "axs[2, 1].scatter(sub_mat_df3[\"G2\"], sub_mat_df3[\"G3\"], alpha=0.5)\n",
    "axs[2, 2].scatter(sub_mat_df3[\"G3\"], sub_mat_df3[\"G3\"], alpha=0.5)\n",
    "axs[2, 3].scatter(sub_mat_df3[\"Total_Grade\"], sub_mat_df3[\"G3\"], alpha=0.5)\n",
    "\n",
    "# use scatter to fill 4th row of sub plots\n",
    "axs[3, 0].scatter(sub_mat_df3[\"G1\"], sub_mat_df3[\"Total_Grade\"], alpha=0.5)\n",
    "axs[3, 1].scatter(sub_mat_df3[\"G2\"], sub_mat_df3[\"Total_Grade\"], alpha=0.5)\n",
    "axs[3, 2].scatter(sub_mat_df3[\"G3\"], sub_mat_df3[\"Total_Grade\"], alpha=0.5)\n",
    "axs[3, 3].scatter(sub_mat_df3[\"Total_Grade\"], sub_mat_df3[\"Total_Grade\"], alpha=0.5)\n",
    "\n",
    "# set lables for y axis of 1st columns of sub plots\n",
    "axs[0, 0].set_ylabel(\"G1\", fontsize=10)\n",
    "axs[1, 0].set_ylabel(\"G2\", fontsize=10)\n",
    "axs[2, 0].set_ylabel(\"G3\", fontsize=10)\n",
    "axs[3, 0].set_ylabel(\"Total_Grade\", fontsize=10)\n",
    "\n",
    "# set lables for x axis of 4th row of sub plots\n",
    "axs[3, 0].set_xlabel(\"G1\", fontsize=10)\n",
    "axs[3, 1].set_xlabel(\"G2\", fontsize=10)\n",
    "axs[3, 2].set_xlabel(\"G3\", fontsize=10)\n",
    "axs[3, 3].set_xlabel(\"Total_Grade\", fontsize=10)\n",
    "\n",
    "fig.tight_layout()\n",
    "plt.show()"
   ]
  },
  {
   "cell_type": "markdown",
   "metadata": {},
   "source": [
    "The above scatter chart and descriptive statistics show as following:\n",
    "\n",
    "- For all the data, the trend appears to be clear upward line.\n",
    "- (G1, G2), (G1, G3), (G1, Total_Grade), (G2, G3), (G2, Total_Grade) and (G3, Total_Grade) all have two clear groupings. It means that G2 and G3 has students who get 0 grades.\n",
    "- The G1, G2 and G3 are probably good Total_Grade predictor."
   ]
  },
  {
   "cell_type": "markdown",
   "metadata": {},
   "source": [
    "Next, I want to illustrate a scatter chart and to find out the regression line for G2 and Total_Grade."
   ]
  },
  {
   "cell_type": "code",
   "execution_count": 46,
   "metadata": {
    "scrolled": false
   },
   "outputs": [
    {
     "data": {
      "image/png": "[encoded data removed]",
      "text/plain": [
       "<Figure size 360x360 with 1 Axes>"
      ]
     },
     "metadata": {
      "needs_background": "light"
     },
     "output_type": "display_data"
    }
   ],
   "source": [
    "# To draw a regression line\n",
    "sns.lmplot(x=\"Total_Grade\", y=\"G2\", data=sub_mat_df3);"
   ]
  },
  {
   "cell_type": "markdown",
   "metadata": {},
   "source": [
    "\n",
    "Reference:\n",
    "\n",
    "https://matplotlib.org/gallery/lines_bars_and_markers/fill_between_demo.html#sphx-glr-gallery-lines-bars-and-markers-fill-between-demo-py"
   ]
  },
  {
   "cell_type": "code",
   "execution_count": 47,
   "metadata": {},
   "outputs": [
    {
     "data": {
      "image/png": "[encoded data removed]",
      "text/plain": [
       "<Figure size 432x432 with 1 Axes>"
      ]
     },
     "metadata": {
      "needs_background": "light"
     },
     "output_type": "display_data"
    }
   ],
   "source": [
    "# set value for x axis \n",
    "x = sub_mat_df3['Total_Grade']\n",
    "# set value for y axis \n",
    "y = sub_mat_df3['G2']\n",
    "\n",
    "# to calculate relationship between two datas\n",
    "a, b = np.polyfit(x, y, deg=1)\n",
    "y_est = a * x + b\n",
    "y_err = x.std() * np.sqrt(1/len(x) + (x - x.mean())**2 / np.sum((x - x.mean())**2))\n",
    "\n",
    "# create a plot\n",
    "fig, ax = plt.subplots(figsize=(6, 6))\n",
    "# draw data\n",
    "ax.plot(x, y_est, '-')\n",
    "ax.fill_between(x, y_est - y_err, y_est + y_err, alpha=0.2)\n",
    "ax.plot(x, y, 'o', color='Blue', alpha=0.5)\n",
    "\n",
    "# set x,y axis label\n",
    "ax.set_xlabel(\"Total_Grade\")\n",
    "ax.set_ylabel(\"G2\")\n",
    "plt.show()"
   ]
  },
  {
   "cell_type": "markdown",
   "metadata": {},
   "source": [
    "The above scatter chart with a regression line show that G2 and Total_Grade has a clear upward line from bottom left to upper right. There are two clear groups. One group concentrate the bottom, and the other one show a upward trend. Also, there are some points are off the upward regression line."
   ]
  },
  {
   "cell_type": "markdown",
   "metadata": {},
   "source": [
    "Now we can find that:\n",
    "\n",
    "- For the output of describe, the result of corr and heatmap, all the values are positive.\n",
    "- For the muti-scatter charts created by PairGrid. The relationships of G1, G2, G3, and Total_Grade appears clear upward trends.\n",
    "- For the scatter chart and regression line, The most of data from G2 and Total_Grade are concentrate near the regression line. But there is a group of data that are off the regression line."
   ]
  },
  {
   "cell_type": "markdown",
   "metadata": {},
   "source": [
    "### Research Questions - Answers\n",
    "As stated above my three questions were:\n",
    "- Who gets better total grades in math at two schools, boys or girls?\n",
    "- Does parents' education have any effect on students' grades?\n",
    "- What is the relationship among G1, G2, G3 and Total Grades?"
   ]
  },
  {
   "cell_type": "markdown",
   "metadata": {},
   "source": [
    "#### Q1 Who gets better total grades in math at two schools, boys or girls?\n",
    "- The mean of total grades in GP school is higher than that is in MS school. Also, The mean of total grades in GP school is the highest in male and female students in two schools.\n",
    "- The mean of total grades of male students in GP school is higher than The mean of total grades of female students in GP school.\n",
    "- The mean of total grades of female students in MS school is higher than their competitors in MS school.\n",
    "- But, the number of students in GP school is 7 times more than the number of students in MS school. When we use data of MS School as a judgment, we need more evidence to help us."
   ]
  },
  {
   "cell_type": "markdown",
   "metadata": {},
   "source": [
    "#### Q2 Does parents' education have any effect on students' grades?\n",
    "- Students whose parents get higher primary education will get a higher mean of total grades.\n",
    "- The number of students whose parents get higher primary education accounts for the most data.\n",
    "- There are 39 records that students whose parents get None education or Primary education. These records make up only 1/10 of the total records. If we want to predict something by these records, we should consider more evidence."
   ]
  },
  {
   "cell_type": "markdown",
   "metadata": {},
   "source": [
    "#### Q3 What is the relationship among G1, G2, G3 and Total Grades?\n",
    "- The relationships of G1, G2, G3, and Total Grades(Total_Grade) appears clear upward trends.\n",
    "- G2 and Total Grades(Total_Grade) have a stronger positive correlation. G2 might be a good predict parameter for total grades."
   ]
  },
  {
   "cell_type": "markdown",
   "metadata": {},
   "source": [
    "# Conclusion\n",
    "The overall goal of this research was to determine which reason will affect students' total grades (sum of grade1, grade2, and grade3). Based on the three criteria above, I find that students of GP school have a high mean of total grades. Second, parents' education level can affect students' total grades. Students whose parents have higher education get a higher mean of total grades. Third, three grades of scores and total grades appear positive relationships. If a student can get a high score in grade 1, grade 2, and grade 3, he/she can get a high total grade."
   ]
  },
  {
   "cell_type": "markdown",
   "metadata": {},
   "source": [
    "# References\n",
    "This data comes from the https://archive.ics.uci.edu/\n",
    "\n",
    "Seaborn User guide and tutorial https://seaborn.pydata.org/tutorial.html\n",
    "\n",
    "Matplotlib offical site https://matplotlib.org/"
   ]
  },
  {
   "cell_type": "code",
   "execution_count": null,
   "metadata": {},
   "outputs": [],
   "source": []
  }
 ],
 "metadata": {
  "kernelspec": {
   "display_name": "Python 3",
   "language": "python",
   "name": "python3"
  },
  "language_info": {
   "codemirror_mode": {
    "name": "ipython",
    "version": 3
   },
   "file_extension": ".py",
   "mimetype": "text/x-python",
   "name": "python",
   "nbconvert_exporter": "python",
   "pygments_lexer": "ipython3",
   "version": "3.7.6"
  }
 },
 "nbformat": 4,
 "nbformat_minor": 4
}
