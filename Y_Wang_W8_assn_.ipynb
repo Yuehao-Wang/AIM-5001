{
 "cells": [
  {
   "cell_type": "code",
   "execution_count": 1,
   "metadata": {},
   "outputs": [],
   "source": [
    "import re\n",
    "import pandas as pd"
   ]
  },
  {
   "cell_type": "code",
   "execution_count": 2,
   "metadata": {},
   "outputs": [],
   "source": [
    "original_str = \"555-1239Moe Szyslak(636) 555-0113Burns, C. Montgomery555 -6542Rev. Timothy Lovejoy555 8904Ned Flanders636-555-3226Simpson, Homer5553642Dr. Julius Hibbert\""
   ]
  },
  {
   "cell_type": "markdown",
   "metadata": {},
   "source": [
    "# 1\n",
    "Extract the names of each individual from the unformatted text string and store them in a vector of some sort. When complete, your vector should contain the following entries:\n",
    "    - \"Moe Szyslak\" \"Burns, C. Montgomery\" \"Rev. Timothy Lovejoy\"\n",
    "    - \"Ned Flanders\" \"Simpson,Homer\" \"Dr. Julius Hibbert\""
   ]
  },
  {
   "cell_type": "code",
   "execution_count": 3,
   "metadata": {},
   "outputs": [
    {
     "data": {
      "text/plain": [
       "['Moe Szyslak',\n",
       " 'Burns, C. Montgomery',\n",
       " 'Rev. Timothy Lovejoy',\n",
       " 'Ned Flanders',\n",
       " 'Simpson, Homer',\n",
       " 'Dr. Julius Hibbert']"
      ]
     },
     "execution_count": 3,
     "metadata": {},
     "output_type": "execute_result"
    }
   ],
   "source": [
    "# 1st char is [A-Z]\n",
    "# middle chars are 1 to n [a-zA-Z\\s\\,\\.]\n",
    "# last char is [a-z]\n",
    "pattern = r'[A-Z][a-zA-Z\\s\\,\\.]+[a-z]'\n",
    "\n",
    "# compile pattern\n",
    "regex = re.compile(pattern)\n",
    "\n",
    "# find all\n",
    "original_names = regex.findall(original_str)\n",
    "original_names"
   ]
  },
  {
   "cell_type": "markdown",
   "metadata": {},
   "source": [
    "# 2\n",
    "\n",
    "Using your new vector containing only the names of the six individuals, complete the following tasks:\n",
    "    - a. (4 Points) Use your regex skills to rearrange the vector so that all elements conform to the standard “firstname lastname”, preserving any titles (e.g., “Rev.”, “Dr.”, etc) or middle/second names.\n",
    "    - b. (4 Points) Construct a logical vector indicating whether a character has a title (i.e., Rev. and Dr.).\n",
    "    - c. (4 Points) Construct a logical vector indicating whether a character has a middle/second name"
   ]
  },
  {
   "cell_type": "markdown",
   "metadata": {},
   "source": [
    "#### a. (4 Points) Use your regex skills to rearrange the vector so that all elements conform to the standard “firstname lastname”, preserving any titles (e.g., “Rev.”, “Dr.”, etc) or middle/second names."
   ]
  },
  {
   "cell_type": "code",
   "execution_count": 4,
   "metadata": {},
   "outputs": [
    {
     "data": {
      "text/plain": [
       "['Moe Szyslak',\n",
       " 'Burns, C. Montgomery',\n",
       " 'Rev. Timothy Lovejoy',\n",
       " 'Ned Flanders',\n",
       " 'Simpson, Homer',\n",
       " 'Dr. Julius Hibbert']"
      ]
     },
     "execution_count": 4,
     "metadata": {},
     "output_type": "execute_result"
    }
   ],
   "source": [
    "original_names"
   ]
  },
  {
   "cell_type": "code",
   "execution_count": 5,
   "metadata": {},
   "outputs": [
    {
     "data": {
      "text/plain": [
       "['Moe Szyslak',\n",
       " 'Montgomery C. Burns',\n",
       " 'Rev. Timothy Lovejoy',\n",
       " 'Ned Flanders',\n",
       " 'Homer Simpson',\n",
       " 'Dr. Julius Hibbert']"
      ]
     },
     "execution_count": 5,
     "metadata": {},
     "output_type": "execute_result"
    }
   ],
   "source": [
    "# pattern of middle name\n",
    "pattern_middle_name = r'([\\w]+),\\s([\\w.]+)\\s([\\w]+)'\n",
    "regex_middle_name = re.compile(pattern_middle_name)\n",
    "\n",
    "# pattern of last name, first name\n",
    "pattern_comma_name = r'([\\w]+),\\s([\\w]+)'\n",
    "regex_comma_name = re.compile(pattern_comma_name)\n",
    "\n",
    "# a result list\n",
    "normal_name_list = []\n",
    "\n",
    "# loop all original names\n",
    "for name in original_names:\n",
    "    \n",
    "    # does a name have a comma and a space, like \", \"\n",
    "    is_last_first = name.find(\", \")\n",
    "    \n",
    "    # if string has \", \", it is a \"last name, first name\"\n",
    "    if is_last_first > 0:\n",
    "        \n",
    "        # split a name by space\n",
    "        name_lens_large_2 = re.split('\\s+', name)\n",
    "        \n",
    "        # split a name by ,\n",
    "        has_comma = re.split(',+', name)\n",
    "\n",
    "        # if name has 3 parts\n",
    "        if len(name_lens_large_2) > 2:\n",
    "            \n",
    "            # find middle name\n",
    "            name_list = regex_middle_name.findall(name)\n",
    "            \n",
    "            if len(name_list) > 0:\n",
    "                # change name sequce to (first name middle name last name)\n",
    "                n = name_list[0][2] + ' ' + name_list[0][1] + ' ' + name_list[0][0]\n",
    "                normal_name_list.append(n)\n",
    "\n",
    "        # if name has a comma ','\n",
    "        elif len(has_comma) > 1:\n",
    "            \n",
    "            # find (last name, first name)\n",
    "            name_list = regex_comma_name.findall(name)\n",
    "            \n",
    "            if len(name_list) > 0:\n",
    "                # change name sequce to (first name last name)\n",
    "                n = name_list[0][1] + ' ' + name_list[0][0]\n",
    "                normal_name_list.append(n)\n",
    "    else:\n",
    "        normal_name_list.append(name)\n",
    "        \n",
    "normal_name_list"
   ]
  },
  {
   "cell_type": "markdown",
   "metadata": {},
   "source": [
    "#### b. (4 Points) Construct a logical vector indicating whether a character has a title (i.e., Rev. and Dr.)."
   ]
  },
  {
   "cell_type": "code",
   "execution_count": 6,
   "metadata": {},
   "outputs": [
    {
     "data": {
      "text/plain": [
       "0             Moe Szyslak\n",
       "1     Montgomery C. Burns\n",
       "2    Rev. Timothy Lovejoy\n",
       "3            Ned Flanders\n",
       "4           Homer Simpson\n",
       "5      Dr. Julius Hibbert\n",
       "dtype: object"
      ]
     },
     "execution_count": 6,
     "metadata": {},
     "output_type": "execute_result"
    }
   ],
   "source": [
    "# create a pandas series\n",
    "name_df = pd.Series(normal_name_list)\n",
    "name_df"
   ]
  },
  {
   "cell_type": "code",
   "execution_count": 7,
   "metadata": {},
   "outputs": [
    {
     "data": {
      "text/plain": [
       "0    False\n",
       "1    False\n",
       "2     True\n",
       "3    False\n",
       "4    False\n",
       "5     True\n",
       "dtype: bool"
      ]
     },
     "execution_count": 7,
     "metadata": {},
     "output_type": "execute_result"
    }
   ],
   "source": [
    "# check each data\n",
    "name_df.str.contains('Dr.|Rev.')"
   ]
  },
  {
   "cell_type": "markdown",
   "metadata": {},
   "source": [
    "#### c. (4 Points) Construct a logical vector indicating whether a character has a middle/second name"
   ]
  },
  {
   "cell_type": "code",
   "execution_count": 8,
   "metadata": {},
   "outputs": [
    {
     "data": {
      "text/plain": [
       "0    False\n",
       "1     True\n",
       "2    False\n",
       "3    False\n",
       "4    False\n",
       "5    False\n",
       "dtype: bool"
      ]
     },
     "execution_count": 8,
     "metadata": {},
     "output_type": "execute_result"
    }
   ],
   "source": [
    "# pattern： 1st character is a space, 2nd is one character of A-z, 3rd is ., the end is a space\n",
    "pattern_m = r' [A-z]{1}\\. '\n",
    "name_df.str.contains(pattern_m)"
   ]
  },
  {
   "cell_type": "markdown",
   "metadata": {},
   "source": [
    "# 3  \n",
    "```python\n",
    "Consider the HTML string <title>+++BREAKING NEWS+++<title>. We would like to extract the first HTML tag\n",
    "(i.e., “<title>”). To do so we write the regular expression “<.+>”. Explain why this fails and correct the expression.\n",
    "```"
   ]
  },
  {
   "cell_type": "code",
   "execution_count": 9,
   "metadata": {},
   "outputs": [
    {
     "data": {
      "text/plain": [
       "['<title>+++BREAKING NEWS+++<title>']"
      ]
     },
     "execution_count": 9,
     "metadata": {},
     "output_type": "execute_result"
    }
   ],
   "source": [
    "html3 = '<title>+++BREAKING NEWS+++<title>'\n",
    "pattern3 = r'<.+>'\n",
    "regex = re.compile(pattern3, flags=re.IGNORECASE)\n",
    "regex.findall(html3)\n"
   ]
  },
  {
   "cell_type": "markdown",
   "metadata": {},
   "source": [
    "- <.+>\n",
    "- 1st character is <\n",
    "- . matches any character except a newline.\n",
    "- '+' to match 1 or more repetitions of the preceding\n",
    "- last character is >\n",
    "- so <.+> can match any string that starts a '<' and ends a '>'. "
   ]
  },
  {
   "cell_type": "markdown",
   "metadata": {},
   "source": [
    "#### the right pattern is as following\n",
    "- <[A-z]+>\n",
    "- 1st character is <\n",
    "- [A-z] equals [A-Za-z]\n",
    "- [A-z]+ means 1 or more A-z character\n",
    "- last character is >"
   ]
  },
  {
   "cell_type": "code",
   "execution_count": 10,
   "metadata": {},
   "outputs": [
    {
     "data": {
      "text/plain": [
       "['<title>', '<title>']"
      ]
     },
     "execution_count": 10,
     "metadata": {},
     "output_type": "execute_result"
    }
   ],
   "source": [
    "# can match <any character>\n",
    "pattern_correct3 = r'<[A-z]+>'\n",
    "\n",
    "# compile pattern\n",
    "regex = re.compile(pattern_correct3, flags=re.IGNORECASE)\n",
    "\n",
    "# find all matches\n",
    "result = regex.findall(html3)\n",
    "\n",
    "# print\n",
    "result"
   ]
  },
  {
   "cell_type": "code",
   "execution_count": 11,
   "metadata": {},
   "outputs": [
    {
     "name": "stdout",
     "output_type": "stream",
     "text": [
      "<title>\n"
     ]
    }
   ],
   "source": [
    "# To get the first <title>\n",
    "if len(result) > 0:\n",
    "    print(result[0])"
   ]
  },
  {
   "cell_type": "markdown",
   "metadata": {},
   "source": [
    "# 4\n",
    "```python\n",
    "(6 Points) Consider the string “(5-3)^2=5^2-2*5*3+3^2” conforms to the binomial theorem. We would like to extract\n",
    "the formula in the string. To do so we write the regular expression “[^0-9=+*()]+”. Explain why this fails and correct the\n",
    "expression.\n",
    "```"
   ]
  },
  {
   "cell_type": "code",
   "execution_count": 12,
   "metadata": {},
   "outputs": [
    {
     "data": {
      "text/plain": [
       "['-', '^', '^', '-', '^']"
      ]
     },
     "execution_count": 12,
     "metadata": {},
     "output_type": "execute_result"
    }
   ],
   "source": [
    "formular4 = '(5-3)^2=5^2-2*5*3+3^2'\n",
    "pattern4 = r'[^0-9=+*()]+'\n",
    "regex = re.compile(pattern4, flags=re.IGNORECASE)\n",
    "regex.findall(formular4)"
   ]
  },
  {
   "cell_type": "markdown",
   "metadata": {},
   "source": [
    "- [] is a set. If the first character of the set is '^', all the characters that are not in the set will be matched. [^0-9=+*()] means not digit.\n",
    "- In a set, \\\\^' means a character ^\n",
    "- There is not '-' in '[^0-9=+*()]+', so We should add a '-' "
   ]
  },
  {
   "cell_type": "code",
   "execution_count": 13,
   "metadata": {},
   "outputs": [
    {
     "data": {
      "text/plain": [
       "['(5-3)^2=5^2-2*5*3+3^2']"
      ]
     },
     "execution_count": 13,
     "metadata": {},
     "output_type": "execute_result"
    }
   ],
   "source": [
    "s = '(5-3)^2=5^2-2*5*3+3^2'\n",
    "pattern4 = r'[0-9\\^()*+-=]+'\n",
    "regex = re.compile(pattern4, flags=re.IGNORECASE)\n",
    "regex.findall(s)"
   ]
  },
  {
   "cell_type": "code",
   "execution_count": null,
   "metadata": {},
   "outputs": [],
   "source": []
  }
 ],
 "metadata": {
  "kernelspec": {
   "display_name": "Python 3",
   "language": "python",
   "name": "python3"
  },
  "language_info": {
   "codemirror_mode": {
    "name": "ipython",
    "version": 3
   },
   "file_extension": ".py",
   "mimetype": "text/x-python",
   "name": "python",
   "nbconvert_exporter": "python",
   "pygments_lexer": "ipython3",
   "version": "3.7.6"
  }
 },
 "nbformat": 4,
 "nbformat_minor": 4
}
