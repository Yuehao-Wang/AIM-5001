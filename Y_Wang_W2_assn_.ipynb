{
 "cells": [
  {
   "cell_type": "code",
   "execution_count": 10,
   "metadata": {},
   "outputs": [
    {
     "name": "stdout",
     "output_type": "stream",
     "text": [
      "['high', 'high', '2', '4', 'med', 'low', 'unacc']\n",
      "['high', 'high', '4', 'more', 'small', 'high', 'acc']\n",
      "['high', 'high', '4', 'more', 'big', 'low', 'unacc']\n",
      "['high', 'low', '2', 'more', 'big', 'high', 'acc']\n",
      "['vhigh', 'low', '3', '2', 'med', 'med', 'unacc']\n",
      "['low', 'high', '2', '2', 'small', 'low', 'unacc']\n",
      "['med', 'med', '4', 'more', 'med', 'high', 'vgood']\n",
      "['low', 'low', '3', '2', 'big', 'med', 'unacc']\n",
      "['vhigh', 'low', '2', '2', 'small', 'low', 'unacc']\n",
      "['vhigh', 'high', '4', '4', 'med', 'low', 'unacc']\n",
      "['low', 'low', '2', '2', 'med', 'med', 'unacc']\n",
      "['vhigh', 'low', '4', 'more', 'small', 'high', 'acc']\n",
      "['high', 'low', '2', '4', 'big', 'med', 'acc']\n",
      "['low', 'vhigh', '3', 'more', 'big', 'low', 'unacc']\n",
      "['high', 'low', '5more', '2', 'big', 'med', 'unacc']\n",
      "['vhigh', 'high', '2', 'more', 'med', 'high', 'unacc']\n",
      "['med', 'med', '2', '2', 'small', 'low', 'unacc']\n",
      "['high', 'low', '5more', '4', 'med', 'high', 'acc']\n",
      "['low', 'low', '3', 'more', 'med', 'high', 'vgood']\n",
      "['low', 'low', '2', '2', 'big', 'med', 'unacc']\n",
      "['med', 'high', '4', '2', 'big', 'high', 'unacc']\n",
      "['low', 'low', '2', '2', 'small', 'high', 'unacc']\n",
      "['vhigh', 'high', '5more', '4', 'med', 'med', 'unacc']\n",
      "['med', 'vhigh', '2', '2', 'big', 'low', 'unacc']\n",
      "['low', 'vhigh', '4', '4', 'big', 'low', 'unacc']\n",
      "['vhigh', 'low', '3', 'more', 'big', 'low', 'unacc']\n",
      "['med', 'vhigh', '3', '4', 'small', 'low', 'unacc']\n",
      "['high', 'high', '3', '4', 'med', 'med', 'unacc']\n",
      "['low', 'high', '5more', '2', 'big', 'low', 'unacc']\n",
      "['med', 'high', '5more', '2', 'med', 'med', 'unacc']\n",
      "['high', 'low', '3', '4', 'med', 'high', 'acc']\n",
      "['high', 'vhigh', '5more', '4', 'med', 'med', 'unacc']\n",
      "['low', 'low', '5more', '2', 'med', 'low', 'unacc']\n",
      "['vhigh', 'vhigh', '4', '2', 'big', 'high', 'unacc']\n",
      "['high', 'low', '3', '2', 'big', 'high', 'unacc']\n"
     ]
    }
   ],
   "source": [
    "import csv\n",
    "# be sure to update the path below to reflect your own environment!!\n",
    "# also be sure that the code is properly indented after you paste it!\n",
    "\n",
    "with open('C:/Users/amorn/Documents/yeshiva/workspace/AIM-5001/cars-sample35.txt') as csvfile:\n",
    "    readCSV = csv.reader(csvfile)\n",
    "    for row in readCSV:\n",
    "        # print each row as read by the csv.reader function\n",
    "        print(row)"
   ]
  },
  {
   "cell_type": "markdown",
   "metadata": {},
   "source": [
    "These seven distinct values represent attributes of a single type of automobile. Specifically we have the following:\n",
    "\n",
    "index = 0 - Price\n",
    "\n",
    "index = 1 - Maintenance cost\n",
    "\n",
    "index = 2 - Number of doors\n",
    "\n",
    "index = 3 - Number of passengers\n",
    "\n",
    "index = 4 - Luggage capacity\n",
    "\n",
    "index = 5 - Safety rating\n",
    "\n",
    "index = 6 - Classification of vehicle\n"
   ]
  },
  {
   "cell_type": "code",
   "execution_count": 46,
   "metadata": {},
   "outputs": [
    {
     "name": "stdout",
     "output_type": "stream",
     "text": [
      "35\n",
      "['med', 'small', 'big', 'big', 'med']\n"
     ]
    }
   ],
   "source": [
    "# question 1\n",
    "\"\"\"\n",
    "to read the file again and extract these seven attributes from each line of the file and\n",
    "create seven distinct Python list objects comprised solely of the values you extracted for a given attribute. \n",
    "\"\"\"\n",
    "\n",
    "idx_0 = 0 # index of price is 0\n",
    "idx_1 = 1 # index of maintenance cost is 1\n",
    "idx_2 = 2 # index of number of doors is 2\n",
    "idx_3 = 3 # index of number of passengers is 3\n",
    "idx_4 = 4 # index of luggage capacity is 4\n",
    "idx_5 = 5 # index of safety rating is 5\n",
    "idx_6 = 6 # index of vehicle's classification is 6\n",
    "\n",
    "lst_price = [] # list of price\n",
    "lst_maintain_cost = [] # list of Maintenance cost\n",
    "lst_doors = [] # list of Number of doors\n",
    "lst_passengers = [] # list of Number of passengers\n",
    "lst_luggage = [] # list of Luggage capacity\n",
    "lst_safety_rating = [] # list of Safety rating\n",
    "lst_class = [] # list of Classification of vehicle\n",
    "\n",
    "with open('C:/Users/amorn/Documents/yeshiva/workspace/AIM-5001/cars-sample35.txt') as csvfile:\n",
    "    readCSV = csv.reader(csvfile)\n",
    "    for row in readCSV:\n",
    "        # get different type of data from each row, then put different data into differetn list.\n",
    "        lst_price.append(row[idx_0])\n",
    "        lst_maintain_cost.append(row[idx_1])\n",
    "        lst_doors.append(row[idx_2])\n",
    "        lst_passengers.append(row[idx_3])\n",
    "        lst_luggage.append(row[idx_4])\n",
    "        lst_safety_rating.append(row[idx_5])\n",
    "        lst_class.append(row[idx_6])\n",
    "        \n",
    "print(len(lst_price))\n",
    "print(lst_luggage[:5])"
   ]
  },
  {
   "cell_type": "code",
   "execution_count": 43,
   "metadata": {},
   "outputs": [
    {
     "name": "stdout",
     "output_type": "stream",
     "text": [
      "[6, 16, 20, 23, 26, 29]\n"
     ]
    }
   ],
   "source": [
    "# question 2\n",
    "\"\"\"\n",
    "find the list index values of each automobile having a “price” rating of \"med\".\n",
    "\"\"\"\n",
    "\n",
    "lst_med_price = [] # list of index\n",
    "\n",
    "i = 0\n",
    "for item in lst_price:\n",
    "    # if “price” == \"med\" then put index into lst_med_price\n",
    "    if item == 'med':\n",
    "        lst_med_price.append(i)\n",
    "    i += 1\n",
    "    \n",
    "print(lst_med_price)"
   ]
  },
  {
   "cell_type": "code",
   "execution_count": 45,
   "metadata": {},
   "outputs": [
    {
     "name": "stdout",
     "output_type": "stream",
     "text": [
      "['more', '2', '2', '2', '4', '2']\n"
     ]
    }
   ],
   "source": [
    "# question 3\n",
    "\"\"\"\n",
    "find the \"number of passengers\" value for each auto having a \"price\" value of \"med\".\n",
    "\"\"\"\n",
    "\n",
    "lst_med_price_passengers = [] # list of passengers number\n",
    "\n",
    "i = 0\n",
    "for item in lst_price:\n",
    "    \n",
    "    # if \"price\" = \"med\", then put passengers numbers into lst_med_price_passengers\n",
    "    if item == 'med':\n",
    "        lst_med_price_passengers.append(lst_passengers[i])\n",
    "    i += 1\n",
    "    \n",
    "print(lst_med_price_passengers)"
   ]
  },
  {
   "cell_type": "code",
   "execution_count": 21,
   "metadata": {},
   "outputs": [
    {
     "name": "stdout",
     "output_type": "stream",
     "text": [
      "[0, 1, 2, 27, 31]\n"
     ]
    }
   ],
   "source": [
    "# question 4\n",
    "\"\"\"\n",
    "find the index value for each automobile having a “price” value of \"high\" and a\n",
    "“maintenance” value that is not \"low\".\n",
    "\"\"\"\n",
    "\n",
    "lst_high_price_unlow_maintain = [] # list of index\n",
    "\n",
    "for i in range(len(lst_price)):\n",
    "    price = lst_price[i]\n",
    "    maintain = lst_maintain_cost[i]\n",
    "    \n",
    "    # if \"price\" = \"high\" and \"maintenance\" is not \"low\"\n",
    "    if price == 'high' and maintain != 'low':\n",
    "        lst_high_price_unlow_maintain.append(i) # put index into lst_high_price_unlow_maintain\n",
    "    \n",
    "print(lst_high_price_unlow_maintain)"
   ]
  },
  {
   "cell_type": "code",
   "execution_count": 28,
   "metadata": {},
   "outputs": [
    {
     "name": "stdout",
     "output_type": "stream",
     "text": [
      "[3, 12, 19, 23]\n"
     ]
    }
   ],
   "source": [
    "# question 5\n",
    "\"\"\"\n",
    "find the index value for each auto having 2 doors and a luggage value of \"big\". \n",
    "\"\"\"\n",
    "\n",
    "lst_2_doors_big_luggage = []\n",
    "\n",
    "for i in range(len(lst_doors)):\n",
    "    doors = lst_doors[i]\n",
    "    luggage = lst_luggage[i]\n",
    "    \n",
    "    # if \"doors\" = '2' and luggage capacity == 'big'\n",
    "    if doors == '2' and luggage == 'big':\n",
    "        lst_2_doors_big_luggage.append(i)\n",
    "    \n",
    "print(lst_2_doors_big_luggage)"
   ]
  },
  {
   "cell_type": "code",
   "execution_count": 34,
   "metadata": {},
   "outputs": [
    {
     "name": "stdout",
     "output_type": "stream",
     "text": [
      "[2, 4, 4, 2, 3, 2, 4, 3, 2, 4, 2, 4, 2, 3, 5, 2, 2, 5, 3, 2, 4, 2, 5, 2, 4, 3, 3, 3, 5, 5, 3, 5, 5, 4, 3]\n"
     ]
    }
   ],
   "source": [
    "# question 6\n",
    "# question 6.1\n",
    "\"\"\"\n",
    "If you find any values of '5more' in your list,\n",
    "convert them to a '5'. After converting the '5more' values to '5', \n",
    "convert all of the items in your list to their numeric equivalent\n",
    "\"\"\"\n",
    "\n",
    "lst_int_doors = []\n",
    "\n",
    "for doors in lst_doors:\n",
    "    d = 0\n",
    "    \n",
    "    # if doors is '5more', then replace 'more'\n",
    "    if doors.find('5more'):\n",
    "        tmp = doors.replace('more', '') # replace 'more'\n",
    "        d = int(tmp) # convert into int\n",
    "    else:\n",
    "        d = int(doors) # convert into int\n",
    "    lst_int_doors.append(d)\n",
    "    \n",
    "print(lst_int_doors)"
   ]
  },
  {
   "cell_type": "code",
   "execution_count": 41,
   "metadata": {},
   "outputs": [
    {
     "name": "stdout",
     "output_type": "stream",
     "text": [
      "the average number of doors: 3.31\n"
     ]
    }
   ],
   "source": [
    "# question 6.2\n",
    "\"\"\"\n",
    "calculate the average number of doors across all 35 autos \n",
    "\"\"\"\n",
    "\n",
    "def mean(numbers):\n",
    "\"\"\"\n",
    "Caculate mean of a list.\n",
    "\n",
    "Args:\n",
    "  numbers: A list. Could be a [] list.\n",
    "\n",
    "Returns:\n",
    "  mean, type is float.\n",
    "\n",
    "Raises:\n",
    "  none\n",
    "\n",
    "Sample:\n",
    ">>> lst = [1, 2, 3]\n",
    ">>> mean(lst)\n",
    "2.0\n",
    "\n",
    ">>> lst = []\n",
    ">>> mean()\n",
    "0.0\n",
    "\"\"\"\n",
    "    return float(sum(numbers)) / max(len(numbers), 1)\n",
    "\n",
    "door_mean = mean(lst_int_doors) # calculate the average number of doors\n",
    "\n",
    "print('the average number of doors: %.2f' %door_mean) # formated output"
   ]
  },
  {
   "cell_type": "code",
   "execution_count": null,
   "metadata": {},
   "outputs": [],
   "source": []
  },
  {
   "cell_type": "code",
   "execution_count": null,
   "metadata": {},
   "outputs": [],
   "source": []
  },
  {
   "cell_type": "code",
   "execution_count": null,
   "metadata": {},
   "outputs": [],
   "source": []
  }
 ],
 "metadata": {
  "kernelspec": {
   "display_name": "Python 3",
   "language": "python",
   "name": "python3"
  },
  "language_info": {
   "codemirror_mode": {
    "name": "ipython",
    "version": 3
   },
   "file_extension": ".py",
   "mimetype": "text/x-python",
   "name": "python",
   "nbconvert_exporter": "python",
   "pygments_lexer": "ipython3",
   "version": "3.7.6"
  }
 },
 "nbformat": 4,
 "nbformat_minor": 4
}
