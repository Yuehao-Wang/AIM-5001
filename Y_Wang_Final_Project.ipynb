{
 "cells": [
  {
   "cell_type": "markdown",
   "metadata": {},
   "source": [
    "# Introduce\n",
    "I want to find out the affect between Covid-19 and Real estate price (NYC, Houston and Los Angeles)"
   ]
  },
  {
   "cell_type": "markdown",
   "metadata": {},
   "source": [
    "# Task: Designate Research Questions\n",
    "For this final project, I want to study that does COVID-19 affect Real estate price, in NYC, Houston and Las Angle? For this reason I chose the following questions.\n",
    "\n",
    "- Does COVID-19 affect Real estate price?\n",
    "- What types of houses have been most affected, Apartments, Houses or Condos(Co-ops)?\n",
    "- Should people purchase houses(Apartment, Houses or Condos) now?"
   ]
  },
  {
   "cell_type": "markdown",
   "metadata": {},
   "source": [
    "# Data to be Used\n",
    "\n",
    "- Data source\n",
    "    - Covid-19\n",
    "        - The number of CONFIRMED COVID-19 cases in the United States.\n",
    "        - Download from https://www.kaggle.com/ or https://coronavirus.jhu.edu/map.html\n",
    "    - Sale price of real estate\n",
    "        - To scrap data from Real estate : https://www.redfin.com/\n",
    "\n",
    "- Data storage\n",
    "    - Using PostgreSQL to store the data of Real estate.\n",
    "\n",
    "- To scrap what type of data\n",
    "    - To scrap 3 data of real estate of cities (NYC, Houston and Los Angeles).\n",
    "    - To scrap 3 types of houses (Apartments, Houses and Condos(Co-ops))\n",
    "    - To scrap 20 items for each type of houses in each city.\n",
    "    - To scrap houses sold after March 2020.\n",
    "\n",
    "- COVID-19 data sample:\n",
    "\n",
    "| city | total comfirmed | daily comfirmed | date |\n",
    "| :--- | :--- | :--- | :--- | \n",
    "| NYC | 30,000 | 2,220| 05/20/2020 |\n",
    "| NYC | 33,000 | 3,000| 05/21/2020 |\n",
    "| NYC | 35,000 | 2,000| 05/22/2020 |\n",
    "| LA | 10,000 | 900  | 05/20/2020 |\n",
    "| LA | 11,000 | 1,000| 05/21/2020 |\n",
    "| LA | 13,000 | 2,000| 05/22/2020 |\n",
    "| Hou | 20,000 | 900  | 05/20/2020 |\n",
    "| Hou | 21,000 | 1,000| 05/21/2020 |\n",
    "| Hou | 23,000 | 2,000| 05/22/2020 |\n",
    "\n",
    "\n",
    "- Houses data table sample:\n",
    "\n",
    "| city | house type | price before 2020 (Price/sqft) | price sold in 2020 | sold date| price changed before 2020 | pricec changed in 2020 | changed date in 2020 |\n",
    "| :--- | :--- | :--- | :--- | :--- | :--- | :--- | :--- |\n",
    "| NYC | apt | 100,000 | 120,000 |  07/25/2020 | 90,000 | 130,000 | 05/25/2020 |\n",
    "| NYC | condos | 80,000 | 90,000 |  07/25/2020 | 70,000 | 100,000 | 06/25/2020 |\n",
    "| LA | house | 200,000 | 190,000 |  08/11/2020 | 210,000 | 220,000 | 07/25/2020 |\n",
    "| Hou | condos | 100,000 | 102,000 |  09/22/2020 | 110,000 | 115,000 | 05/25/2020 |"
   ]
  },
  {
   "cell_type": "markdown",
   "metadata": {},
   "source": [
    "# Approach\n",
    "\n",
    "- Data management\n",
    "    - Using relationship databases to store the data of real estate.\n",
    "\n",
    "- Statistical analysis\n",
    "    - Using line chart to illustrate the change of data\n",
    "    - Using hist, box chart to show the concentration of Price/sqft.\n",
    "    - Using scattor chart to find the correlation between Price/sqft and the number of comfirmed\n",
    "Explain how you plan to manage the data you are collecting: e.g., will you be storing it within some sort of database, etc.? \n",
    "\n",
    "Explain what types of statistical analysis you plan to utilize to help answer your research questions. \n",
    "\n",
    "\n",
    "Explain any graphics you plan to generate to help answer you research questions, e.g., \"..we will attempt to construct geoplots that will show how xxxxxx varies between counties within the state of Nevada..\", etc. \n",
    "\n",
    "The reader should come away with a clear understanding of how you plan to proceed with your work. Keep in mind that since this is a proposal, you need to be able to convince the reader that your proposed project is: a) realistic; and b) feasible within the time alloted for the project."
   ]
  }
 ],
 "metadata": {
  "kernelspec": {
   "display_name": "Python 3",
   "language": "python",
   "name": "python3"
  },
  "language_info": {
   "codemirror_mode": {
    "name": "ipython",
    "version": 3
   },
   "file_extension": ".py",
   "mimetype": "text/x-python",
   "name": "python",
   "nbconvert_exporter": "python",
   "pygments_lexer": "ipython3",
   "version": "3.7.6"
  }
 },
 "nbformat": 4,
 "nbformat_minor": 4
}
