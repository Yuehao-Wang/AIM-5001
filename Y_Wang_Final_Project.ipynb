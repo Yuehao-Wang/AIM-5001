{
 "cells": [
  {
   "cell_type": "markdown",
   "metadata": {},
   "source": [
    "# AIM 5001 Final Project Proposal"
   ]
  },
  {
   "cell_type": "markdown",
   "metadata": {},
   "source": [
    "# Introduce\n",
    "In today’s uncertain times, people are looking to data to help determine investment ways in confronting COVID-19. From mitigating risk to gaining essential insight, data helps drive decisions. I with my analytics between COVID-19 and Real estate price (NYC, Houston and Los Angeles) can help people make the decision. I think the U.S. housing markets are most vulnerable to the impact of the Coronavirus pandemic. \n",
    "\n",
    "The first dataset comes from kaggle [link:](https://www.kaggle.com/headsortails/covid19-us-county-jhu-data-demographics). This dataset contains a daily updated number of reported COVID-19 cases & deaths in the US on the state and county level, as provided by the Johns Hopkins University.\n",
    "\n",
    "The second dataset comes from Realtor [link:](https://www.realtor.com/) that has detailed real estate information that comes from MLS. [link:](http://www.mls.com/).\n",
    "\n",
    "Through research questions, I want to analyze and illustrate correlations to COVID-19 and Housing markets as well as to response the followling questions that can help people make a buying housing decision.\n",
    "\n",
    "The first question is does COVID-19 affects the price of the estate. To analyze it, I will choose the daily number of COVID-19 new cases and Price per Sq Ft. In this question, I will illustrate what is the correlation between these two data.\n",
    "\n",
    "The second question is what types of houses have been most affected, Apartments, Houses, or Condos(Co-ops). I will compare the different types of houses.\n",
    "\n",
    "The third question is should people purchase houses, should purchase what types of houses, and does the listed price is the best price?\n",
    "\n",
    "Through data analysis, people not only can see the correlation between COVID-19 and Housing markets but also can make decisions about whether to buy a house or not to buy."
   ]
  },
  {
   "cell_type": "markdown",
   "metadata": {},
   "source": [
    "# Research Questions\n",
    "For this final project, I want to study that does COVID-19 affect Real estate price, in NYC, Houston and Las Angeles? For this reason I chose the following questions.\n",
    "\n",
    "\n",
    "1. Does COVID-19 affects the price of the estate?\n",
    "In new york city, Many people left rented apartments during the COVID-19 pandemic and bought house property. Whether the increasing or decreasing price of the property is related to the pandemic? By analyzing two data of three main cities,(New York City, Houston, and Los Angeles), people can use results to make decisions to invest in real estate.\n",
    "\n",
    "    \n",
    "2. What types of houses have been most affected, Apartments, Houses or Condos(Co-ops)?\n",
    "Because of COVID-19, the housing market has bloomed. People need bigger space to live with their family. Is it true that of all the types of property, only houses have gone up in price? Data analysis can help people find A valuable type of property to invest in?\n",
    "\n",
    "\n",
    "3. Should people purchase houses(Apartment, Houses or Condos) now?\n",
    "Is the impact of COVID-19 on housing temporary or long-term?Have property prices been rising since the beginning of the pandemic?If the rise is what kind of house?People can make rational decisions based on data analysis and decide whether they need to buy a certain type of house."
   ]
  },
  {
   "cell_type": "markdown",
   "metadata": {},
   "source": [
    "# Data to be Used\n",
    "\n",
    "I will use two datasets.\n",
    "\n",
    "The first dataset is a daily updated number of reported COVID-19 cases & deaths in the US on the state, as provided by the Johns Hopkins University. The COVID-19 dataset covid_us_county.csv and Column Description can be found on page [link](https://www.kaggle.com/headsortails/covid19-us-county-jhu-data-demographics). I will download the dataset as csv by python.\n",
    "\n",
    "- COVID-19 data sample:\n",
    "\n",
    "| fips | county | state | lat | long | date | cases | state_code | deaths|\n",
    "| :--- | :--- | :--- | :--- |  :--- | :--- | :--- | :--- | :--- |\n",
    "| 101 | Houston | Texas| 32.53952 | -86.64408 | 2020-01-22 | 0 | TX | 0 |\n",
    "| 1001| Hudson | Texas| 32.53952745 | -86.64408227 | 2020-04-26 | 37 |  TX | 1 |\n",
    "\n",
    "\n",
    "The second dataset is housing market data scraped from Realtor [link:](https://www.realtor.com/). After scraping housing data, I will save them into the PostgreSql database.\n",
    "\n",
    "- To scrape what type of data\n",
    "    - To scrape 3 data of real estate of cities (NYC, Houston and Los Angeles).\n",
    "    - To scrape 3 types of houses (Apartments, Houses and Condos(Co-ops))\n",
    "    - To scrape 20 items for each type of houses in each city.\n",
    "    - To scrape houses history listed prices, sold information and latest listed prices.\n",
    "\n",
    "\n",
    "- Houses data table sample:\n",
    "\n",
    "| county | state | house type | listed price before 2020 (Price/sqft) | listed date before 2020 | price sold in 2020 (Price/sqft) | sold date in 2020 | latest listed price in 2020 (Price/sqft) | latest listed date in 2020 | \n",
    "| :--- | :--- | :--- | :--- | :--- | :--- | :--- | :--- | :--- |\n",
    "|New York|New York| apt | 100,000|  01/25/2019 | 120,000 |  07/25/2020 | 140,000 | 11/13/2020 |\n",
    "|New York|New York | condos | 80,000|  04/04/2019 | 90,000 |  07/25/2020 | 115,000 | 11/08/2020 |\n",
    "|Los Angeles|California | house | 200,000|  03/18/2019  | 190,000 |  08/11/2020 | 115,000 | 11/01/2020 |\n",
    "| Houston|Texas | condos | 100,000|  10/25/2019  | 102,000 |  09/22/2020 | 115,000 | 10/25/2020 |"
   ]
  },
  {
   "cell_type": "markdown",
   "metadata": {},
   "source": [
    "# Approach\n",
    "\n",
    "- Data management\n",
    "    - Using PostgreSQL databases to store the data of real estate.\n",
    "\n",
    "\n",
    "- Statistical analysis\n",
    "    - In the EDA part, I will use clearing data, description, hist chart and correlation to clean and realize these two dataset. In response to my pervious questions, I will choose appropriate columns to analyze.\n",
    "    \n",
    "    - To get a reasonable statistical analysis, I will choose appropriate columns and use appropriate figures to response my pervious questions.\n",
    "        - Using line chart to illustrate the change of the columns for these 2 dataset. Like, to illustrate the new COVID-19 cases per day, and the average property price changes in the 3 cities. \n",
    "        - Using hist, box chart to show the concentration of Price/sqft.\n",
    "        - Using scattor chart to find the correlation between Price/sqft and the number of comfirmed COVID-19.\n",
    "        \n",
    "    - To find the correlation and regression of two datasets, I will use heatmap and scattor with regression line to illustrate results clearly.\n",
    "\n",
    "\n",
    "- New feature\n",
    "    - I want to draw a US map that shows the percentage of housing going up with different colors for 3 cities (NYC, Houston, and Los Angeles). The map lib is [link](https://pypi.org/project/folium/). For example, if NYC has the highest percentage of property increases in 3 cities, the map of NYC will show red."
   ]
  },
  {
   "cell_type": "markdown",
   "metadata": {},
   "source": [
    "# Reference\n",
    "www.kaggle.com. COVID-19 US County JHU Data & Demographics. [online] Available at:https://www.kaggle.com/headsortails/covid19-us-county-jhu-data-demographics [Accessed 13 November 2020].\n",
    "\n",
    "\n",
    "https://pypi.org/. folium 0.11.0 [online] Available at:https://pypi.org/project/folium/ [Accessed 13 November 2020].\n",
    "\n",
    "\n",
    "www.realtor.com/. Real estate online platform. [online] Available at:www.realtor.com/ [Accessed 13 November 2020].\n",
    "\n",
    "\n",
    "https://magazine.realtor. A magazine of real estate. [online] Available at: https://magazine.realtor/news-and-commentary/feature/covid-19-s-impact-on-real-estate [Accessed 13 November 2020]."
   ]
  },
  {
   "cell_type": "code",
   "execution_count": null,
   "metadata": {},
   "outputs": [],
   "source": []
  }
 ],
 "metadata": {
  "kernelspec": {
   "display_name": "Python 3",
   "language": "python",
   "name": "python3"
  },
  "language_info": {
   "codemirror_mode": {
    "name": "ipython",
    "version": 3
   },
   "file_extension": ".py",
   "mimetype": "text/x-python",
   "name": "python",
   "nbconvert_exporter": "python",
   "pygments_lexer": "ipython3",
   "version": "3.7.6"
  }
 },
 "nbformat": 4,
 "nbformat_minor": 4
}
